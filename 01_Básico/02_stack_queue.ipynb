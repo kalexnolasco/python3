{
 "cells": [
  {
   "cell_type": "code",
   "execution_count": 1,
   "id": "bd718925-978a-4407-8225-4aa52fcdfa88",
   "metadata": {},
   "outputs": [
    {
     "name": "stdout",
     "output_type": "stream",
     "text": [
      "Python 3.10.4\n"
     ]
    }
   ],
   "source": [
    "!python --version"
   ]
  },
  {
   "cell_type": "markdown",
   "id": "af973a0b-e2f6-4699-aaca-8ed3a569a224",
   "metadata": {
    "jp-MarkdownHeadingCollapsed": true,
    "tags": []
   },
   "source": [
    "# STACK (LIFO)\n",
    "* Las **listas** se pueden usar como __*stack*__ y tener la funcionalidad **LIFO**(last input->first output).\n",
    "* Se utiliza **pop** para extrar el elemento de parte superior.\n",
    "* Se utiliza **append** para coloar un elemento en la parte superior."
   ]
  },
  {
   "cell_type": "code",
   "execution_count": 2,
   "id": "c92cb1d4-e79a-4c7e-a876-57e4f7d8b89d",
   "metadata": {},
   "outputs": [
    {
     "data": {
      "text/plain": [
       "[]"
      ]
     },
     "execution_count": 2,
     "metadata": {},
     "output_type": "execute_result"
    }
   ],
   "source": [
    "stack = []\n",
    "stack"
   ]
  },
  {
   "cell_type": "code",
   "execution_count": 3,
   "id": "e267708a-746d-45c6-9539-0301254d7c49",
   "metadata": {},
   "outputs": [
    {
     "data": {
      "text/plain": [
       "[5]"
      ]
     },
     "execution_count": 3,
     "metadata": {},
     "output_type": "execute_result"
    }
   ],
   "source": [
    "stack.append(5)\n",
    "stack"
   ]
  },
  {
   "cell_type": "code",
   "execution_count": 4,
   "id": "2a2d49f2-d4e6-4319-ac61-37fbe6988c4a",
   "metadata": {},
   "outputs": [
    {
     "data": {
      "text/plain": [
       "[5, 3]"
      ]
     },
     "execution_count": 4,
     "metadata": {},
     "output_type": "execute_result"
    }
   ],
   "source": [
    "stack.append(3)\n",
    "stack"
   ]
  },
  {
   "cell_type": "code",
   "execution_count": 5,
   "id": "a9c71645-14b3-4788-9c86-b6e55c25601f",
   "metadata": {},
   "outputs": [
    {
     "data": {
      "text/plain": [
       "[5, 3, 7]"
      ]
     },
     "execution_count": 5,
     "metadata": {},
     "output_type": "execute_result"
    }
   ],
   "source": [
    "stack.append(7)\n",
    "stack"
   ]
  },
  {
   "cell_type": "code",
   "execution_count": 6,
   "id": "83d771e3-5b21-465a-8ba0-6d755ad9f43f",
   "metadata": {},
   "outputs": [
    {
     "data": {
      "text/plain": [
       "7"
      ]
     },
     "execution_count": 6,
     "metadata": {},
     "output_type": "execute_result"
    }
   ],
   "source": [
    "# Extraccion de elemento\n",
    "first = stack.pop()\n",
    "first"
   ]
  },
  {
   "cell_type": "code",
   "execution_count": 7,
   "id": "dcab8942-1088-474c-87d8-26ea2ba7a07a",
   "metadata": {},
   "outputs": [
    {
     "data": {
      "text/plain": [
       "[5, 3]"
      ]
     },
     "execution_count": 7,
     "metadata": {},
     "output_type": "execute_result"
    }
   ],
   "source": [
    "stack"
   ]
  },
  {
   "cell_type": "markdown",
   "id": "0b28e716-ea4f-4076-b8d5-67ef25bf834f",
   "metadata": {
    "jp-MarkdownHeadingCollapsed": true,
    "tags": []
   },
   "source": [
    "# QUEUE (FIFO)\n",
    "* Las **listas** se pueden usar como __*queue*__ y tener la funcionalidad **FIFO**(first input->first output).\n",
    "* **No es muy eficiente debido l proceso de insertar al inicio de la lista**.\n",
    "* Se utiliza **insert** para colocar el elemento.\n",
    "* Se utiliza **pop** para tomar el elemento."
   ]
  },
  {
   "cell_type": "code",
   "execution_count": 8,
   "id": "aabcefe6-accb-43c1-a2ea-bb307a52d6aa",
   "metadata": {},
   "outputs": [
    {
     "data": {
      "text/plain": [
       "[]"
      ]
     },
     "execution_count": 8,
     "metadata": {},
     "output_type": "execute_result"
    }
   ],
   "source": [
    "queue = []\n",
    "queue"
   ]
  },
  {
   "cell_type": "code",
   "execution_count": 9,
   "id": "1027e8f5-230c-4019-97b7-32798a85f8f2",
   "metadata": {},
   "outputs": [
    {
     "data": {
      "text/plain": [
       "[5]"
      ]
     },
     "execution_count": 9,
     "metadata": {},
     "output_type": "execute_result"
    }
   ],
   "source": [
    "queue.insert(0, 5)\n",
    "queue"
   ]
  },
  {
   "cell_type": "code",
   "execution_count": 10,
   "id": "becc987b-61a2-4a79-a206-da9f925d6ec1",
   "metadata": {},
   "outputs": [
    {
     "data": {
      "text/plain": [
       "[3, 5]"
      ]
     },
     "execution_count": 10,
     "metadata": {},
     "output_type": "execute_result"
    }
   ],
   "source": [
    "queue.insert(0, 3)\n",
    "queue"
   ]
  },
  {
   "cell_type": "code",
   "execution_count": 11,
   "id": "77bfc08b-9d2c-4db1-a60b-d82c8ae21883",
   "metadata": {},
   "outputs": [
    {
     "data": {
      "text/plain": [
       "[7, 3, 5]"
      ]
     },
     "execution_count": 11,
     "metadata": {},
     "output_type": "execute_result"
    }
   ],
   "source": [
    "queue.insert(0, 7)\n",
    "queue"
   ]
  },
  {
   "cell_type": "code",
   "execution_count": 12,
   "id": "760c5b8b-e27a-44f1-b645-7436381e810c",
   "metadata": {},
   "outputs": [
    {
     "data": {
      "text/plain": [
       "5"
      ]
     },
     "execution_count": 12,
     "metadata": {},
     "output_type": "execute_result"
    }
   ],
   "source": [
    "# Extraccion de elemento\n",
    "first = queue.pop()\n",
    "first"
   ]
  },
  {
   "cell_type": "code",
   "execution_count": 13,
   "id": "741cb183-88ed-4ac8-8e5d-08a80956abc6",
   "metadata": {},
   "outputs": [
    {
     "data": {
      "text/plain": [
       "[7, 3]"
      ]
     },
     "execution_count": 13,
     "metadata": {},
     "output_type": "execute_result"
    }
   ],
   "source": [
    "queue"
   ]
  },
  {
   "cell_type": "markdown",
   "id": "a86087d1-9484-4ca2-90bc-fce18c153564",
   "metadata": {
    "tags": []
   },
   "source": [
    "# QUEUE (FIFO)  Usando Collections.deque\n",
    "* Para mejorar la eficiencia podemos usar collections.deque\n",
    "* Se utiliza **append** para colar el elemento.\n",
    "* Se utiliza **popleft** para tomar el elemento"
   ]
  },
  {
   "cell_type": "code",
   "execution_count": 14,
   "id": "1f1f2a5a-1e30-4d93-b581-be524d5a868c",
   "metadata": {},
   "outputs": [],
   "source": [
    "from collections import deque"
   ]
  },
  {
   "cell_type": "code",
   "execution_count": 15,
   "id": "41f25b3f-67d4-40f2-bcc4-bd11eccaf3e1",
   "metadata": {},
   "outputs": [
    {
     "data": {
      "text/plain": [
       "deque([])"
      ]
     },
     "execution_count": 15,
     "metadata": {},
     "output_type": "execute_result"
    }
   ],
   "source": [
    "q = deque()\n",
    "q"
   ]
  },
  {
   "cell_type": "code",
   "execution_count": 16,
   "id": "01a6e1e7-7281-4011-90b3-7e4f97a96977",
   "metadata": {},
   "outputs": [
    {
     "data": {
      "text/plain": [
       "deque([5])"
      ]
     },
     "execution_count": 16,
     "metadata": {},
     "output_type": "execute_result"
    }
   ],
   "source": [
    "q.append(5)\n",
    "q"
   ]
  },
  {
   "cell_type": "code",
   "execution_count": 17,
   "id": "dc5cc668-1106-4f8b-8a48-e75fcde4625f",
   "metadata": {},
   "outputs": [
    {
     "data": {
      "text/plain": [
       "deque([5, 3])"
      ]
     },
     "execution_count": 17,
     "metadata": {},
     "output_type": "execute_result"
    }
   ],
   "source": [
    "q.append(3)\n",
    "q"
   ]
  },
  {
   "cell_type": "code",
   "execution_count": 18,
   "id": "d00aaae6-ce13-47b5-8456-77823faea1bb",
   "metadata": {},
   "outputs": [
    {
     "data": {
      "text/plain": [
       "deque([5, 3, 7])"
      ]
     },
     "execution_count": 18,
     "metadata": {},
     "output_type": "execute_result"
    }
   ],
   "source": [
    "q.append(7)\n",
    "q"
   ]
  },
  {
   "cell_type": "code",
   "execution_count": 19,
   "id": "cc5b685a-0aa0-4e8e-a3f7-7e833ef4e4e7",
   "metadata": {},
   "outputs": [
    {
     "data": {
      "text/plain": [
       "5"
      ]
     },
     "execution_count": 19,
     "metadata": {},
     "output_type": "execute_result"
    }
   ],
   "source": [
    "# Extraccion de elemento\n",
    "first = q.popleft()\n",
    "first"
   ]
  },
  {
   "cell_type": "code",
   "execution_count": 20,
   "id": "11f95778-7375-4868-a9ec-a719f5dc338c",
   "metadata": {},
   "outputs": [
    {
     "data": {
      "text/plain": [
       "deque([3, 7])"
      ]
     },
     "execution_count": 20,
     "metadata": {},
     "output_type": "execute_result"
    }
   ],
   "source": [
    "q"
   ]
  }
 ],
 "metadata": {
  "kernelspec": {
   "display_name": "Python 3 (ipykernel)",
   "language": "python",
   "name": "python3"
  },
  "language_info": {
   "codemirror_mode": {
    "name": "ipython",
    "version": 3
   },
   "file_extension": ".py",
   "mimetype": "text/x-python",
   "name": "python",
   "nbconvert_exporter": "python",
   "pygments_lexer": "ipython3",
   "version": "3.10.4"
  }
 },
 "nbformat": 4,
 "nbformat_minor": 5
}
