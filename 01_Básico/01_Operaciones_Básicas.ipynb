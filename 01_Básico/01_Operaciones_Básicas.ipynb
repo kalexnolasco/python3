{
 "cells": [
  {
   "cell_type": "code",
   "execution_count": 1,
   "id": "468dfd7c-91de-4ecc-93d4-56086708a0d0",
   "metadata": {},
   "outputs": [
    {
     "name": "stdout",
     "output_type": "stream",
     "text": [
      "Python 3.10.4\n"
     ]
    }
   ],
   "source": [
    "!python --version"
   ]
  },
  {
   "cell_type": "markdown",
   "id": "54a944ae-771a-4fc6-b909-d24305e71baf",
   "metadata": {},
   "source": [
    "### Tabla de contenidos\n",
    "\n",
    "* [Operaciones Aritméticas](#01)\n",
    "* [Variables](#02)\n",
    "* [Uso de Cadenas](#03)\n",
    "  * [Carácter de escape](#03_01)\n",
    "  * [Concatenación](#03_02)\n",
    "  * [Multiplicación](#03_03)\n",
    "  * [Índices](#03_04)\n",
    "     * [Slicing](#03_04_01)\n",
    "* [Uso de Listas](#04)\n",
    "  * [Métodos](#04_01)"
   ]
  },
  {
   "cell_type": "markdown",
   "id": "67040c13-2bd3-425f-a83c-b172c45fe27c",
   "metadata": {},
   "source": [
    "### Operaciones Aritméticas <a class=\"anchor\" id=\"01\"></a>"
   ]
  },
  {
   "cell_type": "markdown",
   "id": "d0abca29-3508-4a86-b6a0-461905d892e2",
   "metadata": {},
   "source": [
    "* Python es un lenguaje de programación **interpretado** -> Significa que, como conforme vamos dando intrucciones esas intrucciones se ejecutan, **no necesita ser compilado!**."
   ]
  },
  {
   "cell_type": "code",
   "execution_count": 2,
   "id": "df07e71b-1ad7-4c6e-9528-07bb7f01fabd",
   "metadata": {},
   "outputs": [
    {
     "data": {
      "text/plain": [
       "8"
      ]
     },
     "execution_count": 2,
     "metadata": {},
     "output_type": "execute_result"
    }
   ],
   "source": [
    "# Suma\n",
    "5 + 3"
   ]
  },
  {
   "cell_type": "code",
   "execution_count": 3,
   "id": "bb4096b4-b6f9-4328-8f35-6c942ff9e0b1",
   "metadata": {},
   "outputs": [
    {
     "data": {
      "text/plain": [
       "2"
      ]
     },
     "execution_count": 3,
     "metadata": {},
     "output_type": "execute_result"
    }
   ],
   "source": [
    "# Resta\n",
    "14 -12"
   ]
  },
  {
   "cell_type": "code",
   "execution_count": 4,
   "id": "780bfe9a-686c-45f5-a977-03da4763691c",
   "metadata": {},
   "outputs": [
    {
     "data": {
      "text/plain": [
       "20"
      ]
     },
     "execution_count": 4,
     "metadata": {},
     "output_type": "execute_result"
    }
   ],
   "source": [
    "# Multiplicación\n",
    "4 * 5"
   ]
  },
  {
   "cell_type": "code",
   "execution_count": 5,
   "id": "aff997b9-634f-407a-b052-ffad5b0b5e92",
   "metadata": {},
   "outputs": [
    {
     "data": {
      "text/plain": [
       "6.0"
      ]
     },
     "execution_count": 5,
     "metadata": {},
     "output_type": "execute_result"
    }
   ],
   "source": [
    "# División (El resultado es de tipo float)\n",
    "18 / 3"
   ]
  },
  {
   "cell_type": "code",
   "execution_count": 6,
   "id": "7c678c76-9160-4bc4-8dc4-e1f10adfeade",
   "metadata": {},
   "outputs": [
    {
     "data": {
      "text/plain": [
       "6"
      ]
     },
     "execution_count": 6,
     "metadata": {},
     "output_type": "execute_result"
    }
   ],
   "source": [
    "# División entera (Sin resuido)\n",
    "18 //3"
   ]
  },
  {
   "cell_type": "code",
   "execution_count": 7,
   "id": "cbc14b24-8b78-4f18-b582-cfdd5946e749",
   "metadata": {},
   "outputs": [
    {
     "data": {
      "text/plain": [
       "1"
      ]
     },
     "execution_count": 7,
     "metadata": {},
     "output_type": "execute_result"
    }
   ],
   "source": [
    "# Módulo o residuo de una división\n",
    "19 % 2"
   ]
  },
  {
   "cell_type": "code",
   "execution_count": 8,
   "id": "1aee7b40-c6a2-4f72-9106-73fc1cc16b84",
   "metadata": {},
   "outputs": [
    {
     "data": {
      "text/plain": [
       "625"
      ]
     },
     "execution_count": 8,
     "metadata": {},
     "output_type": "execute_result"
    }
   ],
   "source": [
    "# Potencias (2 al cubo -> 8)\n",
    "5 ** 4"
   ]
  },
  {
   "cell_type": "code",
   "execution_count": 9,
   "id": "c27ce5a0-5f16-4cd9-9ed5-597d144f5a2a",
   "metadata": {},
   "outputs": [
    {
     "data": {
      "text/plain": [
       "11"
      ]
     },
     "execution_count": 9,
     "metadata": {},
     "output_type": "execute_result"
    }
   ],
   "source": [
    "# Presedencia de operadores\n",
    "5 + 2  * 3"
   ]
  },
  {
   "cell_type": "markdown",
   "id": "38cbc0f4-aa06-4511-8eea-284126d19f84",
   "metadata": {},
   "source": [
    "### Variables <a class=\"anchor\" id=\"02\"></a>"
   ]
  },
  {
   "cell_type": "markdown",
   "id": "5d40b36f-4a0d-4ad2-93d9-86dac51eb0d6",
   "metadata": {},
   "source": [
    "* \"Caja\" que guarda algún valor"
   ]
  },
  {
   "cell_type": "code",
   "execution_count": 10,
   "id": "eccbaf1a-3b43-4669-b90f-9d3dafbaa23e",
   "metadata": {},
   "outputs": [
    {
     "data": {
      "text/plain": [
       "200"
      ]
     },
     "execution_count": 10,
     "metadata": {},
     "output_type": "execute_result"
    }
   ],
   "source": [
    "# Asignamos un valor a la variable 'cost'\n",
    "cost = 200\n",
    "cost"
   ]
  },
  {
   "cell_type": "code",
   "execution_count": 11,
   "id": "67692e50-211b-42e1-9d0d-dd5ef7d088ea",
   "metadata": {},
   "outputs": [
    {
     "data": {
      "text/plain": [
       "150"
      ]
     },
     "execution_count": 11,
     "metadata": {},
     "output_type": "execute_result"
    }
   ],
   "source": [
    "# Se puede modificar el valor del la variable\n",
    "cost = 150\n",
    "cost"
   ]
  },
  {
   "cell_type": "code",
   "execution_count": 12,
   "id": "1b13df2b-2bc7-4f1d-a729-586f8bd9c7a8",
   "metadata": {},
   "outputs": [
    {
     "data": {
      "text/plain": [
       "135.0"
      ]
     },
     "execution_count": 12,
     "metadata": {},
     "output_type": "execute_result"
    }
   ],
   "source": [
    "# Se pueden realizar operaciones con las variables\n",
    "cost * 0.9"
   ]
  },
  {
   "cell_type": "code",
   "execution_count": 13,
   "id": "9703a83d-6993-4dd1-b805-7878a373aa4b",
   "metadata": {},
   "outputs": [
    {
     "data": {
      "text/plain": [
       "135.0"
      ]
     },
     "execution_count": 13,
     "metadata": {},
     "output_type": "execute_result"
    }
   ],
   "source": [
    "# Asignar a otra variable el resultado de alguna operacion\n",
    "total = cost * 0.9\n",
    "total"
   ]
  },
  {
   "cell_type": "markdown",
   "id": "148b8d31-e51b-4ce2-9317-9c8ab033f6b3",
   "metadata": {},
   "source": [
    "### Uso de Cadenas <a class=\"anchor\" id=\"03\"></a>"
   ]
  },
  {
   "cell_type": "markdown",
   "id": "eb580973-7344-4f69-978c-17ac9f776966",
   "metadata": {},
   "source": [
    "* Manejor de **TEXTO**. Uso con comillas simples y comillas dobles"
   ]
  },
  {
   "cell_type": "code",
   "execution_count": 14,
   "id": "ff1e35c5-9d1f-4dfa-98ca-b1486029e47d",
   "metadata": {},
   "outputs": [
    {
     "data": {
      "text/plain": [
       "'Hola a todos'"
      ]
     },
     "execution_count": 14,
     "metadata": {},
     "output_type": "execute_result"
    }
   ],
   "source": [
    "# Comilla simple\n",
    "'Hola a todos'"
   ]
  },
  {
   "cell_type": "code",
   "execution_count": 15,
   "id": "5f5731b6-ac87-4a6a-83d5-1d3ee79ecdad",
   "metadata": {},
   "outputs": [
    {
     "data": {
      "text/plain": [
       "'Hola a todos'"
      ]
     },
     "execution_count": 15,
     "metadata": {},
     "output_type": "execute_result"
    }
   ],
   "source": [
    "# Comilla dobles (Python muestra como comilla simple)\n",
    "\"Hola a todos\""
   ]
  },
  {
   "cell_type": "code",
   "execution_count": 16,
   "id": "0a77d8a1-17cb-4394-b9ce-07559727cce3",
   "metadata": {},
   "outputs": [
    {
     "data": {
      "text/plain": [
       "'El lenguaje es \"Python\" y me gusta programar'"
      ]
     },
     "execution_count": 16,
     "metadata": {},
     "output_type": "execute_result"
    }
   ],
   "source": [
    "# Comillas dobles dentro de comillas simples\n",
    "'El lenguaje es \"Python\" y me gusta programar'"
   ]
  },
  {
   "cell_type": "code",
   "execution_count": 17,
   "id": "4e2cee0c-caa7-4af8-b780-8861d6cde4f8",
   "metadata": {},
   "outputs": [
    {
     "data": {
      "text/plain": [
       "\"El lenguaje es 'Python' y me gusta programar\""
      ]
     },
     "execution_count": 17,
     "metadata": {},
     "output_type": "execute_result"
    }
   ],
   "source": [
    "# Comillas simples dentro de comillas dobles\n",
    "\"El lenguaje es 'Python' y me gusta programar\""
   ]
  },
  {
   "cell_type": "markdown",
   "id": "0d8513e9-631f-48b7-a45b-2c6b10c32f1f",
   "metadata": {},
   "source": [
    "#### Carácter de escape (\\\\) <a class=\"anchor\" id=\"03_01\"></a>"
   ]
  },
  {
   "cell_type": "code",
   "execution_count": 18,
   "id": "0b97f0ec-8000-4eef-a83c-cf69952d999c",
   "metadata": {},
   "outputs": [
    {
     "data": {
      "text/plain": [
       "\"Una palabra es 'hola'\""
      ]
     },
     "execution_count": 18,
     "metadata": {},
     "output_type": "execute_result"
    }
   ],
   "source": [
    "# Uso con comillas simples\n",
    "'Una palabra es \\'hola\\''"
   ]
  },
  {
   "cell_type": "code",
   "execution_count": 19,
   "id": "6b33f1af-82fb-4f38-8e81-69c4539b3e6f",
   "metadata": {},
   "outputs": [
    {
     "data": {
      "text/plain": [
       "'Una palabra es \"hola\"'"
      ]
     },
     "execution_count": 19,
     "metadata": {},
     "output_type": "execute_result"
    }
   ],
   "source": [
    "# Uso con comillas dobles\n",
    "\"Una palabra es \\\"hola\\\"\""
   ]
  },
  {
   "cell_type": "markdown",
   "id": "18922563-8ff8-41d5-a2b0-ea91909e4d6e",
   "metadata": {},
   "source": [
    "#### Concatenación (+)<a class=\"anchor\" id=\"03_02\"></a>"
   ]
  },
  {
   "cell_type": "code",
   "execution_count": 20,
   "id": "42c4fba0-80c5-4025-be11-444c04cac0d2",
   "metadata": {},
   "outputs": [
    {
     "data": {
      "text/plain": [
       "'Hola a todos'"
      ]
     },
     "execution_count": 20,
     "metadata": {},
     "output_type": "execute_result"
    }
   ],
   "source": [
    "# Se concatena dos strings con el operador '+'\n",
    "'Hola' + ' a todos'"
   ]
  },
  {
   "cell_type": "markdown",
   "id": "5d0e5489-0c5b-4f37-8705-79a32a1d4769",
   "metadata": {},
   "source": [
    "#### Multiplicación (*)<a class=\"anchor\" id=\"03_03\"></a>\n",
    "* Repetición de una cadena"
   ]
  },
  {
   "cell_type": "code",
   "execution_count": 21,
   "id": "df2af4c7-ce39-4de5-90bb-4dfa0f9a56b3",
   "metadata": {},
   "outputs": [
    {
     "data": {
      "text/plain": [
       "'HolaHolaHolaHolaHola'"
      ]
     },
     "execution_count": 21,
     "metadata": {},
     "output_type": "execute_result"
    }
   ],
   "source": [
    "'Hola' * 5"
   ]
  },
  {
   "cell_type": "markdown",
   "id": "508506aa-6b67-4a86-b494-36752c96a25e",
   "metadata": {},
   "source": [
    "#### Índices <a class=\"anchor\" id=\"03_04\"></a>\n",
    "| H | o | l | a |   | a | m | i | g | o |\n",
    "| --- | --- | --- | --- | --- | --- | --- | --- | --- | --- |\n",
    "| 0 | 1 | 2 | 3 | 4 | 5 | 6 | 7 | 8 | 9 |\n",
    "| -10 | -9 | -8 | -7 | -6 | -5 | -4 | -3 | -2 | -1 |"
   ]
  },
  {
   "cell_type": "code",
   "execution_count": 22,
   "id": "cf2ee32a-a5da-45f0-9694-391d4465158c",
   "metadata": {},
   "outputs": [
    {
     "data": {
      "text/plain": [
       "'Hola amigo'"
      ]
     },
     "execution_count": 22,
     "metadata": {},
     "output_type": "execute_result"
    }
   ],
   "source": [
    "value = \"Hola amigo\"\n",
    "value"
   ]
  },
  {
   "cell_type": "code",
   "execution_count": 23,
   "id": "6f019e19-0fcf-4b50-9e32-53e7861c8e1d",
   "metadata": {},
   "outputs": [
    {
     "data": {
      "text/plain": [
       "'H'"
      ]
     },
     "execution_count": 23,
     "metadata": {},
     "output_type": "execute_result"
    }
   ],
   "source": [
    "value[0]"
   ]
  },
  {
   "cell_type": "code",
   "execution_count": 24,
   "id": "706409db-ca95-4974-9d03-0889f8dc1270",
   "metadata": {},
   "outputs": [
    {
     "data": {
      "text/plain": [
       "'l'"
      ]
     },
     "execution_count": 24,
     "metadata": {},
     "output_type": "execute_result"
    }
   ],
   "source": [
    "value[-8]"
   ]
  },
  {
   "cell_type": "markdown",
   "id": "5e606314-e335-4636-8deb-63faed7bf4ca",
   "metadata": {},
   "source": [
    "##### Slicing <a class=\"anchor\" id=\"03_04_01\"></a>\n",
    "* Subcadena de cadena.\n",
    "* 'Rebanada'"
   ]
  },
  {
   "cell_type": "code",
   "execution_count": 25,
   "id": "aef9d8c7-8de3-454a-a939-d4eb9ed7686b",
   "metadata": {},
   "outputs": [
    {
     "data": {
      "text/plain": [
       "'Hol'"
      ]
     },
     "execution_count": 25,
     "metadata": {},
     "output_type": "execute_result"
    }
   ],
   "source": [
    "value[0:3]"
   ]
  },
  {
   "cell_type": "code",
   "execution_count": 26,
   "id": "495ff645-9ee7-4fa3-9181-61c93701cf17",
   "metadata": {},
   "outputs": [
    {
     "data": {
      "text/plain": [
       "'Hol'"
      ]
     },
     "execution_count": 26,
     "metadata": {},
     "output_type": "execute_result"
    }
   ],
   "source": [
    "value[:3]"
   ]
  },
  {
   "cell_type": "code",
   "execution_count": 27,
   "id": "161b8c60-06db-4257-ba1b-f7bd05be8ed3",
   "metadata": {},
   "outputs": [
    {
     "data": {
      "text/plain": [
       "'migo'"
      ]
     },
     "execution_count": 27,
     "metadata": {},
     "output_type": "execute_result"
    }
   ],
   "source": [
    "value[-4:]"
   ]
  },
  {
   "cell_type": "code",
   "execution_count": 28,
   "id": "9741ba81-5f40-4d91-b963-25f0e01ac8c6",
   "metadata": {},
   "outputs": [
    {
     "data": {
      "text/plain": [
       "'a ami'"
      ]
     },
     "execution_count": 28,
     "metadata": {},
     "output_type": "execute_result"
    }
   ],
   "source": [
    "value[3:8]"
   ]
  },
  {
   "cell_type": "code",
   "execution_count": 29,
   "id": "3dc0d652-a4cf-46d5-94f5-2c3e6fd02158",
   "metadata": {},
   "outputs": [
    {
     "data": {
      "text/plain": [
       "'ogima aloH'"
      ]
     },
     "execution_count": 29,
     "metadata": {},
     "output_type": "execute_result"
    }
   ],
   "source": [
    "#Reveser!!!\n",
    "value[::-1]"
   ]
  },
  {
   "cell_type": "markdown",
   "id": "01581845-8e29-41e5-8383-ee73fe5054c7",
   "metadata": {},
   "source": [
    "### Uso de Listas <a class=\"anchor\" id=\"04\"></a>\n",
    "* Es un tipo de dato **compuesto**: Sirven para agrupar o tener colecciones de diferentes elementos.\n",
    "* Permite diversidad de operaciones\n",
    "\n",
    "* Las listas son como las cadenas en cuanto a **SLICING** y **ACCESO**. **¡Pero se diferencian en que las cadenas son inmutables y las listas no!**"
   ]
  },
  {
   "cell_type": "code",
   "execution_count": 30,
   "id": "52ddad32-8482-426a-b2ef-ae03df847eca",
   "metadata": {},
   "outputs": [
    {
     "data": {
      "text/plain": [
       "[1, 5, 3, -11]"
      ]
     },
     "execution_count": 30,
     "metadata": {},
     "output_type": "execute_result"
    }
   ],
   "source": [
    "# Lista d elemetos\n",
    "value = [1, 5, 3, -11]\n",
    "value"
   ]
  },
  {
   "cell_type": "code",
   "execution_count": 31,
   "id": "2a48ee37-8184-48e3-8cf2-3f05cbc84ede",
   "metadata": {},
   "outputs": [
    {
     "data": {
      "text/plain": [
       "3"
      ]
     },
     "execution_count": 31,
     "metadata": {},
     "output_type": "execute_result"
    }
   ],
   "source": [
    "# Acceso a los elementos mediantes índices\n",
    "value[2]"
   ]
  },
  {
   "cell_type": "code",
   "execution_count": 32,
   "id": "f65b31e1-80e5-4d92-932d-9b37da173f16",
   "metadata": {},
   "outputs": [
    {
     "data": {
      "text/plain": [
       "280"
      ]
     },
     "execution_count": 32,
     "metadata": {},
     "output_type": "execute_result"
    }
   ],
   "source": [
    "# Operar con el resultado de la lista\n",
    "56 * value[1]"
   ]
  },
  {
   "cell_type": "code",
   "execution_count": 33,
   "id": "bff8bbf8-aa66-4105-8b62-11cee8b4b050",
   "metadata": {},
   "outputs": [
    {
     "data": {
      "text/plain": [
       "5"
      ]
     },
     "execution_count": 33,
     "metadata": {},
     "output_type": "execute_result"
    }
   ],
   "source": [
    "value[1]"
   ]
  },
  {
   "cell_type": "code",
   "execution_count": 34,
   "id": "e1a22694-7b04-41ef-ac48-471f28b4a55b",
   "metadata": {},
   "outputs": [
    {
     "data": {
      "text/plain": [
       "[1, 17, 3, -11]"
      ]
     },
     "execution_count": 34,
     "metadata": {},
     "output_type": "execute_result"
    }
   ],
   "source": [
    "# Cambiamos la posición '1' -> cambiamos 5 por 17\n",
    "value[1] = 17\n",
    "value"
   ]
  },
  {
   "cell_type": "code",
   "execution_count": 35,
   "id": "9e7f4c8e-19df-45f2-8aca-e1cb15954caf",
   "metadata": {},
   "outputs": [
    {
     "data": {
      "text/plain": [
       "[1, 17, 3, -11, 1, 17, 3, -11]"
      ]
     },
     "execution_count": 35,
     "metadata": {},
     "output_type": "execute_result"
    }
   ],
   "source": [
    "# Concatenaciones de listas\n",
    "value + value"
   ]
  },
  {
   "cell_type": "markdown",
   "id": "436d0fb0-c54e-42fa-981f-5d4fad3f2fae",
   "metadata": {},
   "source": [
    "#### Métodos <a class=\"anchor\" id=\"04_01\"></a>"
   ]
  },
  {
   "cell_type": "code",
   "execution_count": 36,
   "id": "010e989f-ce68-4e45-a459-0a1b8b5e7608",
   "metadata": {},
   "outputs": [
    {
     "data": {
      "text/plain": [
       "[1, 17, 3, -11, 56]"
      ]
     },
     "execution_count": 36,
     "metadata": {},
     "output_type": "execute_result"
    }
   ],
   "source": [
    "# Agregar elemento a una lista\n",
    "value.append(56)\n",
    "value"
   ]
  },
  {
   "cell_type": "code",
   "execution_count": 37,
   "id": "53c4bc53-f409-4f35-84d3-74ef1b0d75e9",
   "metadata": {},
   "outputs": [
    {
     "data": {
      "text/plain": [
       "5"
      ]
     },
     "execution_count": 37,
     "metadata": {},
     "output_type": "execute_result"
    }
   ],
   "source": [
    "# Cantidad de elementos de una lista -> LONGITUD\n",
    "len(value)"
   ]
  },
  {
   "cell_type": "code",
   "execution_count": 38,
   "id": "466b667d-e435-456a-b45c-c3f23717e758",
   "metadata": {},
   "outputs": [
    {
     "data": {
      "text/plain": [
       "['a', 'm', 'k']"
      ]
     },
     "execution_count": 38,
     "metadata": {},
     "output_type": "execute_result"
    }
   ],
   "source": [
    "letters = [\"a\", \"m\", \"k\"]\n",
    "letters"
   ]
  },
  {
   "cell_type": "code",
   "execution_count": 39,
   "id": "ddbeea1c-a9cb-40c9-b74e-810139d67d59",
   "metadata": {},
   "outputs": [
    {
     "data": {
      "text/plain": [
       "[[1, 17, 3, -11, 56], ['a', 'm', 'k']]"
      ]
     },
     "execution_count": 39,
     "metadata": {},
     "output_type": "execute_result"
    }
   ],
   "source": [
    "# Lista de Listas. En general las listas pueden contener cualquier tipor de objeto.\n",
    "new_list = [value, letters]\n",
    "new_list"
   ]
  },
  {
   "cell_type": "code",
   "execution_count": 40,
   "id": "5130d219-651a-40be-b068-37f2e88a3cc3",
   "metadata": {},
   "outputs": [
    {
     "data": {
      "text/plain": [
       "['a', 'm', 'k']"
      ]
     },
     "execution_count": 40,
     "metadata": {},
     "output_type": "execute_result"
    }
   ],
   "source": [
    "# Obtener el último elemento de la lista new_list\n",
    "new_list[-1]"
   ]
  },
  {
   "cell_type": "code",
   "execution_count": 41,
   "id": "0ec2bb12-1b00-4cd8-8b4e-96ca6541caf1",
   "metadata": {},
   "outputs": [
    {
     "data": {
      "text/plain": [
       "2"
      ]
     },
     "execution_count": 41,
     "metadata": {},
     "output_type": "execute_result"
    }
   ],
   "source": [
    "# Cantidad de elementos de la lista new_list\n",
    "len(new_list)"
   ]
  },
  {
   "cell_type": "code",
   "execution_count": 42,
   "id": "51b28f94-42db-4ea5-aa2d-67893a78cc2e",
   "metadata": {},
   "outputs": [
    {
     "data": {
      "text/plain": [
       "5"
      ]
     },
     "execution_count": 42,
     "metadata": {},
     "output_type": "execute_result"
    }
   ],
   "source": [
    "# Cantidad de elementos del primer elemento de la lista new_list\n",
    "len(new_list[0])"
   ]
  },
  {
   "cell_type": "code",
   "execution_count": 43,
   "id": "4f3d07aa-53d8-4e32-8ba3-2841e233110b",
   "metadata": {},
   "outputs": [
    {
     "data": {
      "text/plain": [
       "3"
      ]
     },
     "execution_count": 43,
     "metadata": {},
     "output_type": "execute_result"
    }
   ],
   "source": [
    "# Cantidad de elementos del segundo elemento de la lista new_list\n",
    "len(new_list[1])"
   ]
  }
 ],
 "metadata": {
  "kernelspec": {
   "display_name": "Python 3 (ipykernel)",
   "language": "python",
   "name": "python3"
  },
  "language_info": {
   "codemirror_mode": {
    "name": "ipython",
    "version": 3
   },
   "file_extension": ".py",
   "mimetype": "text/x-python",
   "name": "python",
   "nbconvert_exporter": "python",
   "pygments_lexer": "ipython3",
   "version": "3.10.4"
  },
  "toc-autonumbering": false
 },
 "nbformat": 4,
 "nbformat_minor": 5
}
