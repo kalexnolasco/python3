{
 "cells": [
  {
   "cell_type": "markdown",
   "metadata": {
    "id": "8LkEXD60vQju"
   },
   "source": [
    "# Operaciones con arreglos en NumPy"
   ]
  },
  {
   "cell_type": "code",
   "execution_count": 1,
   "metadata": {
    "id": "NQZsKHJOvQjy"
   },
   "outputs": [
    {
     "data": {
      "text/plain": [
       "'1.22.4'"
      ]
     },
     "execution_count": 1,
     "metadata": {},
     "output_type": "execute_result"
    }
   ],
   "source": [
    "import numpy as np\n",
    "np.__version__"
   ]
  },
  {
   "cell_type": "code",
   "execution_count": 2,
   "metadata": {
    "colab": {
     "base_uri": "https://localhost:8080/"
    },
    "id": "9AplgJWPvQjz",
    "outputId": "7fd67b95-3118-4641-ba3e-b97169ec5714"
   },
   "outputs": [
    {
     "name": "stdout",
     "output_type": "stream",
     "text": [
      "[ 0  1  2  3  4  5  6  7  8  9 10]\n",
      "[20 21 22 23 24 25 26 27 28 29 30]\n"
     ]
    }
   ],
   "source": [
    "a1 = np.arange(0,11)\n",
    "print(a1)\n",
    "a2= np.arange(20,31)\n",
    "print(a2)"
   ]
  },
  {
   "cell_type": "markdown",
   "metadata": {
    "id": "00mi9TTxvQj0"
   },
   "source": [
    "## Operaciones aritmeticas\n",
    "* La adición, resta, división y producto por elementos"
   ]
  },
  {
   "cell_type": "code",
   "execution_count": 4,
   "metadata": {
    "colab": {
     "base_uri": "https://localhost:8080/"
    },
    "id": "b_enmgIEvQj0",
    "outputId": "947bc97c-e358-416b-c5cc-12da8f12fb7d"
   },
   "outputs": [
    {
     "name": "stdout",
     "output_type": "stream",
     "text": [
      "[20 22 24 26 28 30 32 34 36 38 40]\n",
      "[-20 -20 -20 -20 -20 -20 -20 -20 -20 -20 -20]\n",
      "[0.         0.04761905 0.09090909 0.13043478 0.16666667 0.2\n",
      " 0.23076923 0.25925926 0.28571429 0.31034483 0.33333333]\n"
     ]
    }
   ],
   "source": [
    "a3=a1+a2\n",
    "print(a3)\n",
    "a4=a1-a2\n",
    "print(a4)\n",
    "a5=a1/a2\n",
    "print(a5)"
   ]
  },
  {
   "cell_type": "markdown",
   "metadata": {
    "id": "-BbnhEfRvQj1"
   },
   "source": [
    "* Se pueden hacer operaciones con escalares, el escalar va a hacer un **broadcast** a los elementos del array."
   ]
  },
  {
   "cell_type": "code",
   "execution_count": 6,
   "metadata": {
    "colab": {
     "base_uri": "https://localhost:8080/"
    },
    "id": "2BIj1lhxvQj1",
    "outputId": "35186511-ac6d-425a-e40e-9401f6f5a82d"
   },
   "outputs": [
    {
     "name": "stdout",
     "output_type": "stream",
     "text": [
      "[50 51 52 53 54 55 56 57 58 59 60]\n",
      "[-10  -9  -8  -7  -6  -5  -4  -3  -2  -1   0]\n",
      "[ 0  3  6  9 12 15 18 21 24 27 30]\n",
      "[   0    1    8   27   64  125  216  343  512  729 1000]\n"
     ]
    }
   ],
   "source": [
    "a6= a1+50\n",
    "print(a6)\n",
    "a7= a1-10\n",
    "print(a7)\n",
    "a8=a1*3\n",
    "print(a8)\n",
    "a9=a1**3\n",
    "print(a9)"
   ]
  },
  {
   "cell_type": "markdown",
   "metadata": {
    "id": "A3gE52jZvQj2"
   },
   "source": [
    "## Funciones universales\n",
    "* Funciones universales de arreglos, son operaciones matemáticas que hacen **broadcast** al arreglo completo**\n",
    "  * sqrt ->$\\sqrt{}$: raiz cuadrada.\n",
    "  * exp ->$e^x$\n",
    "  * `max` encuentra el máximo.\n",
    "  * $\\sin$, $\\cos$, etc funciones trigonometricas, en radianes.\n",
    "  * $log$ logaritmo natural. $Log(0) = -inf$, obtenemos un warning.\n",
    "* https://docs.scipy.org/doc/numpy/reference/ufuncs.html"
   ]
  },
  {
   "cell_type": "code",
   "execution_count": 7,
   "metadata": {
    "colab": {
     "base_uri": "https://localhost:8080/"
    },
    "id": "w7u2n4olvQj3",
    "outputId": "d5b05b52-3918-491f-b49e-388239d46b25"
   },
   "outputs": [
    {
     "name": "stdout",
     "output_type": "stream",
     "text": [
      "[0.         1.         1.41421356 1.73205081 2.         2.23606798\n",
      " 2.44948974 2.64575131 2.82842712 3.         3.16227766]\n",
      "[1.00000000e+00 2.71828183e+00 7.38905610e+00 2.00855369e+01\n",
      " 5.45981500e+01 1.48413159e+02 4.03428793e+02 1.09663316e+03\n",
      " 2.98095799e+03 8.10308393e+03 2.20264658e+04]\n",
      "10\n",
      "[ 0.          0.84147098  0.90929743  0.14112001 -0.7568025  -0.95892427\n",
      " -0.2794155   0.6569866   0.98935825  0.41211849 -0.54402111]\n"
     ]
    }
   ],
   "source": [
    "a10=np.sqrt(a1)\n",
    "print(a10)\n",
    "a11=np.exp(a1)\n",
    "print(a11)\n",
    "maximo=np.max(a1)\n",
    "print(maximo)\n",
    "a12=np.sin(a1)\n",
    "print(a12)"
   ]
  },
  {
   "cell_type": "code",
   "execution_count": 8,
   "metadata": {
    "colab": {
     "base_uri": "https://localhost:8080/"
    },
    "id": "UFvBzvnkvQj4",
    "outputId": "605b9a78-5891-47ae-c222-66b52fba2fb5"
   },
   "outputs": [
    {
     "name": "stdout",
     "output_type": "stream",
     "text": [
      "[2.99573227 3.04452244 3.09104245 3.13549422 3.17805383 3.21887582\n",
      " 3.25809654 3.29583687 3.33220451 3.36729583 3.40119738]\n"
     ]
    }
   ],
   "source": [
    "# Al usar log tenemos que tener cuidado con valores que sean 0\n",
    "a13=np.log(a2)\n",
    "print(a13)"
   ]
  },
  {
   "cell_type": "markdown",
   "metadata": {
    "id": "3omB3L-SvQj4"
   },
   "source": [
    "* Podemos obtener la sumatoria de los elementos del arrgo"
   ]
  },
  {
   "cell_type": "code",
   "execution_count": 9,
   "metadata": {
    "colab": {
     "base_uri": "https://localhost:8080/"
    },
    "id": "Hj7P70u9vQj5",
    "outputId": "8ca8e3e7-fd2f-4a95-da3a-c380a6cb23ea"
   },
   "outputs": [
    {
     "name": "stdout",
     "output_type": "stream",
     "text": [
      "55\n"
     ]
    }
   ],
   "source": [
    "sumatoria=a1.sum()\n",
    "print(sumatoria)"
   ]
  },
  {
   "cell_type": "markdown",
   "metadata": {
    "id": "LboG2mFRvQj5"
   },
   "source": [
    "* Ahora la desviacion estandard"
   ]
  },
  {
   "cell_type": "code",
   "execution_count": 10,
   "metadata": {
    "colab": {
     "base_uri": "https://localhost:8080/"
    },
    "id": "GdxBAnQevQj6",
    "outputId": "0ba2edd1-6027-4f7e-8512-6d39eb7a9a05"
   },
   "outputs": [
    {
     "name": "stdout",
     "output_type": "stream",
     "text": [
      "3.1622776601683795\n"
     ]
    }
   ],
   "source": [
    "desv=a1.std()\n",
    "print(desv)"
   ]
  },
  {
   "cell_type": "markdown",
   "metadata": {
    "id": "KeVTjJYgvQj6"
   },
   "source": [
    "## Opeaciones con filas y columnas\n",
    "* Ahora podemos obtener la suma de filas o columnas de una matriz"
   ]
  },
  {
   "cell_type": "code",
   "execution_count": 11,
   "metadata": {
    "colab": {
     "base_uri": "https://localhost:8080/"
    },
    "id": "t4RyLgkevQj6",
    "outputId": "6c48022a-4ea9-486c-998f-734c92905171"
   },
   "outputs": [
    {
     "name": "stdout",
     "output_type": "stream",
     "text": [
      "[[ 1  2  3  4  5]\n",
      " [ 6  7  8  9 10]\n",
      " [11 12 13 14 15]\n",
      " [16 17 18 19 20]\n",
      " [21 22 23 24 25]]\n"
     ]
    }
   ],
   "source": [
    "m1=np.arange(1,26).reshape(5,5)\n",
    "print(m1)"
   ]
  },
  {
   "cell_type": "code",
   "execution_count": 12,
   "metadata": {
    "colab": {
     "base_uri": "https://localhost:8080/"
    },
    "id": "u4KgxaOsvQj6",
    "outputId": "d2b7c63d-859f-44b6-a0b4-5a5f339c658d"
   },
   "outputs": [
    {
     "name": "stdout",
     "output_type": "stream",
     "text": [
      "[55 60 65 70 75]\n"
     ]
    }
   ],
   "source": [
    "# axis=0 -> suma de columnas\n",
    "# axis=1 -> suma de filas\n",
    "sumCol=m1.sum(axis=0)\n",
    "print(sumCol)"
   ]
  },
  {
   "cell_type": "code",
   "execution_count": 13,
   "metadata": {
    "colab": {
     "base_uri": "https://localhost:8080/"
    },
    "id": "hy3ATxRdvQj7",
    "outputId": "26c2f9d5-d556-4ab9-eab2-3432ddf446b7"
   },
   "outputs": [
    {
     "name": "stdout",
     "output_type": "stream",
     "text": [
      "[ 15  40  65  90 115]\n"
     ]
    }
   ],
   "source": [
    "sumFila=m1.sum(axis=1)\n",
    "print(sumFila)"
   ]
  },
  {
   "cell_type": "markdown",
   "metadata": {
    "id": "bpjuVROtJNFk"
   },
   "source": [
    "# Concatenacion de arrays\n",
    "* Los arrays se pueden concatenar, pero debemos de **tener cuidado con las dimensiones para que se pueda llevar a cabo**.\n",
    "* Se puede concatenar mas de dos arreglos a la vez"
   ]
  },
  {
   "cell_type": "code",
   "execution_count": 14,
   "metadata": {
    "colab": {
     "base_uri": "https://localhost:8080/"
    },
    "id": "Fi1x9RQGJcgh",
    "outputId": "7c21eaab-89ea-4d88-f4ee-c17097e00ef0"
   },
   "outputs": [
    {
     "name": "stdout",
     "output_type": "stream",
     "text": [
      "[ 0  1  2  3  4  5  6  7  8  9 10] (11,)\n",
      "[20 21 22 23 24 25 26 27 28 29 30] (11,)\n",
      "[ 0  1  2  3  4  5  6  7  8  9 10 20 21 22 23 24 25 26 27 28 29 30] (22,)\n"
     ]
    }
   ],
   "source": [
    "print(a1,a1.shape)\n",
    "print(a2,a2.shape)\n",
    "concatenado=np.concatenate([a1,a2])\n",
    "print(concatenado,concatenado.shape)"
   ]
  },
  {
   "cell_type": "code",
   "execution_count": 15,
   "metadata": {
    "colab": {
     "base_uri": "https://localhost:8080/"
    },
    "id": "43W0WQgnJo85",
    "outputId": "a2a7886d-b4be-4bc4-a9f4-abacceb9e971"
   },
   "outputs": [
    {
     "name": "stdout",
     "output_type": "stream",
     "text": [
      "[[1 2 3]\n",
      " [4 5 6]] (2, 3)\n",
      "[[11 12 13]\n",
      " [14 15 16]] (2, 3)\n"
     ]
    }
   ],
   "source": [
    "ma1=np.array([[1,2,3],[4,5,6]])\n",
    "ma2=np.array([[11,12,13],[14,15,16]])\n",
    "print(ma1,ma1.shape)\n",
    "print(ma2,ma2.shape)"
   ]
  },
  {
   "cell_type": "code",
   "execution_count": 18,
   "metadata": {
    "colab": {
     "base_uri": "https://localhost:8080/"
    },
    "id": "UchglyVlKW_r",
    "outputId": "87d94d62-e0a8-43eb-8318-fec6ce75687a"
   },
   "outputs": [
    {
     "name": "stdout",
     "output_type": "stream",
     "text": [
      "[[ 1  2  3]\n",
      " [ 4  5  6]\n",
      " [11 12 13]\n",
      " [14 15 16]]\n",
      "(4, 3)\n"
     ]
    }
   ],
   "source": [
    "# Concatenamos en el eje 0\n",
    "mc0=np.concatenate([ma1,ma2], axis=0)\n",
    "print(mc0)\n",
    "print(mc0.shape)"
   ]
  },
  {
   "cell_type": "code",
   "execution_count": 19,
   "metadata": {
    "colab": {
     "base_uri": "https://localhost:8080/"
    },
    "id": "2-Xs3rDZKjEZ",
    "outputId": "84d37635-9fa9-45df-ef8e-e8a7e2428bc6"
   },
   "outputs": [
    {
     "name": "stdout",
     "output_type": "stream",
     "text": [
      "[[ 1  2  3 11 12 13]\n",
      " [ 4  5  6 14 15 16]]\n",
      "(2, 6)\n"
     ]
    }
   ],
   "source": [
    "# Concatenamos en el eje 1\n",
    "mc1=np.concatenate([ma1,ma2], axis=1)\n",
    "print(mc1)\n",
    "print(mc1.shape)"
   ]
  },
  {
   "cell_type": "code",
   "execution_count": 21,
   "metadata": {
    "colab": {
     "base_uri": "https://localhost:8080/",
     "height": 270
    },
    "id": "Nyo4qzW_KrGx",
    "outputId": "2c714e40-33b7-40a8-861d-eb00a0dacc4d"
   },
   "outputs": [
    {
     "name": "stdout",
     "output_type": "stream",
     "text": [
      "[[21 22]\n",
      " [31 32]] (2, 2)\n"
     ]
    },
    {
     "ename": "ValueError",
     "evalue": "all the input array dimensions for the concatenation axis must match exactly, but along dimension 1, the array at index 0 has size 3 and the array at index 1 has size 2",
     "output_type": "error",
     "traceback": [
      "\u001b[0;31m---------------------------------------------------------------------------\u001b[0m",
      "\u001b[0;31mValueError\u001b[0m                                Traceback (most recent call last)",
      "Input \u001b[0;32mIn [21]\u001b[0m, in \u001b[0;36m<cell line: 5>\u001b[0;34m()\u001b[0m\n\u001b[1;32m      2\u001b[0m \u001b[38;5;28mprint\u001b[39m(ma3,ma3\u001b[38;5;241m.\u001b[39mshape)\n\u001b[1;32m      4\u001b[0m \u001b[38;5;66;03m# Un error se produce cuando las dimensiones no coinciden. ma1 tiene 3 columnas, ma3 tiene 2 columnas\u001b[39;00m\n\u001b[0;32m----> 5\u001b[0m mc\u001b[38;5;241m=\u001b[39m\u001b[43mnp\u001b[49m\u001b[38;5;241;43m.\u001b[39;49m\u001b[43mconcatenate\u001b[49m\u001b[43m(\u001b[49m\u001b[43m[\u001b[49m\u001b[43mma1\u001b[49m\u001b[43m,\u001b[49m\u001b[43mma3\u001b[49m\u001b[43m]\u001b[49m\u001b[43m,\u001b[49m\u001b[43m \u001b[49m\u001b[43maxis\u001b[49m\u001b[38;5;241;43m=\u001b[39;49m\u001b[38;5;241;43m0\u001b[39;49m\u001b[43m)\u001b[49m\n",
      "File \u001b[0;32m<__array_function__ internals>:180\u001b[0m, in \u001b[0;36mconcatenate\u001b[0;34m(*args, **kwargs)\u001b[0m\n",
      "\u001b[0;31mValueError\u001b[0m: all the input array dimensions for the concatenation axis must match exactly, but along dimension 1, the array at index 0 has size 3 and the array at index 1 has size 2"
     ]
    }
   ],
   "source": [
    "ma3=np.array([[21,22],[31,32]])\n",
    "print(ma3,ma3.shape)\n",
    "\n",
    "# Un error se produce cuando las dimensiones no coinciden. ma1 tiene 3 columnas, ma3 tiene 2 columnas\n",
    "mc=np.concatenate([ma1,ma3], axis=0)"
   ]
  },
  {
   "cell_type": "markdown",
   "metadata": {
    "id": "u7XoH06eLR-1"
   },
   "source": [
    "# Split\n",
    "* Se puede separar el array en varios subarrays.\n",
    "* Hay que tener cuidado que se pueda dividir la cantidad de columnas/filas de forma exacta entre el número de divisiones que deseamos"
   ]
  },
  {
   "cell_type": "code",
   "execution_count": 22,
   "metadata": {
    "colab": {
     "base_uri": "https://localhost:8080/"
    },
    "id": "2iPAa3KhK2ZR",
    "outputId": "6c873353-5e2c-4f4e-865d-5f41adce46f7"
   },
   "outputs": [
    {
     "name": "stdout",
     "output_type": "stream",
     "text": [
      "[ 0  1  2  3  4  5  6  7  8  9 10 11]\n",
      "[array([0, 1, 2, 3]), array([4, 5, 6, 7]), array([ 8,  9, 10, 11])]\n",
      "------\n",
      "[array([0, 1, 2]), array([3, 4, 5]), array([6, 7, 8]), array([ 9, 10, 11])]\n"
     ]
    }
   ],
   "source": [
    "a1=np.arange(12)\n",
    "print(a1)\n",
    "\n",
    "# Indicamos el array a dividir y el numero de divisiones\n",
    "divisiones= np.split(a1,3)\n",
    "print(divisiones)\n",
    "print('------')\n",
    "divisiones= np.split(a1,4)\n",
    "print(divisiones)"
   ]
  },
  {
   "cell_type": "code",
   "execution_count": 23,
   "metadata": {
    "colab": {
     "base_uri": "https://localhost:8080/",
     "height": 356
    },
    "id": "Kfv_2ve8LpwR",
    "outputId": "a8df755f-385b-4df6-f8b5-c51921a5ee9c"
   },
   "outputs": [
    {
     "ename": "ValueError",
     "evalue": "array split does not result in an equal division",
     "output_type": "error",
     "traceback": [
      "\u001b[0;31m---------------------------------------------------------------------------\u001b[0m",
      "\u001b[0;31mValueError\u001b[0m                                Traceback (most recent call last)",
      "Input \u001b[0;32mIn [23]\u001b[0m, in \u001b[0;36m<cell line: 2>\u001b[0;34m()\u001b[0m\n\u001b[1;32m      1\u001b[0m \u001b[38;5;66;03m# Veamos que ocurre si no hay division exacta\u001b[39;00m\n\u001b[0;32m----> 2\u001b[0m divisiones\u001b[38;5;241m=\u001b[39m \u001b[43mnp\u001b[49m\u001b[38;5;241;43m.\u001b[39;49m\u001b[43msplit\u001b[49m\u001b[43m(\u001b[49m\u001b[43ma1\u001b[49m\u001b[43m,\u001b[49m\u001b[38;5;241;43m5\u001b[39;49m\u001b[43m)\u001b[49m\n\u001b[1;32m      3\u001b[0m \u001b[38;5;28mprint\u001b[39m(divisiones)\n",
      "File \u001b[0;32m<__array_function__ internals>:180\u001b[0m, in \u001b[0;36msplit\u001b[0;34m(*args, **kwargs)\u001b[0m\n",
      "File \u001b[0;32m~/miniconda3/envs/python3.10/lib/python3.10/site-packages/numpy/lib/shape_base.py:872\u001b[0m, in \u001b[0;36msplit\u001b[0;34m(ary, indices_or_sections, axis)\u001b[0m\n\u001b[1;32m    870\u001b[0m     N \u001b[38;5;241m=\u001b[39m ary\u001b[38;5;241m.\u001b[39mshape[axis]\n\u001b[1;32m    871\u001b[0m     \u001b[38;5;28;01mif\u001b[39;00m N \u001b[38;5;241m%\u001b[39m sections:\n\u001b[0;32m--> 872\u001b[0m         \u001b[38;5;28;01mraise\u001b[39;00m \u001b[38;5;167;01mValueError\u001b[39;00m(\n\u001b[1;32m    873\u001b[0m             \u001b[38;5;124m'\u001b[39m\u001b[38;5;124marray split does not result in an equal division\u001b[39m\u001b[38;5;124m'\u001b[39m) \u001b[38;5;28;01mfrom\u001b[39;00m \u001b[38;5;28mNone\u001b[39m\n\u001b[1;32m    874\u001b[0m \u001b[38;5;28;01mreturn\u001b[39;00m array_split(ary, indices_or_sections, axis)\n",
      "\u001b[0;31mValueError\u001b[0m: array split does not result in an equal division"
     ]
    }
   ],
   "source": [
    "# Veamos que ocurre si no hay division exacta\n",
    "divisiones= np.split(a1,5)\n",
    "print(divisiones)"
   ]
  },
  {
   "cell_type": "code",
   "execution_count": 24,
   "metadata": {
    "colab": {
     "base_uri": "https://localhost:8080/"
    },
    "id": "UwFckRn7MlqA",
    "outputId": "5ac2d8ac-49fb-48e1-bfe8-8c4b02327019"
   },
   "outputs": [
    {
     "name": "stdout",
     "output_type": "stream",
     "text": [
      "[array([0, 1]), array([2, 3, 4, 5, 6]), array([ 7,  8,  9, 10, 11])]\n"
     ]
    }
   ],
   "source": [
    "# Podemos indicar los indices donde deseamos las divisiones\n",
    "# Pasamos una lista con los indices donde deseamos el corte\n",
    "divisiones=np.split(a1,[2,7])\n",
    "print(divisiones)"
   ]
  },
  {
   "cell_type": "code",
   "execution_count": 25,
   "metadata": {
    "colab": {
     "base_uri": "https://localhost:8080/"
    },
    "id": "lk3cHygJMv1Y",
    "outputId": "c77b7b39-b880-4777-e281-8ad914873b47"
   },
   "outputs": [
    {
     "name": "stdout",
     "output_type": "stream",
     "text": [
      "[array([0, 1, 2]), array([3, 4, 5]), array([6, 7]), array([8, 9]), array([10, 11])]\n"
     ]
    }
   ],
   "source": [
    "# Si deseamos hacer divisiones aunque no tengan la misma cantidad de elementos\n",
    "# usamos array_split en lugar de split\n",
    "divisiones= np.array_split(a1,5)\n",
    "print(divisiones)"
   ]
  },
  {
   "cell_type": "markdown",
   "metadata": {
    "id": "_diVwVQjNVlR"
   },
   "source": [
    "Los splits anteriores funcionan de manera horizontal, pero tambien hay funciones para dividir arrays de forma vertical"
   ]
  },
  {
   "cell_type": "code",
   "execution_count": 26,
   "metadata": {
    "colab": {
     "base_uri": "https://localhost:8080/"
    },
    "id": "xgDmawaONEto",
    "outputId": "0206a9be-b1e9-482f-f586-2f1945baa5b9"
   },
   "outputs": [
    {
     "name": "stdout",
     "output_type": "stream",
     "text": [
      "[[ 0  1  2  3]\n",
      " [ 4  5  6  7]\n",
      " [ 8  9 10 11]\n",
      " [12 13 14 15]\n",
      " [16 17 18 19]\n",
      " [20 21 22 23]]\n"
     ]
    }
   ],
   "source": [
    "a3=np.arange(24).reshape(-1,4)\n",
    "print(a3)"
   ]
  },
  {
   "cell_type": "code",
   "execution_count": 27,
   "metadata": {
    "colab": {
     "base_uri": "https://localhost:8080/"
    },
    "id": "9ccqVNgdNuq_",
    "outputId": "e295977d-3c90-4392-be98-8d1f75ffebb1"
   },
   "outputs": [
    {
     "name": "stdout",
     "output_type": "stream",
     "text": [
      "[array([[0, 1, 2, 3],\n",
      "       [4, 5, 6, 7]]), array([[ 8,  9, 10, 11],\n",
      "       [12, 13, 14, 15]]), array([[16, 17, 18, 19],\n",
      "       [20, 21, 22, 23]])]\n",
      "------\n",
      "[[0 1 2 3]\n",
      " [4 5 6 7]]\n",
      "------\n",
      "[[ 8  9 10 11]\n",
      " [12 13 14 15]]\n",
      "------\n",
      "[[16 17 18 19]\n",
      " [20 21 22 23]]\n",
      "------\n"
     ]
    }
   ],
   "source": [
    "# vsplit() nos permite dividir a partir de las filas\n",
    "dividido=np.vsplit(a3,3)\n",
    "print(dividido)\n",
    "print('------')\n",
    "for n in dividido:\n",
    "  print(n)\n",
    "  print('------')"
   ]
  },
  {
   "cell_type": "code",
   "execution_count": 28,
   "metadata": {
    "colab": {
     "base_uri": "https://localhost:8080/"
    },
    "id": "6ryzBz-MOIX2",
    "outputId": "9953526c-e41f-4d26-dd98-edc932878889"
   },
   "outputs": [
    {
     "name": "stdout",
     "output_type": "stream",
     "text": [
      "[array([[ 0,  1],\n",
      "       [ 4,  5],\n",
      "       [ 8,  9],\n",
      "       [12, 13],\n",
      "       [16, 17],\n",
      "       [20, 21]]), array([[ 2,  3],\n",
      "       [ 6,  7],\n",
      "       [10, 11],\n",
      "       [14, 15],\n",
      "       [18, 19],\n",
      "       [22, 23]])]\n",
      "------\n",
      "[[ 0  1]\n",
      " [ 4  5]\n",
      " [ 8  9]\n",
      " [12 13]\n",
      " [16 17]\n",
      " [20 21]]\n",
      "------\n",
      "[[ 2  3]\n",
      " [ 6  7]\n",
      " [10 11]\n",
      " [14 15]\n",
      " [18 19]\n",
      " [22 23]]\n",
      "------\n"
     ]
    }
   ],
   "source": [
    "# hsplit() nos permite dividir a partir de las columnas\n",
    "dividido=np.hsplit(a3,2)\n",
    "print(dividido)\n",
    "print('------')\n",
    "for n in dividido:\n",
    "  print(n)\n",
    "  print('------')"
   ]
  }
 ],
 "metadata": {
  "colab": {
   "collapsed_sections": [],
   "name": "Numpy03.ipynb",
   "provenance": []
  },
  "kernelspec": {
   "display_name": "Python 3 (ipykernel)",
   "language": "python",
   "name": "python3"
  },
  "language_info": {
   "codemirror_mode": {
    "name": "ipython",
    "version": 3
   },
   "file_extension": ".py",
   "mimetype": "text/x-python",
   "name": "python",
   "nbconvert_exporter": "python",
   "pygments_lexer": "ipython3",
   "version": "3.10.4"
  }
 },
 "nbformat": 4,
 "nbformat_minor": 4
}
