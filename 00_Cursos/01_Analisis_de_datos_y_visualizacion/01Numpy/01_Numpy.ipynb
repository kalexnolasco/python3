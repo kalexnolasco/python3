{
 "cells": [
  {
   "cell_type": "markdown",
   "metadata": {
    "id": "M3o37Blel-ll"
   },
   "source": [
    "# Introducción a Numpy"
   ]
  },
  {
   "cell_type": "markdown",
   "metadata": {
    "id": "lZH0te4ll5I2"
   },
   "source": [
    "# Numpy\n",
    "\n",
    "* Numpy es una biblioteca de **algebra lineal** para Python.\n",
    "* Casi todas las bibliotecas de Python para **Data Science** y **ML** se basan en Numpy.\n",
    "* Es muy **rápido**."
   ]
  },
  {
   "cell_type": "markdown",
   "metadata": {
    "id": "8XGG-m_Zl5I6"
   },
   "source": [
    "## Arreglos\n",
    "\n",
    "* Veamos los areglos en Numpy.\n",
    "* Tenemos dos tipos básicos: **vectores** y **matrices**.\n",
    "  * El **vector** es un arreglo de una dimension.\n",
    "  * La **matriz** es un arreglo que en la mayoria de las veces sera de dos dimensiones, pero **podemos tener una matriz de una sola fila o una sola columna**, pero hay que tener cuidado de no confundirlas con el tipo vector.\n"
   ]
  },
  {
   "cell_type": "markdown",
   "metadata": {
    "id": "olPytlJ8l5I7"
   },
   "source": [
    "Lo primero que tenemos que hacer es importar numpy"
   ]
  },
  {
   "cell_type": "code",
   "execution_count": 2,
   "metadata": {},
   "outputs": [
    {
     "name": "stdout",
     "output_type": "stream",
     "text": [
      "Collecting numpy\n",
      "  Downloading numpy-1.22.4-cp310-cp310-manylinux_2_17_x86_64.manylinux2014_x86_64.whl (16.8 MB)\n",
      "\u001b[2K     \u001b[38;2;114;156;31m━━━━━━━━━━━━━━━━━━━━━━━━━━━━━━━━━━━━━━━━\u001b[0m \u001b[32m16.8/16.8 MB\u001b[0m \u001b[31m28.2 MB/s\u001b[0m eta \u001b[36m0:00:00\u001b[0mm eta \u001b[36m0:00:01\u001b[0m[36m0:00:01\u001b[0m\n",
      "\u001b[?25hInstalling collected packages: numpy\n",
      "Successfully installed numpy-1.22.4\n"
     ]
    }
   ],
   "source": [
    "! pip install numpy"
   ]
  },
  {
   "cell_type": "code",
   "execution_count": 4,
   "metadata": {
    "id": "rC654GvAl5I7"
   },
   "outputs": [
    {
     "data": {
      "text/plain": [
       "'1.22.4'"
      ]
     },
     "execution_count": 4,
     "metadata": {},
     "output_type": "execute_result"
    }
   ],
   "source": [
    "import numpy as np\n",
    "np.__version__"
   ]
  },
  {
   "cell_type": "markdown",
   "metadata": {
    "id": "tZBjXRhJl5I8"
   },
   "source": [
    "### Listas y listas anidadas a arreglos\n",
    "* Ahora convertiremos una lista de Python a un Array"
   ]
  },
  {
   "cell_type": "code",
   "execution_count": 5,
   "metadata": {
    "colab": {
     "base_uri": "https://localhost:8080/"
    },
    "id": "zQ85-MQBl5I9",
    "outputId": "d63f9a5d-411e-41c6-828c-d47fe9b4ec70"
   },
   "outputs": [
    {
     "name": "stdout",
     "output_type": "stream",
     "text": [
      "[1, 2, 3, 6, 7, 8]\n",
      "[1 2 3 6 7 8]\n"
     ]
    }
   ],
   "source": [
    "lista=[1,2,3,6,7,8]\n",
    "print(lista)\n",
    "\n",
    "arreglo=np.array(lista)\n",
    "print(arreglo)"
   ]
  },
  {
   "cell_type": "code",
   "execution_count": 8,
   "metadata": {},
   "outputs": [
    {
     "name": "stdout",
     "output_type": "stream",
     "text": [
      "88\n",
      "152\n",
      "160\n"
     ]
    }
   ],
   "source": [
    "import sys\n",
    "print(sys.getsizeof(tuple(lista)))\n",
    "print(sys.getsizeof(lista))\n",
    "print(sys.getsizeof(arreglo))"
   ]
  },
  {
   "cell_type": "markdown",
   "metadata": {
    "id": "nCvSlDuGl5I-"
   },
   "source": [
    "* Vamos a crear una matriz desde una lista de listas de Python\n",
    "* Es bueno notar que cuando tenemos un par de $[[$ indica que es un arreglo de dos dimensiones\n",
    "* Es importante notar como se representan diferente visualmente la lista anidada y la matriz de numpy"
   ]
  },
  {
   "cell_type": "code",
   "execution_count": 9,
   "metadata": {
    "colab": {
     "base_uri": "https://localhost:8080/"
    },
    "id": "OcRAQa_rl5I_",
    "outputId": "9bb238f6-d6eb-4e0e-de49-793d3a981ddc"
   },
   "outputs": [
    {
     "name": "stdout",
     "output_type": "stream",
     "text": [
      "[[1, 2, 3], [4, 5, 6]]\n",
      "[[1 2 3]\n",
      " [4 5 6]]\n"
     ]
    }
   ],
   "source": [
    "miMatriz=[[1,2,3],[4,5,6]]\n",
    "print(miMatriz)\n",
    "\n",
    "matriz=np.array(miMatriz)\n",
    "print(matriz)"
   ]
  },
  {
   "cell_type": "code",
   "execution_count": 10,
   "metadata": {},
   "outputs": [
    {
     "name": "stdout",
     "output_type": "stream",
     "text": [
      "56\n",
      "72\n",
      "176\n"
     ]
    }
   ],
   "source": [
    "print(sys.getsizeof(tuple(miMatriz)))\n",
    "print(sys.getsizeof(miMatriz))\n",
    "print(sys.getsizeof(matriz))"
   ]
  },
  {
   "cell_type": "markdown",
   "metadata": {
    "id": "HopwshnUl5I_",
    "tags": []
   },
   "source": [
    "### Creación de arreglos desde numpy\n",
    "* Numpy también tiene sus **propios mecanismos para crear los arreglos sin tener que depender de las listas de Python**.\n",
    "* Una forma es por medio de `arange`, que crea un rango. Pasamos el valor de inicio, el final, el paso.\n",
    "* El valor que colocamos como delimitador final no se incluye en el rango y tampoco en array."
   ]
  },
  {
   "cell_type": "markdown",
   "metadata": {},
   "source": [
    "* `np.arange(inicio, final, paso)`"
   ]
  },
  {
   "cell_type": "code",
   "execution_count": 16,
   "metadata": {
    "colab": {
     "base_uri": "https://localhost:8080/"
    },
    "id": "ddDcNG0yl5JA",
    "outputId": "20bf99e3-0cf5-4b1b-f531-9166f01582e4"
   },
   "outputs": [
    {
     "name": "stdout",
     "output_type": "stream",
     "text": [
      "[1 2 3 4 5 6 7 8 9]\n"
     ]
    }
   ],
   "source": [
    "a=np.arange(1,10)\n",
    "print(a)"
   ]
  },
  {
   "cell_type": "code",
   "execution_count": 14,
   "metadata": {
    "colab": {
     "base_uri": "https://localhost:8080/"
    },
    "id": "_GV2sRc1l5JA",
    "outputId": "cbbe7fda-6a01-443c-a4d8-0c86ca556700"
   },
   "outputs": [
    {
     "name": "stdout",
     "output_type": "stream",
     "text": [
      "[ 0  1  2  3  4  5  6  7  8  9 10]\n"
     ]
    }
   ],
   "source": [
    "a=np.arange(0,11)\n",
    "print(a)"
   ]
  },
  {
   "cell_type": "code",
   "execution_count": 18,
   "metadata": {
    "colab": {
     "base_uri": "https://localhost:8080/"
    },
    "id": "NJFlDJN2l5JB",
    "outputId": "ff3cfe08-bbb7-4667-b6d0-a84a0467d5e3"
   },
   "outputs": [
    {
     "name": "stdout",
     "output_type": "stream",
     "text": [
      "[ 0  2  4  6  8 10 12 14 16 18]\n"
     ]
    }
   ],
   "source": [
    "a=np.arange(0,20,2)\n",
    "print(a)"
   ]
  },
  {
   "cell_type": "markdown",
   "metadata": {
    "id": "QtIlMWPDl5JB"
   },
   "source": [
    "### Funciones para arreglos especificos, zero, ones, linspace, eye\n",
    "* Tenemos funciones para generar tipos especificos de arreglos\n",
    "  * zeros crea un arreglo lleno de ceros\n",
    "  * Con un parametro indicamos la cantidad de elementos\n",
    "  * Con una tupla indicamos la cantidad de filas y columnas"
   ]
  },
  {
   "cell_type": "code",
   "execution_count": 19,
   "metadata": {
    "colab": {
     "base_uri": "https://localhost:8080/"
    },
    "id": "Gf1VshXUl5JC",
    "outputId": "5f73698c-9a54-4d4c-e5cb-14b10e0b0dc1"
   },
   "outputs": [
    {
     "name": "stdout",
     "output_type": "stream",
     "text": [
      "[0. 0. 0. 0. 0.]\n"
     ]
    }
   ],
   "source": [
    "a0=np.zeros(5)\n",
    "print(a0)"
   ]
  },
  {
   "cell_type": "code",
   "execution_count": 8,
   "metadata": {
    "colab": {
     "base_uri": "https://localhost:8080/"
    },
    "id": "f4BQTytvl5JC",
    "outputId": "1f93879c-6cd3-4a1d-f01f-89b98ebd7a09"
   },
   "outputs": [
    {
     "name": "stdout",
     "output_type": "stream",
     "text": [
      "[[0. 0. 0. 0. 0.]\n",
      " [0. 0. 0. 0. 0.]\n",
      " [0. 0. 0. 0. 0.]]\n"
     ]
    }
   ],
   "source": [
    "m0=np.zeros((3,5))\n",
    "print(m0)"
   ]
  },
  {
   "cell_type": "markdown",
   "metadata": {
    "id": "2ytXsJ2Dl5JC"
   },
   "source": [
    "* Podemos hacer lo mismo pero con unos, al usar ones"
   ]
  },
  {
   "cell_type": "code",
   "execution_count": 20,
   "metadata": {
    "colab": {
     "base_uri": "https://localhost:8080/"
    },
    "id": "KhlaTy4ol5JD",
    "outputId": "692a1fbf-7e5e-46fc-dc92-13d65c453796"
   },
   "outputs": [
    {
     "name": "stdout",
     "output_type": "stream",
     "text": [
      "[1. 1. 1. 1. 1.]\n",
      "[[1. 1. 1. 1. 1.]\n",
      " [1. 1. 1. 1. 1.]\n",
      " [1. 1. 1. 1. 1.]]\n"
     ]
    }
   ],
   "source": [
    "a1=np.ones(5)\n",
    "print(a1)\n",
    "\n",
    "m1=np.ones((3,5))\n",
    "print(m1)"
   ]
  },
  {
   "cell_type": "markdown",
   "metadata": {
    "id": "y4mI9drql5JD"
   },
   "source": [
    "* `linspace` nos sirve para colocar n puntos que esten distribuidos uniformemente entre inicio y fin\n",
    "* Por ejemplo cuatro puntos que esten distribuidos uniformemente entre 0 y 10. El fin es incluido."
   ]
  },
  {
   "cell_type": "code",
   "execution_count": 22,
   "metadata": {
    "colab": {
     "base_uri": "https://localhost:8080/"
    },
    "id": "sX3FVBl7l5JD",
    "outputId": "1fc214f1-a274-49d8-91a8-29fc5568924e"
   },
   "outputs": [
    {
     "name": "stdout",
     "output_type": "stream",
     "text": [
      "[ 0.          3.33333333  6.66666667 10.        ]\n"
     ]
    }
   ],
   "source": [
    "# np.linspace(inicio, final, poarticiones)\n",
    "a2=np.linspace(0,10,4)\n",
    "print(a2)"
   ]
  },
  {
   "cell_type": "code",
   "execution_count": 23,
   "metadata": {
    "colab": {
     "base_uri": "https://localhost:8080/"
    },
    "id": "Jq1Dus_Hl5JE",
    "outputId": "d379f121-738e-40bf-847e-26f4c7ffdecc"
   },
   "outputs": [
    {
     "name": "stdout",
     "output_type": "stream",
     "text": [
      "[ 0.          1.66666667  3.33333333  5.          6.66666667  8.33333333\n",
      " 10.        ]\n"
     ]
    }
   ],
   "source": [
    "a2=np.linspace(0,10,7)\n",
    "print(a2)"
   ]
  },
  {
   "cell_type": "markdown",
   "metadata": {
    "id": "txmU_LkVl5JE"
   },
   "source": [
    "* Podemos crear rapidamente una matriz identidad al usar `eye`.\n",
    "* Solo colocamos un digito que es la cantidad de columnas/filas de la matriz.\n",
    "* Es una **matriz cuadrada**.\n"
   ]
  },
  {
   "cell_type": "code",
   "execution_count": 12,
   "metadata": {
    "colab": {
     "base_uri": "https://localhost:8080/"
    },
    "id": "6FfW8FB8l5JE",
    "outputId": "9403910b-2711-4df2-ea4a-6c455bcf2ebf"
   },
   "outputs": [
    {
     "name": "stdout",
     "output_type": "stream",
     "text": [
      "[[1. 0. 0. 0. 0.]\n",
      " [0. 1. 0. 0. 0.]\n",
      " [0. 0. 1. 0. 0.]\n",
      " [0. 0. 0. 1. 0.]\n",
      " [0. 0. 0. 0. 1.]]\n"
     ]
    }
   ],
   "source": [
    "m2=np.eye(5)\n",
    "print(m2)"
   ]
  },
  {
   "cell_type": "markdown",
   "metadata": {
    "id": "NJ5ov_mBl5JF"
   },
   "source": [
    "### Arreglos creados con valores aleatorios\n",
    "* Podemos crear arreglos con valores aleatorios que tengan una **distribucion normal** entre 0 y 1."
   ]
  },
  {
   "cell_type": "code",
   "execution_count": 26,
   "metadata": {
    "colab": {
     "base_uri": "https://localhost:8080/"
    },
    "id": "NBgKKArKl5JF",
    "outputId": "3b592146-88e9-4b84-9f2c-eef962966096"
   },
   "outputs": [
    {
     "name": "stdout",
     "output_type": "stream",
     "text": [
      "[0.26493765 0.08088771 0.71975133 0.6703138  0.74423829]\n"
     ]
    }
   ],
   "source": [
    "a3=np.random.rand(5)\n",
    "print(a3)"
   ]
  },
  {
   "cell_type": "code",
   "execution_count": 38,
   "metadata": {
    "colab": {
     "base_uri": "https://localhost:8080/"
    },
    "id": "Czepch3Rl5JF",
    "outputId": "676ddf51-1281-478f-e0ce-b3be7bb1b8cf"
   },
   "outputs": [
    {
     "name": "stdout",
     "output_type": "stream",
     "text": [
      "[[0.4703742  0.63888573 0.78928203 0.23325968 0.88501818]\n",
      " [0.63966336 0.28698743 0.15802279 0.90902216 0.42551734]\n",
      " [0.41499043 0.92412672 0.70018052 0.31019489 0.81452391]]\n"
     ]
    }
   ],
   "source": [
    "m3=np.random.rand(3,5)\n",
    "print(m3)"
   ]
  },
  {
   "cell_type": "markdown",
   "metadata": {
    "id": "d0JZbWAol5JF"
   },
   "source": [
    "* Si lo deseamos con la **distribucion normal centrada** en 0 y varianza de 1, usamos `randn`."
   ]
  },
  {
   "cell_type": "code",
   "execution_count": 39,
   "metadata": {
    "colab": {
     "base_uri": "https://localhost:8080/"
    },
    "id": "eUcs0HHMl5JG",
    "outputId": "5facdb9c-6623-4943-c65b-1cd2b933c120"
   },
   "outputs": [
    {
     "name": "stdout",
     "output_type": "stream",
     "text": [
      "[ 0.77312309 -1.7270281   1.59971024 -0.34684593 -0.58112251]\n"
     ]
    }
   ],
   "source": [
    "a4=np.random.randn(5)\n",
    "print(a4)"
   ]
  },
  {
   "cell_type": "code",
   "execution_count": 16,
   "metadata": {
    "colab": {
     "base_uri": "https://localhost:8080/"
    },
    "id": "ks4sQ_zol5JG",
    "outputId": "3b4c5074-c6b8-430d-986d-da30cbf15db9"
   },
   "outputs": [
    {
     "name": "stdout",
     "output_type": "stream",
     "text": [
      "[[ 0.17144277 -0.60497703  0.36412277  0.99111403  0.01523456]\n",
      " [ 1.53041328  0.39057472  0.06024697  0.25410226 -1.19290207]\n",
      " [ 2.06735321  1.35292351 -1.07995207  0.01094494  0.48487079]]\n"
     ]
    }
   ],
   "source": [
    "m4=np.random.randn(3,5)\n",
    "print(m4)"
   ]
  },
  {
   "cell_type": "markdown",
   "metadata": {
    "id": "JJcfdcWtl5JG"
   },
   "source": [
    "* Cuando necesitamos crear **enteros aleatorios entre dos números** usamos `randint`.\n",
    "* Pasamos el menor, el mayor y la cantidad de numeros. No toma al numero mayor."
   ]
  },
  {
   "cell_type": "code",
   "execution_count": 48,
   "metadata": {
    "colab": {
     "base_uri": "https://localhost:8080/"
    },
    "id": "d5E-7s1el5JG",
    "outputId": "119623a4-c859-47aa-cd1f-9524ae77772d"
   },
   "outputs": [
    {
     "name": "stdout",
     "output_type": "stream",
     "text": [
      "[ 8 11  6 10 13]\n"
     ]
    }
   ],
   "source": [
    "# np.random.randint(menor,mayor,cantidad_de_numeros)\n",
    "a5=np.random.randint(3,15,5)\n",
    "print(a5)"
   ]
  },
  {
   "cell_type": "code",
   "execution_count": 49,
   "metadata": {
    "colab": {
     "base_uri": "https://localhost:8080/"
    },
    "id": "LQO8Bosml5JH",
    "outputId": "a7dc5854-01d0-41fa-cf04-188feb7cc2c5"
   },
   "outputs": [
    {
     "name": "stdout",
     "output_type": "stream",
     "text": [
      "[[ 3 12  5 11  4]\n",
      " [13 10  7  5 12]\n",
      " [14 11 12  6 11]]\n"
     ]
    }
   ],
   "source": [
    "m5=np.random.randint(3,15,(3,5))\n",
    "print(m5)"
   ]
  },
  {
   "cell_type": "markdown",
   "metadata": {
    "id": "sgDVAYoYl5JH"
   },
   "source": [
    "### Shape y reshape\n",
    "* Podemos conocer las dimensiones de los arreglos al usar `shape`."
   ]
  },
  {
   "cell_type": "code",
   "execution_count": 50,
   "metadata": {
    "colab": {
     "base_uri": "https://localhost:8080/"
    },
    "id": "0RCREUqyl5JH",
    "outputId": "39b056b0-c5a9-42c6-c7ec-8bb70b5baab1"
   },
   "outputs": [
    {
     "name": "stdout",
     "output_type": "stream",
     "text": [
      "(5,)\n",
      "(3, 5)\n",
      "3\n",
      "5\n",
      "3\n"
     ]
    }
   ],
   "source": [
    "print(a5.shape)\n",
    "print(m5.shape)\n",
    "\n",
    "\n",
    "print(m5.shape[0]) # Obtnemos la cantidad de filas\n",
    "print(m5.shape[1]) # Obtnemos la cantidad de columnas\n",
    "print(len(m5))"
   ]
  },
  {
   "cell_type": "markdown",
   "metadata": {
    "id": "6HLqlqbgl5JH"
   },
   "source": [
    "* El método `reshape` nos permite **conservar la información pero cambiar la forma** del arreglo."
   ]
  },
  {
   "cell_type": "code",
   "execution_count": 51,
   "metadata": {
    "colab": {
     "base_uri": "https://localhost:8080/"
    },
    "id": "Jh2LZKEbl5JH",
    "outputId": "a6d206da-73c4-47f1-e946-aeccf4ce9292"
   },
   "outputs": [
    {
     "name": "stdout",
     "output_type": "stream",
     "text": [
      "[54 38 10 33 28  7 76  0 22 91]\n"
     ]
    }
   ],
   "source": [
    "a6=np.random.randint(0,100,10)\n",
    "print(a6)"
   ]
  },
  {
   "cell_type": "code",
   "execution_count": 52,
   "metadata": {
    "colab": {
     "base_uri": "https://localhost:8080/"
    },
    "id": "9B-_25nil5JI",
    "outputId": "12431d4f-9507-4f8e-a25f-100bc4bf75d8"
   },
   "outputs": [
    {
     "name": "stdout",
     "output_type": "stream",
     "text": [
      "(10,)\n"
     ]
    }
   ],
   "source": [
    "print(a6.shape)"
   ]
  },
  {
   "cell_type": "code",
   "execution_count": 53,
   "metadata": {
    "colab": {
     "base_uri": "https://localhost:8080/"
    },
    "id": "aKgANayEl5JI",
    "outputId": "2f75572a-3b05-4ce0-93f2-094ef62f394a"
   },
   "outputs": [
    {
     "name": "stdout",
     "output_type": "stream",
     "text": [
      "[[54 38 10 33 28]\n",
      " [ 7 76  0 22 91]]\n"
     ]
    }
   ],
   "source": [
    "m7=a6.reshape(2,5)\n",
    "print(m7)"
   ]
  },
  {
   "cell_type": "code",
   "execution_count": 54,
   "metadata": {
    "colab": {
     "base_uri": "https://localhost:8080/"
    },
    "id": "JuUZ5hHxl5JI",
    "outputId": "0a57af72-ba1a-4fcd-8dc4-6a89e9490a46"
   },
   "outputs": [
    {
     "name": "stdout",
     "output_type": "stream",
     "text": [
      "[54 38 10 33 28  7 76  0 22 91]\n"
     ]
    }
   ],
   "source": [
    "# El arreglo original conserva su forma\n",
    "print(a6)"
   ]
  },
  {
   "cell_type": "markdown",
   "metadata": {
    "id": "FO4Bef0el5JI"
   },
   "source": [
    "* Si no hay elementos suficientes o se exceden para el nuevo shape, obtenemos un **error**.\n",
    "* Se deben de utilizar todos los elementos"
   ]
  },
  {
   "cell_type": "code",
   "execution_count": 55,
   "metadata": {
    "colab": {
     "base_uri": "https://localhost:8080/",
     "height": 182
    },
    "id": "pRyY1z8pl5JI",
    "outputId": "142f1072-fe20-4c79-b22e-f9b9f1fa6dd7"
   },
   "outputs": [
    {
     "ename": "ValueError",
     "evalue": "cannot reshape array of size 10 into shape (2,7)",
     "output_type": "error",
     "traceback": [
      "\u001b[0;31m---------------------------------------------------------------------------\u001b[0m",
      "\u001b[0;31mValueError\u001b[0m                                Traceback (most recent call last)",
      "Input \u001b[0;32mIn [55]\u001b[0m, in \u001b[0;36m<cell line: 1>\u001b[0;34m()\u001b[0m\n\u001b[0;32m----> 1\u001b[0m m7\u001b[38;5;241m=\u001b[39m\u001b[43ma6\u001b[49m\u001b[38;5;241;43m.\u001b[39;49m\u001b[43mreshape\u001b[49m\u001b[43m(\u001b[49m\u001b[38;5;241;43m2\u001b[39;49m\u001b[43m,\u001b[49m\u001b[38;5;241;43m7\u001b[39;49m\u001b[43m)\u001b[49m\n\u001b[1;32m      2\u001b[0m \u001b[38;5;28mprint\u001b[39m(m7)\n",
      "\u001b[0;31mValueError\u001b[0m: cannot reshape array of size 10 into shape (2,7)"
     ]
    }
   ],
   "source": [
    "m7=a6.reshape(2,7)\n",
    "print(m7)"
   ]
  },
  {
   "cell_type": "code",
   "execution_count": 62,
   "metadata": {},
   "outputs": [
    {
     "name": "stdout",
     "output_type": "stream",
     "text": [
      "[16  9 16 27 16 26 26 24 17 24 28 18]\n",
      "[[16  9]\n",
      " [16 27]\n",
      " [16 26]\n",
      " [26 24]\n",
      " [17 24]\n",
      " [28 18]]\n",
      "[[16  9 16 27]\n",
      " [16 26 26 24]\n",
      " [17 24 28 18]]\n"
     ]
    }
   ],
   "source": [
    "# Ejercicio\n",
    "x = np.random.randint(5, 30, 12)\n",
    "print(x)\n",
    "x2 = x.reshape(6,2)\n",
    "print(x2)\n",
    "x3 = x.reshape(3,4)\n",
    "print(x3)"
   ]
  },
  {
   "cell_type": "markdown",
   "metadata": {
    "id": "vUowvwxVl5JJ"
   },
   "source": [
    "* El valor de **-1** nos indica que Python debe de encontrar en lo posible la cantidad de elementos, ya sea para esa fila o columna.\n",
    "* Digamos que queremos que se tengan 2 filas y que python encuentre la cantidad de columnas.\n",
    "* Cuidado por que deben de usarse todos los elementos para evitar un error"
   ]
  },
  {
   "cell_type": "code",
   "execution_count": 59,
   "metadata": {
    "colab": {
     "base_uri": "https://localhost:8080/"
    },
    "id": "UR0zL8inl5JJ",
    "outputId": "c04ebb90-0cb5-4e83-e922-88836aba7de2"
   },
   "outputs": [
    {
     "name": "stdout",
     "output_type": "stream",
     "text": [
      "[[54 38 10 33 28]\n",
      " [ 7 76  0 22 91]]\n"
     ]
    }
   ],
   "source": [
    "m8=a6.reshape(2,-1)\n",
    "print(m8)"
   ]
  },
  {
   "cell_type": "markdown",
   "metadata": {
    "id": "l_cFC1cul5JJ"
   },
   "source": [
    "Ahora queremos 2 columnas y la cantidad de filas que las deduzca python"
   ]
  },
  {
   "cell_type": "code",
   "execution_count": 64,
   "metadata": {
    "colab": {
     "base_uri": "https://localhost:8080/"
    },
    "id": "3BnPj-6pl5JJ",
    "outputId": "10ed640a-8bbb-45be-ef35-054e2a0fe54b"
   },
   "outputs": [
    {
     "name": "stdout",
     "output_type": "stream",
     "text": [
      "[[54 38]\n",
      " [10 33]\n",
      " [28  7]\n",
      " [76  0]\n",
      " [22 91]]\n"
     ]
    }
   ],
   "source": [
    "m9=a6.reshape(-1,2)\n",
    "print(m9)"
   ]
  },
  {
   "cell_type": "markdown",
   "metadata": {
    "id": "UkGkEUfgl5JJ"
   },
   "source": [
    "### Maximos, minimos y tipo\n",
    "* Podemos entcontrar facilmente el valor **máximo** o **mínimo** del arreglo."
   ]
  },
  {
   "cell_type": "code",
   "execution_count": 65,
   "metadata": {
    "colab": {
     "base_uri": "https://localhost:8080/"
    },
    "id": "k1GZ_RWdl5JJ",
    "outputId": "7aef9b48-8597-47ff-ec8c-11eff2535d23"
   },
   "outputs": [
    {
     "name": "stdout",
     "output_type": "stream",
     "text": [
      "91\n"
     ]
    }
   ],
   "source": [
    "print(m9.max())"
   ]
  },
  {
   "cell_type": "code",
   "execution_count": 66,
   "metadata": {
    "colab": {
     "base_uri": "https://localhost:8080/"
    },
    "id": "ZSJCsbeTl5JK",
    "outputId": "41b03380-a0ee-42e9-e720-dc82a339d9c7"
   },
   "outputs": [
    {
     "name": "stdout",
     "output_type": "stream",
     "text": [
      "0\n"
     ]
    }
   ],
   "source": [
    "print(m9.min())"
   ]
  },
  {
   "cell_type": "markdown",
   "metadata": {
    "id": "l75-xMsQl5JK"
   },
   "source": [
    "* Si lo que necesitamos son los índices de donde se encuentran esos valores usarmos `argmax` y `argmin`."
   ]
  },
  {
   "cell_type": "code",
   "execution_count": 67,
   "metadata": {
    "colab": {
     "base_uri": "https://localhost:8080/"
    },
    "id": "pH18-nTBl5JK",
    "outputId": "ad0f92ae-9287-46b6-f366-8f9ae359dac1"
   },
   "outputs": [
    {
     "name": "stdout",
     "output_type": "stream",
     "text": [
      "9\n"
     ]
    }
   ],
   "source": [
    "print(m9.argmax())"
   ]
  },
  {
   "cell_type": "code",
   "execution_count": 68,
   "metadata": {
    "colab": {
     "base_uri": "https://localhost:8080/"
    },
    "id": "wB6qmEq3l5JK",
    "outputId": "6e55bd0c-da46-4903-be78-896a6d75d03e"
   },
   "outputs": [
    {
     "name": "stdout",
     "output_type": "stream",
     "text": [
      "7\n"
     ]
    }
   ],
   "source": [
    "print(m9.argmin())"
   ]
  },
  {
   "cell_type": "markdown",
   "metadata": {
    "id": "RJiEMplJl5JK"
   },
   "source": [
    "## Tipo de dato\n",
    "A veces es necesario conocer el tipo de datos que guarda el arreglo"
   ]
  },
  {
   "cell_type": "code",
   "execution_count": 69,
   "metadata": {
    "colab": {
     "base_uri": "https://localhost:8080/"
    },
    "id": "XS7LfJjOl5JK",
    "outputId": "a98cb718-3891-4fe6-bdb0-9da5574073cd"
   },
   "outputs": [
    {
     "data": {
      "text/plain": [
       "dtype('int64')"
      ]
     },
     "execution_count": 69,
     "metadata": {},
     "output_type": "execute_result"
    }
   ],
   "source": [
    "m9.dtype"
   ]
  }
 ],
 "metadata": {
  "colab": {
   "collapsed_sections": [],
   "name": "Numpy01.ipynb",
   "provenance": []
  },
  "kernelspec": {
   "display_name": "Python 3 (ipykernel)",
   "language": "python",
   "name": "python3"
  },
  "language_info": {
   "codemirror_mode": {
    "name": "ipython",
    "version": 3
   },
   "file_extension": ".py",
   "mimetype": "text/x-python",
   "name": "python",
   "nbconvert_exporter": "python",
   "pygments_lexer": "ipython3",
   "version": "3.10.4"
  }
 },
 "nbformat": 4,
 "nbformat_minor": 4
}
