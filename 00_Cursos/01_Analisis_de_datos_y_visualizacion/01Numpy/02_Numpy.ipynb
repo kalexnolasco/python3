{
 "cells": [
  {
   "cell_type": "markdown",
   "metadata": {
    "id": "c5Ow6r4br5VK"
   },
   "source": [
    "# Indexado y seleccion\n"
   ]
  },
  {
   "cell_type": "code",
   "execution_count": 2,
   "metadata": {
    "id": "oIDBAtAmr5VN"
   },
   "outputs": [
    {
     "data": {
      "text/plain": [
       "'1.22.4'"
      ]
     },
     "execution_count": 2,
     "metadata": {},
     "output_type": "execute_result"
    }
   ],
   "source": [
    "# Importamos la biblioteca\n",
    "import numpy as np\n",
    "np.__version__"
   ]
  },
  {
   "cell_type": "code",
   "execution_count": 3,
   "metadata": {
    "colab": {
     "base_uri": "https://localhost:8080/"
    },
    "id": "JdJGf5Jdr5VO",
    "outputId": "4a2fa3c6-3f26-4f65-b90a-b42da34ddc44"
   },
   "outputs": [
    {
     "name": "stdout",
     "output_type": "stream",
     "text": [
      "[ 5  6  7  8  9 10 11 12 13 14]\n"
     ]
    }
   ],
   "source": [
    "# Creamos un arreglo\n",
    "a1=np.arange(5,15)\n",
    "print(a1)"
   ]
  },
  {
   "cell_type": "markdown",
   "metadata": {
    "id": "6hG4Z6ABr5VP"
   },
   "source": [
    "* La sintaxis con numpy es similar a la de Python usaremos $[]$ para indicar índices.\n",
    "* Veamos el valor contenido en el índice *5*."
   ]
  },
  {
   "cell_type": "code",
   "execution_count": 4,
   "metadata": {
    "colab": {
     "base_uri": "https://localhost:8080/"
    },
    "id": "tVM-Bwucr5VQ",
    "outputId": "59135d2a-40f9-454f-871d-5469ba336a9f"
   },
   "outputs": [
    {
     "name": "stdout",
     "output_type": "stream",
     "text": [
      "10\n"
     ]
    }
   ],
   "source": [
    "n=a1[5]\n",
    "print(n)"
   ]
  },
  {
   "cell_type": "markdown",
   "metadata": {
    "id": "rtsoyCiur5VQ"
   },
   "source": [
    "## Slicing\n",
    "* Podemos hacer **slicing**, tenemos que indicar el indice de inicio : el indice final.\n",
    "* Hay que notar que **el índice final no se incluye**."
   ]
  },
  {
   "cell_type": "code",
   "execution_count": 5,
   "metadata": {
    "colab": {
     "base_uri": "https://localhost:8080/"
    },
    "id": "txw9vFVir5VR",
    "outputId": "5acbbd98-8283-4e0f-8fb7-f90d073a1447"
   },
   "outputs": [
    {
     "name": "stdout",
     "output_type": "stream",
     "text": [
      "[6 7 8 9]\n"
     ]
    }
   ],
   "source": [
    "sub1=a1[1:5]\n",
    "print(sub1)"
   ]
  },
  {
   "cell_type": "markdown",
   "metadata": {
    "id": "sySP4vkWr5VS"
   },
   "source": [
    "* Si no colocamos el índice de inicio automaticamente lo toma desde el índice 0."
   ]
  },
  {
   "cell_type": "code",
   "execution_count": 6,
   "metadata": {
    "colab": {
     "base_uri": "https://localhost:8080/"
    },
    "id": "QmDSEqlWr5VS",
    "outputId": "50a7a02e-46aa-41f2-c36f-7f09ba012a55"
   },
   "outputs": [
    {
     "name": "stdout",
     "output_type": "stream",
     "text": [
      "[5 6 7 8 9]\n"
     ]
    }
   ],
   "source": [
    "sub2=a1[:5]\n",
    "print(sub2)"
   ]
  },
  {
   "cell_type": "markdown",
   "metadata": {
    "id": "zHD-IKHXr5VT"
   },
   "source": [
    "* Si no colocamos el índice final, toma desde el índice de inicio hasta el final del arreglo.\n",
    "* El índice de inicio y el último elemento si son tomados"
   ]
  },
  {
   "cell_type": "code",
   "execution_count": 7,
   "metadata": {
    "colab": {
     "base_uri": "https://localhost:8080/"
    },
    "id": "6Y7SyoSgr5VT",
    "outputId": "4dfda7ee-b0e1-43e7-8cf7-9ca99977b005"
   },
   "outputs": [
    {
     "name": "stdout",
     "output_type": "stream",
     "text": [
      "[ 8  9 10 11 12 13 14]\n"
     ]
    }
   ],
   "source": [
    "sub3=a1[3:]\n",
    "print(sub3)"
   ]
  },
  {
   "cell_type": "markdown",
   "metadata": {
    "id": "JvyUZHe5r5VU"
   },
   "source": [
    "* Podemos colocar un valor en un índice en particular haciendo una asignación."
   ]
  },
  {
   "cell_type": "code",
   "execution_count": 8,
   "metadata": {
    "colab": {
     "base_uri": "https://localhost:8080/"
    },
    "id": "cFDHAyXOr5VU",
    "outputId": "aaf11ba2-bcf9-4b1a-a27b-06d57a649e18"
   },
   "outputs": [
    {
     "name": "stdout",
     "output_type": "stream",
     "text": [
      "[ 5  6  7 50  9 10 11 12 13 14]\n"
     ]
    }
   ],
   "source": [
    "a1[3]=50\n",
    "print(a1)"
   ]
  },
  {
   "cell_type": "markdown",
   "metadata": {
    "id": "_8A7ub46r5VV"
   },
   "source": [
    "### Broadcast, vista y copy\n",
    "* Tambien podemos hacer lo que se conoce como broadcast, que nos permite colocar un valor en varios elementos a la vez."
   ]
  },
  {
   "cell_type": "code",
   "execution_count": 9,
   "metadata": {
    "colab": {
     "base_uri": "https://localhost:8080/"
    },
    "id": "s4n8lJAqr5VV",
    "outputId": "0c6b6d8a-f345-4ae9-84cf-283cb7502c9e"
   },
   "outputs": [
    {
     "name": "stdout",
     "output_type": "stream",
     "text": [
      "[ 5  6  7 50 80 80 80 80 13 14]\n"
     ]
    }
   ],
   "source": [
    "a1[4:8]=80\n",
    "print(a1)"
   ]
  },
  {
   "cell_type": "markdown",
   "metadata": {
    "id": "dVRNCdT8r5VV"
   },
   "source": [
    "* Algo en lo que tenemos que tener mucho cuidado consiste en que cuando tomamos por slicing una parte del arreglo, no es una copia de los valores, sino solamente una vista del arreglo en el slice que  nosotros tomamos.\n",
    "* Cualquier cambio al slice se ve reflejado en el array original"
   ]
  },
  {
   "cell_type": "code",
   "execution_count": 10,
   "metadata": {
    "colab": {
     "base_uri": "https://localhost:8080/"
    },
    "id": "RBjDkzKtr5VW",
    "outputId": "61766ea1-2e84-4e39-dcd5-11142501355d"
   },
   "outputs": [
    {
     "name": "stdout",
     "output_type": "stream",
     "text": [
      "[ 5  6  7 50 80 80 80 80 13 14]\n",
      "[ 5  6  7 50 80]\n",
      "[100 100 100 100 100]\n",
      "[100 100 100 100 100  80  80  80  13  14]\n"
     ]
    }
   ],
   "source": [
    "sub4=a1[0:5]\n",
    "print(a1)\n",
    "print(sub4)\n",
    "sub4[:]=100\n",
    "print(sub4)\n",
    "print(a1)"
   ]
  },
  {
   "cell_type": "markdown",
   "metadata": {
    "id": "2yuI0bK6r5VW"
   },
   "source": [
    "* Si lo que deseamos es realmente tener una copia y no una referencia, hay que usar `copy` directamente."
   ]
  },
  {
   "cell_type": "code",
   "execution_count": 11,
   "metadata": {
    "colab": {
     "base_uri": "https://localhost:8080/"
    },
    "id": "ZgvWNCTxr5VW",
    "outputId": "c2cfa5e9-5d6a-4e85-e055-3d5b1e53973e"
   },
   "outputs": [
    {
     "name": "stdout",
     "output_type": "stream",
     "text": [
      "[ 5  6  7  8  9 10 11 12 13 14]\n",
      "[ 5  6  7  8  9 10 11 12 13 14]\n",
      "[100 100 100 100 100 100 100 100 100 100]\n",
      "[ 5  6  7  8  9 10 11 12 13 14]\n"
     ]
    }
   ],
   "source": [
    "a1=np.arange(5,15)\n",
    "print(a1)\n",
    "c1=a1.copy()\n",
    "print(c1)\n",
    "c1[:]=100\n",
    "print(c1)\n",
    "print(a1)"
   ]
  },
  {
   "cell_type": "markdown",
   "metadata": {
    "id": "-XD3eRlNr5VX"
   },
   "source": [
    "* Ahora trabajaremos con los índices de matrices."
   ]
  },
  {
   "cell_type": "code",
   "execution_count": 12,
   "metadata": {
    "colab": {
     "base_uri": "https://localhost:8080/"
    },
    "id": "paP9o3eVr5VX",
    "outputId": "b538e7e4-cb06-4c0c-ef66-e79f8a3b83bd"
   },
   "outputs": [
    {
     "name": "stdout",
     "output_type": "stream",
     "text": [
      "[[ 2  4  6]\n",
      " [ 3  9 12]\n",
      " [ 8 16 20]]\n"
     ]
    }
   ],
   "source": [
    "m1=np.array([[2,4,6],[3,9,12],[8,16,20]])\n",
    "print(m1)"
   ]
  },
  {
   "cell_type": "markdown",
   "metadata": {
    "id": "w5KG-V92r5VX"
   },
   "source": [
    "* Para acceder a un elemento podemos usar la sintaxis de doble $[][]$ indicando la fila y la columna del elemento."
   ]
  },
  {
   "cell_type": "code",
   "execution_count": 13,
   "metadata": {
    "colab": {
     "base_uri": "https://localhost:8080/"
    },
    "id": "kBWcumbTr5VX",
    "outputId": "cf7cd452-2441-4353-f0e6-50e0334e03b4"
   },
   "outputs": [
    {
     "name": "stdout",
     "output_type": "stream",
     "text": [
      "2\n",
      "16\n"
     ]
    }
   ],
   "source": [
    "n2=m1[0][0]\n",
    "print(n2)\n",
    "n3=m1[2][1]\n",
    "print(n3)"
   ]
  },
  {
   "cell_type": "markdown",
   "metadata": {
    "id": "wGwdAaAir5VY"
   },
   "source": [
    "* **Existe otra notación que es muy utilizada en la que solo usamos un [] y las coordenadas se separan por comas**"
   ]
  },
  {
   "cell_type": "code",
   "execution_count": 14,
   "metadata": {
    "colab": {
     "base_uri": "https://localhost:8080/"
    },
    "id": "H7JPGRuXr5VY",
    "outputId": "612e84b2-8e00-42aa-90bc-bf6be4dc5e8a"
   },
   "outputs": [
    {
     "name": "stdout",
     "output_type": "stream",
     "text": [
      "2\n",
      "16\n"
     ]
    }
   ],
   "source": [
    "n2=m1[0, 0]\n",
    "print(n2)\n",
    "n3=m1[2, 1]\n",
    "print(n3)"
   ]
  },
  {
   "cell_type": "markdown",
   "metadata": {
    "id": "tDI-rVXir5VY"
   },
   "source": [
    "### Extraccion filas y columnas\n",
    "* Es posible tomar secciones de la matriz\n",
    "* Podemos obtener una fila si solo indicamos un valor de indice"
   ]
  },
  {
   "cell_type": "code",
   "execution_count": 15,
   "metadata": {
    "colab": {
     "base_uri": "https://localhost:8080/"
    },
    "id": "1k2qoCWNr5VY",
    "outputId": "accf7574-e55f-4f59-9d73-1e7e775a2738"
   },
   "outputs": [
    {
     "name": "stdout",
     "output_type": "stream",
     "text": [
      "[2 4 6]\n"
     ]
    }
   ],
   "source": [
    "f1=m1[0]\n",
    "print(f1)"
   ]
  },
  {
   "cell_type": "code",
   "execution_count": 16,
   "metadata": {},
   "outputs": [
    {
     "data": {
      "text/plain": [
       "array([ 3,  9, 12])"
      ]
     },
     "execution_count": 16,
     "metadata": {},
     "output_type": "execute_result"
    }
   ],
   "source": [
    "# Ejercicio\n",
    "m1[1]"
   ]
  },
  {
   "cell_type": "markdown",
   "metadata": {
    "id": "fC7kFJUXr5VY"
   },
   "source": [
    "* Ahora tomaremos una submatriz, para esto necesitamos usar slicing.\n",
    "* Tomaremos la submatriz superior derecha.\n",
    "* Indicamos que deseamos en las filas desde el inicio hasta el indice 2(no se incluye) y para las columnas desde la 1 hasta el final"
   ]
  },
  {
   "cell_type": "code",
   "execution_count": 17,
   "metadata": {
    "colab": {
     "base_uri": "https://localhost:8080/"
    },
    "id": "JxHt7rbNr5VZ",
    "outputId": "b1362006-206c-4469-d277-cc53e219f10f"
   },
   "outputs": [
    {
     "name": "stdout",
     "output_type": "stream",
     "text": [
      "[[ 4  6]\n",
      " [ 9 12]]\n"
     ]
    }
   ],
   "source": [
    "s1=m1[:2, 1:]\n",
    "print(s1)"
   ]
  },
  {
   "cell_type": "markdown",
   "metadata": {
    "id": "Gufs73kLr5VZ"
   },
   "source": [
    "* Si lo deseamos podemos obtener una columna, pero los valores van a ser colocados como array 1D, es decir como una fila.\n",
    "* Podemos usar `reshape` si es necesario."
   ]
  },
  {
   "cell_type": "code",
   "execution_count": 18,
   "metadata": {
    "colab": {
     "base_uri": "https://localhost:8080/"
    },
    "id": "zH6uS2UMr5VZ",
    "outputId": "98c18c2a-8a10-4771-f3c9-435be5691074"
   },
   "outputs": [
    {
     "name": "stdout",
     "output_type": "stream",
     "text": [
      "[ 4  9 16]\n",
      "[[ 4]\n",
      " [ 9]\n",
      " [16]]\n"
     ]
    }
   ],
   "source": [
    "s2=m1[:,1]\n",
    "print(s2)\n",
    "s3=s2.reshape(-1,1)\n",
    "print(s3)"
   ]
  },
  {
   "cell_type": "markdown",
   "metadata": {
    "id": "dYX_BXmFr5VZ"
   },
   "source": [
    "### Seleccion condicional\n",
    "* Tenemos lo que conocemos como seleccion condicional.\n",
    "* Podemos llevar a cabo la comparación del array contra un valor y lo que obtenemos es un arreglo de booleanos donde nos dice que elementos cumplen o no la comparación."
   ]
  },
  {
   "cell_type": "code",
   "execution_count": 19,
   "metadata": {
    "colab": {
     "base_uri": "https://localhost:8080/"
    },
    "id": "_Ik1Od-Zr5Va",
    "outputId": "e6adb625-2b3a-45be-efef-c1caf72febfb"
   },
   "outputs": [
    {
     "name": "stdout",
     "output_type": "stream",
     "text": [
      "[ 5  6  7  8  9 10 11 12 13 14]\n",
      "[False False False False False False  True  True  True  True]\n",
      "[False  True False  True False  True False  True False  True]\n"
     ]
    }
   ],
   "source": [
    "print(a1)\n",
    "c1= a1>10\n",
    "print(c1)\n",
    "c2= a1%2==0\n",
    "print(c2)"
   ]
  },
  {
   "cell_type": "markdown",
   "metadata": {
    "id": "GfewQIeZr5Va"
   },
   "source": [
    "* Ahora solo tomaremos los valores donde el array es **True**."
   ]
  },
  {
   "cell_type": "code",
   "execution_count": 20,
   "metadata": {
    "colab": {
     "base_uri": "https://localhost:8080/"
    },
    "id": "rWAqd_PXr5Va",
    "outputId": "bc25d997-78d9-4f48-9e68-85e657ea1031"
   },
   "outputs": [
    {
     "name": "stdout",
     "output_type": "stream",
     "text": [
      "[11 12 13 14]\n",
      "[ 6  8 10 12 14]\n"
     ]
    }
   ],
   "source": [
    "v1=a1[c1]\n",
    "print(v1)\n",
    "v2=a1[c2]\n",
    "print(v2)"
   ]
  },
  {
   "cell_type": "markdown",
   "metadata": {
    "id": "9dqh_pEKr5Va"
   },
   "source": [
    "* **Podemos llevar a cabo todo esto en una sola línea**"
   ]
  },
  {
   "cell_type": "code",
   "execution_count": 21,
   "metadata": {
    "colab": {
     "base_uri": "https://localhost:8080/"
    },
    "id": "L-AIkDtOr5Va",
    "outputId": "391b9935-b02d-4904-9fbb-6c07c2f97e07"
   },
   "outputs": [
    {
     "name": "stdout",
     "output_type": "stream",
     "text": [
      "[ 5  6  7  8  9 10 11 12 13 14]\n",
      "[ 6  8 10 12 14]\n"
     ]
    }
   ],
   "source": [
    "print(a1)\n",
    "v3=a1[a1%2==0]\n",
    "print(v3)"
   ]
  },
  {
   "cell_type": "code",
   "execution_count": 23,
   "metadata": {},
   "outputs": [
    {
     "name": "stdout",
     "output_type": "stream",
     "text": [
      "[ 5  6  7  8  9 10 11 12 13 14]\n",
      "[ 9 10 11 12 13 14]\n"
     ]
    }
   ],
   "source": [
    "# ejercicio\n",
    "print(a1)\n",
    "v4 = a1[a1>8]\n",
    "print(v4)"
   ]
  }
 ],
 "metadata": {
  "colab": {
   "collapsed_sections": [],
   "name": "Numpy02.ipynb",
   "provenance": []
  },
  "kernelspec": {
   "display_name": "Python 3 (ipykernel)",
   "language": "python",
   "name": "python3"
  },
  "language_info": {
   "codemirror_mode": {
    "name": "ipython",
    "version": 3
   },
   "file_extension": ".py",
   "mimetype": "text/x-python",
   "name": "python",
   "nbconvert_exporter": "python",
   "pygments_lexer": "ipython3",
   "version": "3.10.4"
  }
 },
 "nbformat": 4,
 "nbformat_minor": 4
}
