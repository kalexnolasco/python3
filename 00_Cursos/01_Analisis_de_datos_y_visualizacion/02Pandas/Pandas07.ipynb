{
 "cells": [
  {
   "cell_type": "markdown",
   "metadata": {
    "id": "zGaAJRh8wmJM"
   },
   "source": [
    "# Groupby\n",
    "Nos permite agrupar filas basandonos en los valores de una columna y llevar a cabo una funcion de agregacion<BR>\n",
    "    <B>Agrupamos</B> por ID y <B>agregamos</B> por Dato<BR>\n",
    "La agregacion puede ser de diferentes formas"
   ]
  },
  {
   "cell_type": "markdown",
   "metadata": {
    "id": "imWeXlApwmJN"
   },
   "source": [
    "ID\tDato<BR>\t\t\t\n",
    "1\t5<BR>\n",
    "1\t6<BR>\n",
    "1\t4<BR>\n",
    "1\t3<BR>\n",
    "2\t4<BR>\n",
    "2\t3<BR>\n",
    "2\t7<BR>\n",
    "3\t5<BR>\n",
    "3\t6<BR>\n",
    "3\t7<BR>\n",
    "3\t3<BR>\n",
    "<BR>\n",
    "ID\tDato<BR>\n",
    "1\t18<BR>\n",
    "2\t14<BR>\n",
    "3\t21<BR>"
   ]
  },
  {
   "cell_type": "code",
   "execution_count": 1,
   "metadata": {
    "id": "a8pOMox6wmJO"
   },
   "outputs": [],
   "source": [
    "import numpy as np\n",
    "import pandas as pd"
   ]
  },
  {
   "cell_type": "markdown",
   "metadata": {
    "id": "ceCxUHtkwmJP"
   },
   "source": [
    "Vamos a crear un dataframe para trabajar"
   ]
  },
  {
   "cell_type": "code",
   "execution_count": 2,
   "metadata": {
    "colab": {
     "base_uri": "https://localhost:8080/"
    },
    "id": "2dRAUDkUwmJP",
    "outputId": "1c87f099-8d92-4f67-9f8c-5e8067c8d32c"
   },
   "outputs": [
    {
     "name": "stdout",
     "output_type": "stream",
     "text": [
      "  Carrera  Materia  Promedio\n",
      "0     ISF      C++       8.3\n",
      "1     ISF       C#       9.1\n",
      "2     ITI      WAN       9.5\n",
      "3     ITI      LAN       8.7\n",
      "4     IND   Costos       9.3\n",
      "5     IND  Calculo       8.5\n",
      "6     ISF       IA      10.0\n"
     ]
    }
   ],
   "source": [
    "datos={'Carrera':['ISF','ISF','ITI','ITI','IND','IND','ISF'],\n",
    "      'Materia':['C++','C#','WAN','LAN','Costos','Calculo','IA'],\n",
    "      'Promedio':[8.3,9.1,9.5,8.7,9.3,8.5,10]}\n",
    "df1=pd.DataFrame(datos)\n",
    "print(df1)"
   ]
  },
  {
   "cell_type": "markdown",
   "metadata": {
    "id": "K85aPxLmwmJQ"
   },
   "source": [
    "## Agrupamiento y operaciones basicas\n",
    "* Ahora agruparemos por carrera, usamos groupby y pasamos la columna que nos interesa\n",
    "* Luego indicamos el tipo de agregacion, por ejemplo mean y nos da la media\n",
    "* La media al ser un valor numerico ignora a Materia"
   ]
  },
  {
   "cell_type": "code",
   "execution_count": 3,
   "metadata": {
    "colab": {
     "base_uri": "https://localhost:8080/",
     "height": 174
    },
    "id": "i1Hjf0QpwmJQ",
    "outputId": "dac33a68-639d-4583-8a76-962026887ab4"
   },
   "outputs": [
    {
     "data": {
      "text/html": [
       "<div>\n",
       "<style scoped>\n",
       "    .dataframe tbody tr th:only-of-type {\n",
       "        vertical-align: middle;\n",
       "    }\n",
       "\n",
       "    .dataframe tbody tr th {\n",
       "        vertical-align: top;\n",
       "    }\n",
       "\n",
       "    .dataframe thead th {\n",
       "        text-align: right;\n",
       "    }\n",
       "</style>\n",
       "<table border=\"1\" class=\"dataframe\">\n",
       "  <thead>\n",
       "    <tr style=\"text-align: right;\">\n",
       "      <th></th>\n",
       "      <th>Promedio</th>\n",
       "    </tr>\n",
       "    <tr>\n",
       "      <th>Carrera</th>\n",
       "      <th></th>\n",
       "    </tr>\n",
       "  </thead>\n",
       "  <tbody>\n",
       "    <tr>\n",
       "      <th>IND</th>\n",
       "      <td>8.900000</td>\n",
       "    </tr>\n",
       "    <tr>\n",
       "      <th>ISF</th>\n",
       "      <td>9.133333</td>\n",
       "    </tr>\n",
       "    <tr>\n",
       "      <th>ITI</th>\n",
       "      <td>9.100000</td>\n",
       "    </tr>\n",
       "  </tbody>\n",
       "</table>\n",
       "</div>"
      ],
      "text/plain": [
       "         Promedio\n",
       "Carrera          \n",
       "IND      8.900000\n",
       "ISF      9.133333\n",
       "ITI      9.100000"
      ]
     },
     "execution_count": 3,
     "metadata": {},
     "output_type": "execute_result"
    }
   ],
   "source": [
    "# Agrupamos por carrera\n",
    "carreras=df1.groupby('Carrera')\n",
    "# agregamos usando la media\n",
    "carreras.mean()"
   ]
  },
  {
   "cell_type": "code",
   "execution_count": 4,
   "metadata": {
    "colab": {
     "base_uri": "https://localhost:8080/"
    },
    "id": "y_UTKHmZwmJQ",
    "outputId": "fc0c64ac-6cfb-454a-e374-6bc0e602a78c"
   },
   "outputs": [
    {
     "name": "stdout",
     "output_type": "stream",
     "text": [
      "         Promedio\n",
      "Carrera          \n",
      "IND          17.8\n",
      "ISF          27.4\n",
      "ITI          18.2\n",
      "------\n",
      "27.4\n"
     ]
    }
   ],
   "source": [
    "# Guardamos la agregacion suma en una variable\n",
    "sumatoria=carreras.sum()\n",
    "print(sumatoria)\n",
    "print('------')\n",
    "\n",
    "# Obtenemos el valor de la columna promedio en la fila 1 (ISF)\n",
    "s=sumatoria.iloc[1]['Promedio']\n",
    "print(s)"
   ]
  },
  {
   "cell_type": "code",
   "execution_count": 5,
   "metadata": {
    "colab": {
     "base_uri": "https://localhost:8080/",
     "height": 174
    },
    "id": "dWDbzUI1wmJR",
    "outputId": "894d6d15-b513-4dc6-d64a-44bde230baf9"
   },
   "outputs": [
    {
     "data": {
      "text/html": [
       "<div>\n",
       "<style scoped>\n",
       "    .dataframe tbody tr th:only-of-type {\n",
       "        vertical-align: middle;\n",
       "    }\n",
       "\n",
       "    .dataframe tbody tr th {\n",
       "        vertical-align: top;\n",
       "    }\n",
       "\n",
       "    .dataframe thead th {\n",
       "        text-align: right;\n",
       "    }\n",
       "</style>\n",
       "<table border=\"1\" class=\"dataframe\">\n",
       "  <thead>\n",
       "    <tr style=\"text-align: right;\">\n",
       "      <th></th>\n",
       "      <th>Promedio</th>\n",
       "    </tr>\n",
       "    <tr>\n",
       "      <th>Carrera</th>\n",
       "      <th></th>\n",
       "    </tr>\n",
       "  </thead>\n",
       "  <tbody>\n",
       "    <tr>\n",
       "      <th>IND</th>\n",
       "      <td>0.565685</td>\n",
       "    </tr>\n",
       "    <tr>\n",
       "      <th>ISF</th>\n",
       "      <td>0.850490</td>\n",
       "    </tr>\n",
       "    <tr>\n",
       "      <th>ITI</th>\n",
       "      <td>0.565685</td>\n",
       "    </tr>\n",
       "  </tbody>\n",
       "</table>\n",
       "</div>"
      ],
      "text/plain": [
       "         Promedio\n",
       "Carrera          \n",
       "IND      0.565685\n",
       "ISF      0.850490\n",
       "ITI      0.565685"
      ]
     },
     "execution_count": 5,
     "metadata": {},
     "output_type": "execute_result"
    }
   ],
   "source": [
    "# Agregamos por desviacion estandar\n",
    "carreras.std()"
   ]
  },
  {
   "cell_type": "markdown",
   "metadata": {
    "id": "rdBA2_7qwmJR"
   },
   "source": [
    "Podemos usar locacion para encontrar un valor en particular"
   ]
  },
  {
   "cell_type": "code",
   "execution_count": 6,
   "metadata": {
    "colab": {
     "base_uri": "https://localhost:8080/"
    },
    "id": "9qaP2puNwmJR",
    "outputId": "402f7bd1-fc5a-4571-ac2e-95bc1eec899b"
   },
   "outputs": [
    {
     "name": "stdout",
     "output_type": "stream",
     "text": [
      "Promedio    9.133333\n",
      "Name: ISF, dtype: float64\n",
      "------\n",
      "9.133333333333333\n"
     ]
    }
   ],
   "source": [
    "mediaISF=carreras.mean().loc['ISF']\n",
    "print(mediaISF)\n",
    "print('------')\n",
    "print(float(mediaISF))"
   ]
  },
  {
   "cell_type": "markdown",
   "metadata": {
    "id": "0GYBWgGQwmJR"
   },
   "source": [
    "count nos da la cantidad de instancias por columna"
   ]
  },
  {
   "cell_type": "code",
   "execution_count": 7,
   "metadata": {
    "colab": {
     "base_uri": "https://localhost:8080/",
     "height": 174
    },
    "id": "-a6Y3wbFwmJS",
    "outputId": "21e390f6-4c12-4fcc-cb4c-521b71f498f9"
   },
   "outputs": [
    {
     "data": {
      "text/html": [
       "<div>\n",
       "<style scoped>\n",
       "    .dataframe tbody tr th:only-of-type {\n",
       "        vertical-align: middle;\n",
       "    }\n",
       "\n",
       "    .dataframe tbody tr th {\n",
       "        vertical-align: top;\n",
       "    }\n",
       "\n",
       "    .dataframe thead th {\n",
       "        text-align: right;\n",
       "    }\n",
       "</style>\n",
       "<table border=\"1\" class=\"dataframe\">\n",
       "  <thead>\n",
       "    <tr style=\"text-align: right;\">\n",
       "      <th></th>\n",
       "      <th>Materia</th>\n",
       "      <th>Promedio</th>\n",
       "    </tr>\n",
       "    <tr>\n",
       "      <th>Carrera</th>\n",
       "      <th></th>\n",
       "      <th></th>\n",
       "    </tr>\n",
       "  </thead>\n",
       "  <tbody>\n",
       "    <tr>\n",
       "      <th>IND</th>\n",
       "      <td>2</td>\n",
       "      <td>2</td>\n",
       "    </tr>\n",
       "    <tr>\n",
       "      <th>ISF</th>\n",
       "      <td>3</td>\n",
       "      <td>3</td>\n",
       "    </tr>\n",
       "    <tr>\n",
       "      <th>ITI</th>\n",
       "      <td>2</td>\n",
       "      <td>2</td>\n",
       "    </tr>\n",
       "  </tbody>\n",
       "</table>\n",
       "</div>"
      ],
      "text/plain": [
       "         Materia  Promedio\n",
       "Carrera                   \n",
       "IND            2         2\n",
       "ISF            3         3\n",
       "ITI            2         2"
      ]
     },
     "execution_count": 7,
     "metadata": {},
     "output_type": "execute_result"
    }
   ],
   "source": [
    "carreras.count()"
   ]
  },
  {
   "cell_type": "markdown",
   "metadata": {
    "id": "qvlMGdQwwmJS"
   },
   "source": [
    "Podemos encontrar el maximo o minimo"
   ]
  },
  {
   "cell_type": "code",
   "execution_count": 8,
   "metadata": {
    "colab": {
     "base_uri": "https://localhost:8080/",
     "height": 174
    },
    "id": "bW5c29gZwmJS",
    "outputId": "6cdcab23-eaef-45db-a4fe-27968157d8d3"
   },
   "outputs": [
    {
     "data": {
      "text/html": [
       "<div>\n",
       "<style scoped>\n",
       "    .dataframe tbody tr th:only-of-type {\n",
       "        vertical-align: middle;\n",
       "    }\n",
       "\n",
       "    .dataframe tbody tr th {\n",
       "        vertical-align: top;\n",
       "    }\n",
       "\n",
       "    .dataframe thead th {\n",
       "        text-align: right;\n",
       "    }\n",
       "</style>\n",
       "<table border=\"1\" class=\"dataframe\">\n",
       "  <thead>\n",
       "    <tr style=\"text-align: right;\">\n",
       "      <th></th>\n",
       "      <th>Materia</th>\n",
       "      <th>Promedio</th>\n",
       "    </tr>\n",
       "    <tr>\n",
       "      <th>Carrera</th>\n",
       "      <th></th>\n",
       "      <th></th>\n",
       "    </tr>\n",
       "  </thead>\n",
       "  <tbody>\n",
       "    <tr>\n",
       "      <th>IND</th>\n",
       "      <td>Costos</td>\n",
       "      <td>9.3</td>\n",
       "    </tr>\n",
       "    <tr>\n",
       "      <th>ISF</th>\n",
       "      <td>IA</td>\n",
       "      <td>10.0</td>\n",
       "    </tr>\n",
       "    <tr>\n",
       "      <th>ITI</th>\n",
       "      <td>WAN</td>\n",
       "      <td>9.5</td>\n",
       "    </tr>\n",
       "  </tbody>\n",
       "</table>\n",
       "</div>"
      ],
      "text/plain": [
       "        Materia  Promedio\n",
       "Carrera                  \n",
       "IND      Costos       9.3\n",
       "ISF          IA      10.0\n",
       "ITI         WAN       9.5"
      ]
     },
     "execution_count": 8,
     "metadata": {},
     "output_type": "execute_result"
    }
   ],
   "source": [
    "carreras.max()"
   ]
  },
  {
   "cell_type": "code",
   "execution_count": 9,
   "metadata": {
    "colab": {
     "base_uri": "https://localhost:8080/",
     "height": 174
    },
    "id": "NRcSnAorwmJS",
    "outputId": "575dbed2-0be1-44f1-a8b5-050b5387237c"
   },
   "outputs": [
    {
     "data": {
      "text/html": [
       "<div>\n",
       "<style scoped>\n",
       "    .dataframe tbody tr th:only-of-type {\n",
       "        vertical-align: middle;\n",
       "    }\n",
       "\n",
       "    .dataframe tbody tr th {\n",
       "        vertical-align: top;\n",
       "    }\n",
       "\n",
       "    .dataframe thead th {\n",
       "        text-align: right;\n",
       "    }\n",
       "</style>\n",
       "<table border=\"1\" class=\"dataframe\">\n",
       "  <thead>\n",
       "    <tr style=\"text-align: right;\">\n",
       "      <th></th>\n",
       "      <th>Materia</th>\n",
       "      <th>Promedio</th>\n",
       "    </tr>\n",
       "    <tr>\n",
       "      <th>Carrera</th>\n",
       "      <th></th>\n",
       "      <th></th>\n",
       "    </tr>\n",
       "  </thead>\n",
       "  <tbody>\n",
       "    <tr>\n",
       "      <th>IND</th>\n",
       "      <td>Calculo</td>\n",
       "      <td>8.5</td>\n",
       "    </tr>\n",
       "    <tr>\n",
       "      <th>ISF</th>\n",
       "      <td>C#</td>\n",
       "      <td>8.3</td>\n",
       "    </tr>\n",
       "    <tr>\n",
       "      <th>ITI</th>\n",
       "      <td>LAN</td>\n",
       "      <td>8.7</td>\n",
       "    </tr>\n",
       "  </tbody>\n",
       "</table>\n",
       "</div>"
      ],
      "text/plain": [
       "         Materia  Promedio\n",
       "Carrera                   \n",
       "IND      Calculo       8.5\n",
       "ISF           C#       8.3\n",
       "ITI          LAN       8.7"
      ]
     },
     "execution_count": 9,
     "metadata": {},
     "output_type": "execute_result"
    }
   ],
   "source": [
    "carreras.min()"
   ]
  },
  {
   "cell_type": "markdown",
   "metadata": {
    "id": "d9o4yWiQwmJT"
   },
   "source": [
    "## Obtener informacion\n"
   ]
  },
  {
   "cell_type": "markdown",
   "metadata": {
    "id": "dv3DC8YYwmJT"
   },
   "source": [
    "Podemos ver las primeras filas del dataframe con head, si no pasamos parametro muestra las primeras 5 filas"
   ]
  },
  {
   "cell_type": "code",
   "execution_count": 10,
   "metadata": {
    "colab": {
     "base_uri": "https://localhost:8080/",
     "height": 143
    },
    "id": "qqEp3Uv1wmJT",
    "outputId": "e199abe9-4634-493c-de68-e560c52089a6"
   },
   "outputs": [
    {
     "data": {
      "text/html": [
       "<div>\n",
       "<style scoped>\n",
       "    .dataframe tbody tr th:only-of-type {\n",
       "        vertical-align: middle;\n",
       "    }\n",
       "\n",
       "    .dataframe tbody tr th {\n",
       "        vertical-align: top;\n",
       "    }\n",
       "\n",
       "    .dataframe thead th {\n",
       "        text-align: right;\n",
       "    }\n",
       "</style>\n",
       "<table border=\"1\" class=\"dataframe\">\n",
       "  <thead>\n",
       "    <tr style=\"text-align: right;\">\n",
       "      <th></th>\n",
       "      <th>Carrera</th>\n",
       "      <th>Materia</th>\n",
       "      <th>Promedio</th>\n",
       "    </tr>\n",
       "  </thead>\n",
       "  <tbody>\n",
       "    <tr>\n",
       "      <th>0</th>\n",
       "      <td>ISF</td>\n",
       "      <td>C++</td>\n",
       "      <td>8.3</td>\n",
       "    </tr>\n",
       "    <tr>\n",
       "      <th>1</th>\n",
       "      <td>ISF</td>\n",
       "      <td>C#</td>\n",
       "      <td>9.1</td>\n",
       "    </tr>\n",
       "    <tr>\n",
       "      <th>2</th>\n",
       "      <td>ITI</td>\n",
       "      <td>WAN</td>\n",
       "      <td>9.5</td>\n",
       "    </tr>\n",
       "  </tbody>\n",
       "</table>\n",
       "</div>"
      ],
      "text/plain": [
       "  Carrera Materia  Promedio\n",
       "0     ISF     C++       8.3\n",
       "1     ISF      C#       9.1\n",
       "2     ITI     WAN       9.5"
      ]
     },
     "execution_count": 10,
     "metadata": {},
     "output_type": "execute_result"
    }
   ],
   "source": [
    "#carreras.head()\n",
    "df1.head(3)"
   ]
  },
  {
   "cell_type": "code",
   "execution_count": 11,
   "metadata": {
    "colab": {
     "base_uri": "https://localhost:8080/",
     "height": 206
    },
    "id": "iNEh7qBWy8XP",
    "outputId": "1065623a-1620-4b81-8fb9-ed8009b968af"
   },
   "outputs": [
    {
     "data": {
      "text/html": [
       "<div>\n",
       "<style scoped>\n",
       "    .dataframe tbody tr th:only-of-type {\n",
       "        vertical-align: middle;\n",
       "    }\n",
       "\n",
       "    .dataframe tbody tr th {\n",
       "        vertical-align: top;\n",
       "    }\n",
       "\n",
       "    .dataframe thead th {\n",
       "        text-align: right;\n",
       "    }\n",
       "</style>\n",
       "<table border=\"1\" class=\"dataframe\">\n",
       "  <thead>\n",
       "    <tr style=\"text-align: right;\">\n",
       "      <th></th>\n",
       "      <th>Carrera</th>\n",
       "      <th>Materia</th>\n",
       "      <th>Promedio</th>\n",
       "    </tr>\n",
       "  </thead>\n",
       "  <tbody>\n",
       "    <tr>\n",
       "      <th>0</th>\n",
       "      <td>ISF</td>\n",
       "      <td>C++</td>\n",
       "      <td>8.3</td>\n",
       "    </tr>\n",
       "    <tr>\n",
       "      <th>1</th>\n",
       "      <td>ISF</td>\n",
       "      <td>C#</td>\n",
       "      <td>9.1</td>\n",
       "    </tr>\n",
       "    <tr>\n",
       "      <th>2</th>\n",
       "      <td>ITI</td>\n",
       "      <td>WAN</td>\n",
       "      <td>9.5</td>\n",
       "    </tr>\n",
       "    <tr>\n",
       "      <th>3</th>\n",
       "      <td>ITI</td>\n",
       "      <td>LAN</td>\n",
       "      <td>8.7</td>\n",
       "    </tr>\n",
       "    <tr>\n",
       "      <th>4</th>\n",
       "      <td>IND</td>\n",
       "      <td>Costos</td>\n",
       "      <td>9.3</td>\n",
       "    </tr>\n",
       "  </tbody>\n",
       "</table>\n",
       "</div>"
      ],
      "text/plain": [
       "  Carrera Materia  Promedio\n",
       "0     ISF     C++       8.3\n",
       "1     ISF      C#       9.1\n",
       "2     ITI     WAN       9.5\n",
       "3     ITI     LAN       8.7\n",
       "4     IND  Costos       9.3"
      ]
     },
     "execution_count": 11,
     "metadata": {},
     "output_type": "execute_result"
    }
   ],
   "source": [
    "df1.head()"
   ]
  },
  {
   "cell_type": "markdown",
   "metadata": {
    "id": "gnx7R6XbwmJT"
   },
   "source": [
    "Para obtener informacion estadistica que nos puede servir usamos describe"
   ]
  },
  {
   "cell_type": "code",
   "execution_count": 12,
   "metadata": {
    "colab": {
     "base_uri": "https://localhost:8080/",
     "height": 206
    },
    "id": "ier2dXNIwmJU",
    "outputId": "fcf708ec-ad33-44fe-944c-b8f72ba8eb92"
   },
   "outputs": [
    {
     "data": {
      "text/html": [
       "<div>\n",
       "<style scoped>\n",
       "    .dataframe tbody tr th:only-of-type {\n",
       "        vertical-align: middle;\n",
       "    }\n",
       "\n",
       "    .dataframe tbody tr th {\n",
       "        vertical-align: top;\n",
       "    }\n",
       "\n",
       "    .dataframe thead tr th {\n",
       "        text-align: left;\n",
       "    }\n",
       "\n",
       "    .dataframe thead tr:last-of-type th {\n",
       "        text-align: right;\n",
       "    }\n",
       "</style>\n",
       "<table border=\"1\" class=\"dataframe\">\n",
       "  <thead>\n",
       "    <tr>\n",
       "      <th></th>\n",
       "      <th colspan=\"8\" halign=\"left\">Promedio</th>\n",
       "    </tr>\n",
       "    <tr>\n",
       "      <th></th>\n",
       "      <th>count</th>\n",
       "      <th>mean</th>\n",
       "      <th>std</th>\n",
       "      <th>min</th>\n",
       "      <th>25%</th>\n",
       "      <th>50%</th>\n",
       "      <th>75%</th>\n",
       "      <th>max</th>\n",
       "    </tr>\n",
       "    <tr>\n",
       "      <th>Carrera</th>\n",
       "      <th></th>\n",
       "      <th></th>\n",
       "      <th></th>\n",
       "      <th></th>\n",
       "      <th></th>\n",
       "      <th></th>\n",
       "      <th></th>\n",
       "      <th></th>\n",
       "    </tr>\n",
       "  </thead>\n",
       "  <tbody>\n",
       "    <tr>\n",
       "      <th>IND</th>\n",
       "      <td>2.0</td>\n",
       "      <td>8.900000</td>\n",
       "      <td>0.565685</td>\n",
       "      <td>8.5</td>\n",
       "      <td>8.7</td>\n",
       "      <td>8.9</td>\n",
       "      <td>9.10</td>\n",
       "      <td>9.3</td>\n",
       "    </tr>\n",
       "    <tr>\n",
       "      <th>ISF</th>\n",
       "      <td>3.0</td>\n",
       "      <td>9.133333</td>\n",
       "      <td>0.850490</td>\n",
       "      <td>8.3</td>\n",
       "      <td>8.7</td>\n",
       "      <td>9.1</td>\n",
       "      <td>9.55</td>\n",
       "      <td>10.0</td>\n",
       "    </tr>\n",
       "    <tr>\n",
       "      <th>ITI</th>\n",
       "      <td>2.0</td>\n",
       "      <td>9.100000</td>\n",
       "      <td>0.565685</td>\n",
       "      <td>8.7</td>\n",
       "      <td>8.9</td>\n",
       "      <td>9.1</td>\n",
       "      <td>9.30</td>\n",
       "      <td>9.5</td>\n",
       "    </tr>\n",
       "  </tbody>\n",
       "</table>\n",
       "</div>"
      ],
      "text/plain": [
       "        Promedio                                               \n",
       "           count      mean       std  min  25%  50%   75%   max\n",
       "Carrera                                                        \n",
       "IND          2.0  8.900000  0.565685  8.5  8.7  8.9  9.10   9.3\n",
       "ISF          3.0  9.133333  0.850490  8.3  8.7  9.1  9.55  10.0\n",
       "ITI          2.0  9.100000  0.565685  8.7  8.9  9.1  9.30   9.5"
      ]
     },
     "execution_count": 12,
     "metadata": {},
     "output_type": "execute_result"
    }
   ],
   "source": [
    "carreras.describe()"
   ]
  },
  {
   "cell_type": "code",
   "execution_count": 13,
   "metadata": {
    "colab": {
     "base_uri": "https://localhost:8080/",
     "height": 300
    },
    "id": "zMVCWndYzJif",
    "outputId": "eb8395ac-602a-4b21-8f22-47c0dca60c92"
   },
   "outputs": [
    {
     "data": {
      "text/html": [
       "<div>\n",
       "<style scoped>\n",
       "    .dataframe tbody tr th:only-of-type {\n",
       "        vertical-align: middle;\n",
       "    }\n",
       "\n",
       "    .dataframe tbody tr th {\n",
       "        vertical-align: top;\n",
       "    }\n",
       "\n",
       "    .dataframe thead th {\n",
       "        text-align: right;\n",
       "    }\n",
       "</style>\n",
       "<table border=\"1\" class=\"dataframe\">\n",
       "  <thead>\n",
       "    <tr style=\"text-align: right;\">\n",
       "      <th></th>\n",
       "      <th>Promedio</th>\n",
       "    </tr>\n",
       "  </thead>\n",
       "  <tbody>\n",
       "    <tr>\n",
       "      <th>count</th>\n",
       "      <td>7.000000</td>\n",
       "    </tr>\n",
       "    <tr>\n",
       "      <th>mean</th>\n",
       "      <td>9.057143</td>\n",
       "    </tr>\n",
       "    <tr>\n",
       "      <th>std</th>\n",
       "      <td>0.599603</td>\n",
       "    </tr>\n",
       "    <tr>\n",
       "      <th>min</th>\n",
       "      <td>8.300000</td>\n",
       "    </tr>\n",
       "    <tr>\n",
       "      <th>25%</th>\n",
       "      <td>8.600000</td>\n",
       "    </tr>\n",
       "    <tr>\n",
       "      <th>50%</th>\n",
       "      <td>9.100000</td>\n",
       "    </tr>\n",
       "    <tr>\n",
       "      <th>75%</th>\n",
       "      <td>9.400000</td>\n",
       "    </tr>\n",
       "    <tr>\n",
       "      <th>max</th>\n",
       "      <td>10.000000</td>\n",
       "    </tr>\n",
       "  </tbody>\n",
       "</table>\n",
       "</div>"
      ],
      "text/plain": [
       "        Promedio\n",
       "count   7.000000\n",
       "mean    9.057143\n",
       "std     0.599603\n",
       "min     8.300000\n",
       "25%     8.600000\n",
       "50%     9.100000\n",
       "75%     9.400000\n",
       "max    10.000000"
      ]
     },
     "execution_count": 13,
     "metadata": {},
     "output_type": "execute_result"
    }
   ],
   "source": [
    "# Solo las columnas numericas se usan para calcular las estadisticas, por eso solo aparece Promedio\n",
    "df1.describe()"
   ]
  },
  {
   "cell_type": "markdown",
   "metadata": {
    "id": "D5w2le_ewmJU"
   },
   "source": [
    "Podemos hacer una transpuestra a la tabla para presentar la informacion de otra forma"
   ]
  },
  {
   "cell_type": "code",
   "execution_count": 14,
   "metadata": {
    "colab": {
     "base_uri": "https://localhost:8080/",
     "height": 300
    },
    "id": "rz9XgqOqznIf",
    "outputId": "2bbe3a1c-b974-4aa7-a9b7-1b500b59b976"
   },
   "outputs": [
    {
     "data": {
      "text/html": [
       "<div>\n",
       "<style scoped>\n",
       "    .dataframe tbody tr th:only-of-type {\n",
       "        vertical-align: middle;\n",
       "    }\n",
       "\n",
       "    .dataframe tbody tr th {\n",
       "        vertical-align: top;\n",
       "    }\n",
       "\n",
       "    .dataframe thead th {\n",
       "        text-align: right;\n",
       "    }\n",
       "</style>\n",
       "<table border=\"1\" class=\"dataframe\">\n",
       "  <thead>\n",
       "    <tr style=\"text-align: right;\">\n",
       "      <th></th>\n",
       "      <th>Carrera</th>\n",
       "      <th>IND</th>\n",
       "      <th>ISF</th>\n",
       "      <th>ITI</th>\n",
       "    </tr>\n",
       "  </thead>\n",
       "  <tbody>\n",
       "    <tr>\n",
       "      <th rowspan=\"8\" valign=\"top\">Promedio</th>\n",
       "      <th>count</th>\n",
       "      <td>2.000000</td>\n",
       "      <td>3.000000</td>\n",
       "      <td>2.000000</td>\n",
       "    </tr>\n",
       "    <tr>\n",
       "      <th>mean</th>\n",
       "      <td>8.900000</td>\n",
       "      <td>9.133333</td>\n",
       "      <td>9.100000</td>\n",
       "    </tr>\n",
       "    <tr>\n",
       "      <th>std</th>\n",
       "      <td>0.565685</td>\n",
       "      <td>0.850490</td>\n",
       "      <td>0.565685</td>\n",
       "    </tr>\n",
       "    <tr>\n",
       "      <th>min</th>\n",
       "      <td>8.500000</td>\n",
       "      <td>8.300000</td>\n",
       "      <td>8.700000</td>\n",
       "    </tr>\n",
       "    <tr>\n",
       "      <th>25%</th>\n",
       "      <td>8.700000</td>\n",
       "      <td>8.700000</td>\n",
       "      <td>8.900000</td>\n",
       "    </tr>\n",
       "    <tr>\n",
       "      <th>50%</th>\n",
       "      <td>8.900000</td>\n",
       "      <td>9.100000</td>\n",
       "      <td>9.100000</td>\n",
       "    </tr>\n",
       "    <tr>\n",
       "      <th>75%</th>\n",
       "      <td>9.100000</td>\n",
       "      <td>9.550000</td>\n",
       "      <td>9.300000</td>\n",
       "    </tr>\n",
       "    <tr>\n",
       "      <th>max</th>\n",
       "      <td>9.300000</td>\n",
       "      <td>10.000000</td>\n",
       "      <td>9.500000</td>\n",
       "    </tr>\n",
       "  </tbody>\n",
       "</table>\n",
       "</div>"
      ],
      "text/plain": [
       "Carrera              IND        ISF       ITI\n",
       "Promedio count  2.000000   3.000000  2.000000\n",
       "         mean   8.900000   9.133333  9.100000\n",
       "         std    0.565685   0.850490  0.565685\n",
       "         min    8.500000   8.300000  8.700000\n",
       "         25%    8.700000   8.700000  8.900000\n",
       "         50%    8.900000   9.100000  9.100000\n",
       "         75%    9.100000   9.550000  9.300000\n",
       "         max    9.300000  10.000000  9.500000"
      ]
     },
     "execution_count": 14,
     "metadata": {},
     "output_type": "execute_result"
    }
   ],
   "source": [
    "carreras.describe().transpose()"
   ]
  },
  {
   "cell_type": "code",
   "execution_count": 15,
   "metadata": {
    "colab": {
     "base_uri": "https://localhost:8080/",
     "height": 81
    },
    "id": "9QHhAhdswmJU",
    "outputId": "7817eba1-860c-40ce-d6c2-f858772da7a4"
   },
   "outputs": [
    {
     "data": {
      "text/html": [
       "<div>\n",
       "<style scoped>\n",
       "    .dataframe tbody tr th:only-of-type {\n",
       "        vertical-align: middle;\n",
       "    }\n",
       "\n",
       "    .dataframe tbody tr th {\n",
       "        vertical-align: top;\n",
       "    }\n",
       "\n",
       "    .dataframe thead th {\n",
       "        text-align: right;\n",
       "    }\n",
       "</style>\n",
       "<table border=\"1\" class=\"dataframe\">\n",
       "  <thead>\n",
       "    <tr style=\"text-align: right;\">\n",
       "      <th></th>\n",
       "      <th>count</th>\n",
       "      <th>mean</th>\n",
       "      <th>std</th>\n",
       "      <th>min</th>\n",
       "      <th>25%</th>\n",
       "      <th>50%</th>\n",
       "      <th>75%</th>\n",
       "      <th>max</th>\n",
       "    </tr>\n",
       "  </thead>\n",
       "  <tbody>\n",
       "    <tr>\n",
       "      <th>Promedio</th>\n",
       "      <td>7.0</td>\n",
       "      <td>9.057143</td>\n",
       "      <td>0.599603</td>\n",
       "      <td>8.3</td>\n",
       "      <td>8.6</td>\n",
       "      <td>9.1</td>\n",
       "      <td>9.4</td>\n",
       "      <td>10.0</td>\n",
       "    </tr>\n",
       "  </tbody>\n",
       "</table>\n",
       "</div>"
      ],
      "text/plain": [
       "          count      mean       std  min  25%  50%  75%   max\n",
       "Promedio    7.0  9.057143  0.599603  8.3  8.6  9.1  9.4  10.0"
      ]
     },
     "execution_count": 15,
     "metadata": {},
     "output_type": "execute_result"
    }
   ],
   "source": [
    "df1.describe().T"
   ]
  },
  {
   "cell_type": "markdown",
   "metadata": {
    "id": "1SgrpSLdwmJV"
   },
   "source": [
    "Para obtener de solo una carrera"
   ]
  },
  {
   "cell_type": "code",
   "execution_count": 16,
   "metadata": {
    "colab": {
     "base_uri": "https://localhost:8080/"
    },
    "id": "jjCYKt-swmJV",
    "outputId": "9e428a50-34ca-4fd7-e265-08bfe3995e40"
   },
   "outputs": [
    {
     "data": {
      "text/plain": [
       "Promedio  count     3.000000\n",
       "          mean      9.133333\n",
       "          std       0.850490\n",
       "          min       8.300000\n",
       "          25%       8.700000\n",
       "          50%       9.100000\n",
       "          75%       9.550000\n",
       "          max      10.000000\n",
       "Name: ISF, dtype: float64"
      ]
     },
     "execution_count": 16,
     "metadata": {},
     "output_type": "execute_result"
    }
   ],
   "source": [
    "carreras.describe().transpose()['ISF']"
   ]
  }
 ],
 "metadata": {
  "colab": {
   "collapsed_sections": [],
   "name": "Pandas07.ipynb",
   "provenance": []
  },
  "kernelspec": {
   "display_name": "Python 3 (ipykernel)",
   "language": "python",
   "name": "python3"
  },
  "language_info": {
   "codemirror_mode": {
    "name": "ipython",
    "version": 3
   },
   "file_extension": ".py",
   "mimetype": "text/x-python",
   "name": "python",
   "nbconvert_exporter": "python",
   "pygments_lexer": "ipython3",
   "version": "3.10.4"
  }
 },
 "nbformat": 4,
 "nbformat_minor": 4
}
