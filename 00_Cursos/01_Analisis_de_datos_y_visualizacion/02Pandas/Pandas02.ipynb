{
 "cells": [
  {
   "cell_type": "markdown",
   "metadata": {
    "id": "knOJs-SNS4GH"
   },
   "source": [
    "# Dataframes\n",
    "\n",
    "* Se construyen a partir de las series\n",
    "* Es nuestra herramienta principal al utilizar Pandas de DS e IA.\n",
    "* La informacion queda guardada de forma tabular\n"
   ]
  },
  {
   "cell_type": "code",
   "execution_count": 1,
   "metadata": {
    "id": "1tkn5SpfS4GJ"
   },
   "outputs": [],
   "source": [
    "import numpy as np\n",
    "import pandas as pd\n",
    "from numpy.random import randn\n",
    "#Colocamos el seed -> para tener siempre los mismos números aleatorios.\n",
    "np.random.seed(40)"
   ]
  },
  {
   "cell_type": "code",
   "execution_count": 2,
   "metadata": {},
   "outputs": [
    {
     "name": "stdout",
     "output_type": "stream",
     "text": [
      "1.22.4\n",
      "1.4.2\n"
     ]
    }
   ],
   "source": [
    "print(np.__version__)\n",
    "print(pd.__version__)"
   ]
  },
  {
   "cell_type": "markdown",
   "metadata": {
    "id": "PjATwe_kS4GK"
   },
   "source": [
    "## Creacion del dataframe\n",
    "Creamos un dataframe con 5 filas y 4 columnas<BR>\n",
    "Cada columna puede ser vista como una serie"
   ]
  },
  {
   "cell_type": "code",
   "execution_count": 3,
   "metadata": {
    "colab": {
     "base_uri": "https://localhost:8080/",
     "height": 206
    },
    "id": "pLXZyHwvS4GK",
    "outputId": "435a3e7c-5e17-4aed-9ee6-ef60a4eb1450"
   },
   "outputs": [
    {
     "data": {
      "text/html": [
       "<div>\n",
       "<style scoped>\n",
       "    .dataframe tbody tr th:only-of-type {\n",
       "        vertical-align: middle;\n",
       "    }\n",
       "\n",
       "    .dataframe tbody tr th {\n",
       "        vertical-align: top;\n",
       "    }\n",
       "\n",
       "    .dataframe thead th {\n",
       "        text-align: right;\n",
       "    }\n",
       "</style>\n",
       "<table border=\"1\" class=\"dataframe\">\n",
       "  <thead>\n",
       "    <tr style=\"text-align: right;\">\n",
       "      <th></th>\n",
       "      <th>Valor</th>\n",
       "      <th>Desviacion</th>\n",
       "      <th>Media</th>\n",
       "      <th>Error</th>\n",
       "    </tr>\n",
       "  </thead>\n",
       "  <tbody>\n",
       "    <tr>\n",
       "      <th>a</th>\n",
       "      <td>-0.607548</td>\n",
       "      <td>-0.126136</td>\n",
       "      <td>-0.684606</td>\n",
       "      <td>0.928715</td>\n",
       "    </tr>\n",
       "    <tr>\n",
       "      <th>b</th>\n",
       "      <td>-1.844401</td>\n",
       "      <td>-0.467002</td>\n",
       "      <td>2.292490</td>\n",
       "      <td>0.488810</td>\n",
       "    </tr>\n",
       "    <tr>\n",
       "      <th>c</th>\n",
       "      <td>0.710267</td>\n",
       "      <td>1.055534</td>\n",
       "      <td>0.054073</td>\n",
       "      <td>0.257953</td>\n",
       "    </tr>\n",
       "    <tr>\n",
       "      <th>d</th>\n",
       "      <td>0.588282</td>\n",
       "      <td>0.885244</td>\n",
       "      <td>-1.017007</td>\n",
       "      <td>-0.133693</td>\n",
       "    </tr>\n",
       "    <tr>\n",
       "      <th>e</th>\n",
       "      <td>-0.438186</td>\n",
       "      <td>0.493443</td>\n",
       "      <td>-0.199009</td>\n",
       "      <td>-1.274984</td>\n",
       "    </tr>\n",
       "  </tbody>\n",
       "</table>\n",
       "</div>"
      ],
      "text/plain": [
       "      Valor  Desviacion     Media     Error\n",
       "a -0.607548   -0.126136 -0.684606  0.928715\n",
       "b -1.844401   -0.467002  2.292490  0.488810\n",
       "c  0.710267    1.055534  0.054073  0.257953\n",
       "d  0.588282    0.885244 -1.017007 -0.133693\n",
       "e -0.438186    0.493443 -0.199009 -1.274984"
      ]
     },
     "execution_count": 3,
     "metadata": {},
     "output_type": "execute_result"
    }
   ],
   "source": [
    "datos=randn(5,4)\n",
    "indices=['a','b','c','d','e']\n",
    "columnas=['Valor','Desviacion','Media','Error']\n",
    "df1=pd.DataFrame(data=datos, index=indices, columns=columnas)\n",
    "df1"
   ]
  },
  {
   "cell_type": "markdown",
   "metadata": {
    "id": "AbZD5DdAS4GL"
   },
   "source": [
    "## Trabajo con columnas\n",
    "* Si deseamos obtener una columna, simplemente colocamos el nombre\n",
    "* Esto nos regresa una serie con los datos e indices correspondientes"
   ]
  },
  {
   "cell_type": "code",
   "execution_count": 4,
   "metadata": {
    "colab": {
     "base_uri": "https://localhost:8080/"
    },
    "id": "N8slNzkUS4GM",
    "outputId": "1e41f38b-a0b5-4b18-9041-608311342f49"
   },
   "outputs": [
    {
     "name": "stdout",
     "output_type": "stream",
     "text": [
      "a   -0.684606\n",
      "b    2.292490\n",
      "c    0.054073\n",
      "d   -1.017007\n",
      "e   -0.199009\n",
      "Name: Media, dtype: float64\n"
     ]
    }
   ],
   "source": [
    "medias=df1['Media']\n",
    "print(medias)"
   ]
  },
  {
   "cell_type": "markdown",
   "metadata": {
    "id": "KVhz90F4S4GM"
   },
   "source": [
    "* Si lo deseamos podemos usar una **sintaxis similar a SQL**, pero **no es recomendable pues puede crear confusion** con el uso de algún metodo o propiedad. Es mejor usar $[]$"
   ]
  },
  {
   "cell_type": "code",
   "execution_count": 5,
   "metadata": {
    "colab": {
     "base_uri": "https://localhost:8080/"
    },
    "id": "WTb7TSxzS4GN",
    "outputId": "545c88e1-6c68-4601-a33b-f6c91d8a702a"
   },
   "outputs": [
    {
     "name": "stdout",
     "output_type": "stream",
     "text": [
      "a   -0.126136\n",
      "b   -0.467002\n",
      "c    1.055534\n",
      "d    0.885244\n",
      "e    0.493443\n",
      "Name: Desviacion, dtype: float64\n"
     ]
    }
   ],
   "source": [
    "desviaciones=df1.Desviacion\n",
    "print(desviaciones)"
   ]
  },
  {
   "cell_type": "markdown",
   "metadata": {
    "id": "zEE3I_iGS4GO"
   },
   "source": [
    "* Podemos obtener más de una columna listando sus nombres, hay que usar $[[]]$\n",
    "* El resultado es un **dataframe**."
   ]
  },
  {
   "cell_type": "code",
   "execution_count": 6,
   "metadata": {
    "colab": {
     "base_uri": "https://localhost:8080/"
    },
    "id": "82Ili03yS4GO",
    "outputId": "26d04b17-8739-4d36-febd-ec0eacd3a922"
   },
   "outputs": [
    {
     "name": "stdout",
     "output_type": "stream",
     "text": [
      "   Desviacion     Error\n",
      "a   -0.126136  0.928715\n",
      "b   -0.467002  0.488810\n",
      "c    1.055534  0.257953\n",
      "d    0.885244 -0.133693\n",
      "e    0.493443 -1.274984\n"
     ]
    }
   ],
   "source": [
    "misDatos=df1[['Desviacion','Error']]\n",
    "print(misDatos)"
   ]
  },
  {
   "cell_type": "markdown",
   "metadata": {
    "id": "r8o_F2qFS4GP"
   },
   "source": [
    "## Adicion de columnas\n",
    "* Podemos adicionar nuevas columnas si lo necesitamos\n",
    "* Simplemente hacemos una asignación con el nombre de la nueva columna"
   ]
  },
  {
   "cell_type": "code",
   "execution_count": 7,
   "metadata": {
    "colab": {
     "base_uri": "https://localhost:8080/"
    },
    "id": "D8MX2rcCS4GP",
    "outputId": "8242998f-6e32-46e4-b151-a30483863ef1"
   },
   "outputs": [
    {
     "name": "stdout",
     "output_type": "stream",
     "text": [
      "      Valor  Desviacion     Media     Error  Escalar\n",
      "a -0.607548   -0.126136 -0.684606  0.928715        3\n",
      "b -1.844401   -0.467002  2.292490  0.488810        2\n",
      "c  0.710267    1.055534  0.054073  0.257953        1\n",
      "d  0.588282    0.885244 -1.017007 -0.133693        6\n",
      "e -0.438186    0.493443 -0.199009 -1.274984        5\n"
     ]
    }
   ],
   "source": [
    "df1['Escalar']=[3,2,1,6,5]\n",
    "print(df1)"
   ]
  },
  {
   "cell_type": "code",
   "execution_count": 8,
   "metadata": {
    "colab": {
     "base_uri": "https://localhost:8080/"
    },
    "id": "yzlG5z1gS4GQ",
    "outputId": "81fa7c19-ff47-43a7-c8c8-8227b973f5dc"
   },
   "outputs": [
    {
     "name": "stdout",
     "output_type": "stream",
     "text": [
      "   Desviacion     Error   Totales\n",
      "a   -0.126136  0.928715  0.802578\n",
      "b   -0.467002  0.488810  0.021808\n",
      "c    1.055534  0.257953  1.313488\n",
      "d    0.885244 -0.133693  0.751551\n",
      "e    0.493443 -1.274984 -0.781540\n"
     ]
    },
    {
     "name": "stderr",
     "output_type": "stream",
     "text": [
      "/tmp/ipykernel_5430/3620897413.py:1: SettingWithCopyWarning: \n",
      "A value is trying to be set on a copy of a slice from a DataFrame.\n",
      "Try using .loc[row_indexer,col_indexer] = value instead\n",
      "\n",
      "See the caveats in the documentation: https://pandas.pydata.org/pandas-docs/stable/user_guide/indexing.html#returning-a-view-versus-a-copy\n",
      "  misDatos['Totales']=misDatos['Desviacion']+misDatos['Error']\n"
     ]
    }
   ],
   "source": [
    "misDatos['Totales']=misDatos['Desviacion']+misDatos['Error']\n",
    "print(misDatos)\n",
    "# El warning es comun al hacer este tipo de operaciones\n",
    "# Pandas siempre trata de proteger la informacion original, por lo que ciertas operaciones generan warnings"
   ]
  },
  {
   "cell_type": "markdown",
   "metadata": {
    "id": "od-sFaU-S4GQ"
   },
   "source": [
    "## Borrado de columnas\n",
    "* Podemos eliminar una columna si lo deseamos\n",
    "* Para esto usamos `drop`, `axis=1` para indicar la columna\n",
    "* El resultado es un dataframe sin la columna, el df original no se ve afectado, esto lo hace pandas por seguridad para no perder información que puede ser importante"
   ]
  },
  {
   "cell_type": "code",
   "execution_count": 9,
   "metadata": {
    "colab": {
     "base_uri": "https://localhost:8080/"
    },
    "id": "Q_XCmH5SS4GR",
    "outputId": "35e0fb3d-af4b-418f-cc0f-2a3c4b3b21ac"
   },
   "outputs": [
    {
     "name": "stdout",
     "output_type": "stream",
     "text": [
      "   Desviacion   Totales\n",
      "a   -0.126136  0.802578\n",
      "b   -0.467002  0.021808\n",
      "c    1.055534  1.313488\n",
      "d    0.885244  0.751551\n",
      "e    0.493443 -0.781540\n",
      "   Desviacion     Error   Totales\n",
      "a   -0.126136  0.928715  0.802578\n",
      "b   -0.467002  0.488810  0.021808\n",
      "c    1.055534  0.257953  1.313488\n",
      "d    0.885244 -0.133693  0.751551\n",
      "e    0.493443 -1.274984 -0.781540\n"
     ]
    }
   ],
   "source": [
    "datos2=misDatos.drop('Error',axis=1)\n",
    "print(datos2)\n",
    "print(misDatos)"
   ]
  },
  {
   "cell_type": "markdown",
   "metadata": {
    "id": "-0cYKndCS4GR"
   },
   "source": [
    "* Si deseamos que se vea afectado el df original, debemos de indicar **inplace=True**"
   ]
  },
  {
   "cell_type": "code",
   "execution_count": 10,
   "metadata": {
    "colab": {
     "base_uri": "https://localhost:8080/"
    },
    "id": "ps5DWc_NS4GR",
    "outputId": "53177078-d46d-4644-ba03-541ac6b361b5"
   },
   "outputs": [
    {
     "name": "stdout",
     "output_type": "stream",
     "text": [
      "   Desviacion   Totales\n",
      "a   -0.126136  0.802578\n",
      "b   -0.467002  0.021808\n",
      "c    1.055534  1.313488\n",
      "d    0.885244  0.751551\n",
      "e    0.493443 -0.781540\n"
     ]
    },
    {
     "name": "stderr",
     "output_type": "stream",
     "text": [
      "/tmp/ipykernel_5430/974167772.py:1: SettingWithCopyWarning: \n",
      "A value is trying to be set on a copy of a slice from a DataFrame\n",
      "\n",
      "See the caveats in the documentation: https://pandas.pydata.org/pandas-docs/stable/user_guide/indexing.html#returning-a-view-versus-a-copy\n",
      "  misDatos.drop('Error',axis=1, inplace=True)\n"
     ]
    }
   ],
   "source": [
    "misDatos.drop('Error',axis=1, inplace=True)\n",
    "print(misDatos)"
   ]
  },
  {
   "cell_type": "markdown",
   "metadata": {
    "id": "gWgzH38ZS4GR"
   },
   "source": [
    "## Eliminacion de filas\n",
    "Tambien podemos eliminar filas, usamos inplace si deseamos que sea en el df original\n"
   ]
  },
  {
   "cell_type": "code",
   "execution_count": 11,
   "metadata": {
    "colab": {
     "base_uri": "https://localhost:8080/"
    },
    "id": "WkIEsypZS4GS",
    "outputId": "1c31e05f-f748-486c-97f2-e135f0b9379b"
   },
   "outputs": [
    {
     "name": "stderr",
     "output_type": "stream",
     "text": [
      "/tmp/ipykernel_5430/3680099954.py:1: SettingWithCopyWarning: \n",
      "A value is trying to be set on a copy of a slice from a DataFrame\n",
      "\n",
      "See the caveats in the documentation: https://pandas.pydata.org/pandas-docs/stable/user_guide/indexing.html#returning-a-view-versus-a-copy\n",
      "  misDatos.drop('d', inplace =True)\n"
     ]
    },
    {
     "data": {
      "text/html": [
       "<div>\n",
       "<style scoped>\n",
       "    .dataframe tbody tr th:only-of-type {\n",
       "        vertical-align: middle;\n",
       "    }\n",
       "\n",
       "    .dataframe tbody tr th {\n",
       "        vertical-align: top;\n",
       "    }\n",
       "\n",
       "    .dataframe thead th {\n",
       "        text-align: right;\n",
       "    }\n",
       "</style>\n",
       "<table border=\"1\" class=\"dataframe\">\n",
       "  <thead>\n",
       "    <tr style=\"text-align: right;\">\n",
       "      <th></th>\n",
       "      <th>Desviacion</th>\n",
       "      <th>Totales</th>\n",
       "    </tr>\n",
       "  </thead>\n",
       "  <tbody>\n",
       "    <tr>\n",
       "      <th>a</th>\n",
       "      <td>-0.126136</td>\n",
       "      <td>0.802578</td>\n",
       "    </tr>\n",
       "    <tr>\n",
       "      <th>b</th>\n",
       "      <td>-0.467002</td>\n",
       "      <td>0.021808</td>\n",
       "    </tr>\n",
       "    <tr>\n",
       "      <th>c</th>\n",
       "      <td>1.055534</td>\n",
       "      <td>1.313488</td>\n",
       "    </tr>\n",
       "    <tr>\n",
       "      <th>e</th>\n",
       "      <td>0.493443</td>\n",
       "      <td>-0.781540</td>\n",
       "    </tr>\n",
       "  </tbody>\n",
       "</table>\n",
       "</div>"
      ],
      "text/plain": [
       "   Desviacion   Totales\n",
       "a   -0.126136  0.802578\n",
       "b   -0.467002  0.021808\n",
       "c    1.055534  1.313488\n",
       "e    0.493443 -0.781540"
      ]
     },
     "execution_count": 11,
     "metadata": {},
     "output_type": "execute_result"
    }
   ],
   "source": [
    "misDatos.drop('d', inplace =True)\n",
    "misDatos"
   ]
  },
  {
   "cell_type": "code",
   "execution_count": 12,
   "metadata": {
    "colab": {
     "base_uri": "https://localhost:8080/"
    },
    "id": "LPfQ87PJS4GS",
    "outputId": "b17b5985-f2cf-4ece-b705-ff5e5eb960dd"
   },
   "outputs": [
    {
     "name": "stdout",
     "output_type": "stream",
     "text": [
      "   Desviacion   Totales\n",
      "a   -0.126136  0.802578\n",
      "b   -0.467002  0.021808\n",
      "c    1.055534  1.313488\n",
      "e    0.493443 -0.781540\n"
     ]
    }
   ],
   "source": [
    "print(misDatos)"
   ]
  },
  {
   "cell_type": "markdown",
   "metadata": {
    "id": "GxClMUItS4GT"
   },
   "source": [
    "## Dimension del dataframe\n",
    "Encontramos las dimensiones de df"
   ]
  },
  {
   "cell_type": "code",
   "execution_count": 13,
   "metadata": {
    "colab": {
     "base_uri": "https://localhost:8080/"
    },
    "id": "iUk4U-S5S4GT",
    "outputId": "63167f78-7b22-4823-a2bb-eaef80209ee9"
   },
   "outputs": [
    {
     "data": {
      "text/plain": [
       "(4, 2)"
      ]
     },
     "execution_count": 13,
     "metadata": {},
     "output_type": "execute_result"
    }
   ],
   "source": [
    "misDatos.shape"
   ]
  },
  {
   "cell_type": "markdown",
   "metadata": {
    "id": "k3bQXqdPS4GT"
   },
   "source": [
    "## Seleccion de filas\n",
    "* Podemos seleccionar filas también. Existen dos metodos\n",
    "* El primero es usar locaciones por medio de `loc`\n",
    "* Este nos regresa una serie"
   ]
  },
  {
   "cell_type": "code",
   "execution_count": 14,
   "metadata": {
    "colab": {
     "base_uri": "https://localhost:8080/"
    },
    "id": "BFYiDFqUS4GT",
    "outputId": "25dc38aa-631f-4649-eaaa-c5518c7dca79"
   },
   "outputs": [
    {
     "name": "stdout",
     "output_type": "stream",
     "text": [
      "Valor        -0.607548\n",
      "Desviacion   -0.126136\n",
      "Media        -0.684606\n",
      "Error         0.928715\n",
      "Escalar       3.000000\n",
      "Name: a, dtype: float64\n"
     ]
    }
   ],
   "source": [
    "filaA=df1.loc['a']\n",
    "              \n",
    "print(filaA)"
   ]
  },
  {
   "cell_type": "markdown",
   "metadata": {
    "id": "abwVeAWbS4GT"
   },
   "source": [
    "* Con loc tambien podemos obtener más de una fila"
   ]
  },
  {
   "cell_type": "code",
   "execution_count": 15,
   "metadata": {
    "colab": {
     "base_uri": "https://localhost:8080/"
    },
    "id": "hLITLBqjS4GU",
    "outputId": "16741bb4-9432-40a9-9b53-539ec98e7ede"
   },
   "outputs": [
    {
     "name": "stdout",
     "output_type": "stream",
     "text": [
      "      Valor  Desviacion     Media     Error  Escalar\n",
      "a -0.607548   -0.126136 -0.684606  0.928715        3\n",
      "e -0.438186    0.493443 -0.199009 -1.274984        5\n"
     ]
    }
   ],
   "source": [
    "filasVocal=df1.loc[['a','e']]\n",
    "print(filasVocal)"
   ]
  },
  {
   "cell_type": "markdown",
   "metadata": {
    "id": "O2_llPYcS4GU"
   },
   "source": [
    "* El segundo metodo es por medio de `iloc`, con el cual damos la locación por índice"
   ]
  },
  {
   "cell_type": "code",
   "execution_count": 16,
   "metadata": {
    "colab": {
     "base_uri": "https://localhost:8080/"
    },
    "id": "UmY-fqIPS4GU",
    "outputId": "66739d44-aa77-4cc9-ee05-31547d3dc818"
   },
   "outputs": [
    {
     "name": "stdout",
     "output_type": "stream",
     "text": [
      "Valor         0.588282\n",
      "Desviacion    0.885244\n",
      "Media        -1.017007\n",
      "Error        -0.133693\n",
      "Escalar       6.000000\n",
      "Name: d, dtype: float64\n"
     ]
    }
   ],
   "source": [
    "fila3=df1.iloc[3]\n",
    "print(fila3)"
   ]
  },
  {
   "cell_type": "code",
   "execution_count": 17,
   "metadata": {
    "colab": {
     "base_uri": "https://localhost:8080/"
    },
    "id": "_APwuHLHS4GU",
    "outputId": "ea16d31b-f0ab-4459-b05a-7d714fb1407a"
   },
   "outputs": [
    {
     "name": "stdout",
     "output_type": "stream",
     "text": [
      "      Valor  Desviacion     Media     Error  Escalar\n",
      "b -1.844401   -0.467002  2.292490  0.488810        2\n",
      "d  0.588282    0.885244 -1.017007 -0.133693        6\n"
     ]
    }
   ],
   "source": [
    "filasImpares=df1.iloc[[1,3]]\n",
    "print(filasImpares)"
   ]
  },
  {
   "cell_type": "markdown",
   "metadata": {
    "id": "dYp78YkgS4GV"
   },
   "source": [
    "## Acceder a un elemento\n",
    "Si deaseamos podemos acceder a un elemento en particular"
   ]
  },
  {
   "cell_type": "code",
   "execution_count": 18,
   "metadata": {
    "colab": {
     "base_uri": "https://localhost:8080/"
    },
    "id": "WOVbJT6SS4GV",
    "outputId": "5749070d-c2de-4e0c-f7c1-cf51143381a7"
   },
   "outputs": [
    {
     "name": "stdout",
     "output_type": "stream",
     "text": [
      "      Valor  Desviacion     Media     Error  Escalar\n",
      "a -0.607548   -0.126136 -0.684606  0.928715        3\n",
      "b -1.844401   -0.467002  2.292490  0.488810        2\n",
      "c  0.710267    1.055534  0.054073  0.257953        1\n",
      "d  0.588282    0.885244 -1.017007 -0.133693        6\n",
      "e -0.438186    0.493443 -0.199009 -1.274984        5\n",
      "2.2924903431515506\n"
     ]
    }
   ],
   "source": [
    "print(df1)\n",
    "valor=df1.loc['b','Media']\n",
    "print(valor)"
   ]
  },
  {
   "cell_type": "markdown",
   "metadata": {
    "id": "G0niYpZAS4GV"
   },
   "source": [
    "## Obtener subconjunto del dataset\n",
    "Podemos obtener un subconjunto del dataset"
   ]
  },
  {
   "cell_type": "code",
   "execution_count": 19,
   "metadata": {
    "colab": {
     "base_uri": "https://localhost:8080/"
    },
    "id": "vz3DFZahS4GV",
    "outputId": "4ae8ae81-50ef-4a39-a5b7-5ba1053ae29b"
   },
   "outputs": [
    {
     "name": "stdout",
     "output_type": "stream",
     "text": [
      "      Error  Escalar\n",
      "a  0.928715        3\n",
      "b  0.488810        2\n"
     ]
    }
   ],
   "source": [
    "tabla=df1.loc[['a','b'],['Error','Escalar']]\n",
    "print(tabla)"
   ]
  }
 ],
 "metadata": {
  "colab": {
   "collapsed_sections": [],
   "name": "Pandas02.ipynb",
   "provenance": []
  },
  "kernelspec": {
   "display_name": "Python 3 (ipykernel)",
   "language": "python",
   "name": "python3"
  },
  "language_info": {
   "codemirror_mode": {
    "name": "ipython",
    "version": 3
   },
   "file_extension": ".py",
   "mimetype": "text/x-python",
   "name": "python",
   "nbconvert_exporter": "python",
   "pygments_lexer": "ipython3",
   "version": "3.10.4"
  }
 },
 "nbformat": 4,
 "nbformat_minor": 4
}
