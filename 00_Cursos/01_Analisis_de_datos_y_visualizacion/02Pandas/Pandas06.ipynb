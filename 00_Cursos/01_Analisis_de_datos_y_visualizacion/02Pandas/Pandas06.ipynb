{
 "cells": [
  {
   "cell_type": "markdown",
   "metadata": {
    "id": "6uwqeRh0jUtm"
   },
   "source": [
    "# Datos faltantes\n",
    "* Ahora veremos como trabajar con datos faltantes\n",
    "* Estas son técnicas basicas, la imputacion es un tema que puede ser mucho mas complejo y requiere estudiarse mas adelante."
   ]
  },
  {
   "cell_type": "code",
   "execution_count": 1,
   "metadata": {
    "id": "9S00-JjIjUtn"
   },
   "outputs": [],
   "source": [
    "import numpy as np\n",
    "import pandas as pd"
   ]
  },
  {
   "cell_type": "markdown",
   "metadata": {
    "id": "HHFTp4WnjUto"
   },
   "source": [
    "Creamos un dataframe que tenga valores faltantes<BR>\n",
    "Podemos colocar un NaN al usar np.nan"
   ]
  },
  {
   "cell_type": "code",
   "execution_count": 2,
   "metadata": {
    "colab": {
     "base_uri": "https://localhost:8080/"
    },
    "id": "ck1ak_n3jUto",
    "outputId": "fd5db546-f868-465e-abac-74936d09e61d"
   },
   "outputs": [
    {
     "name": "stdout",
     "output_type": "stream",
     "text": [
      "     A    B   C\n",
      "0  2.0  3.0   5\n",
      "1  4.0  NaN  10\n",
      "2  NaN  NaN  15\n"
     ]
    }
   ],
   "source": [
    "d={'A':[2,4,np.nan], 'B':[3,np.nan,np.nan], 'C':[5,10,15]}\n",
    "df1=pd.DataFrame(d)\n",
    "print(df1)"
   ]
  },
  {
   "cell_type": "markdown",
   "metadata": {
    "id": "RE3dYkIJjUtp"
   },
   "source": [
    "## Eliminar filas y columnas con valores faltantes\n",
    "Con dropna pandas elimina filas con valores faltantes<BR>\n",
    "    Con que se tenga un valor faltante es bastante para eliminar la fila"
   ]
  },
  {
   "cell_type": "code",
   "execution_count": 3,
   "metadata": {
    "colab": {
     "base_uri": "https://localhost:8080/"
    },
    "id": "u2WiPRZCjUtq",
    "outputId": "456144d1-1399-4680-df24-3f41b8f65b79"
   },
   "outputs": [
    {
     "name": "stdout",
     "output_type": "stream",
     "text": [
      "     A    B  C\n",
      "0  2.0  3.0  5\n"
     ]
    }
   ],
   "source": [
    "r1=df1.dropna()\n",
    "print(r1)"
   ]
  },
  {
   "cell_type": "markdown",
   "metadata": {
    "id": "uuWK3v8ljUtq"
   },
   "source": [
    "Tambien podemos hacerlo con columnas al indicar el eje"
   ]
  },
  {
   "cell_type": "code",
   "execution_count": 4,
   "metadata": {
    "colab": {
     "base_uri": "https://localhost:8080/"
    },
    "id": "jsXzG1--jUtr",
    "outputId": "f92a77aa-c594-41ba-c325-f57d4dc18efb"
   },
   "outputs": [
    {
     "name": "stdout",
     "output_type": "stream",
     "text": [
      "    C\n",
      "0   5\n",
      "1  10\n",
      "2  15\n"
     ]
    }
   ],
   "source": [
    "r2=df1.dropna(axis=1)\n",
    "print(r2)"
   ]
  },
  {
   "cell_type": "markdown",
   "metadata": {
    "id": "4Bp88e_ujUts"
   },
   "source": [
    "Podemos colocar un umbral para indicar si una fila/columna con al menos n valores correctos se conserva"
   ]
  },
  {
   "cell_type": "code",
   "execution_count": 5,
   "metadata": {
    "colab": {
     "base_uri": "https://localhost:8080/"
    },
    "id": "HYppyxeljUts",
    "outputId": "ca5c6df8-ff54-463d-8a3a-982e024495e9"
   },
   "outputs": [
    {
     "name": "stdout",
     "output_type": "stream",
     "text": [
      "     A    B   C\n",
      "0  2.0  3.0   5\n",
      "1  4.0  NaN  10\n",
      "------\n",
      "     A   C\n",
      "0  2.0   5\n",
      "1  4.0  10\n",
      "2  NaN  15\n"
     ]
    }
   ],
   "source": [
    "r3=df1.dropna(thresh=2)\n",
    "print(r3)\n",
    "print('------')\n",
    "r3c=df1.dropna(thresh=2,axis=1)\n",
    "print(r3c)"
   ]
  },
  {
   "cell_type": "markdown",
   "metadata": {
    "id": "U8iUro_ejUtt"
   },
   "source": [
    "## Rellenar valores faltantes\n",
    "Si lo deseamos podemos llenar los nan"
   ]
  },
  {
   "cell_type": "code",
   "execution_count": 6,
   "metadata": {
    "colab": {
     "base_uri": "https://localhost:8080/"
    },
    "id": "SwAeLkrfjUtt",
    "outputId": "6f62381e-f171-4534-88bd-fc5ea36457ce"
   },
   "outputs": [
    {
     "name": "stdout",
     "output_type": "stream",
     "text": [
      "      A     B   C\n",
      "0   2.0   3.0   5\n",
      "1   4.0  10.0  10\n",
      "2  10.0  10.0  15\n"
     ]
    }
   ],
   "source": [
    "r4=df1.fillna(value=10)\n",
    "print(r4)"
   ]
  },
  {
   "cell_type": "markdown",
   "metadata": {
    "id": "P--d1-ykjUtu"
   },
   "source": [
    "Podemos colocar los valores faltantes de una columna al valor de la media de esa columna"
   ]
  },
  {
   "cell_type": "code",
   "execution_count": 7,
   "metadata": {
    "colab": {
     "base_uri": "https://localhost:8080/"
    },
    "id": "I1jFUXK6jUtu",
    "outputId": "9443b5f5-65b9-4427-d866-ee7ec969c801"
   },
   "outputs": [
    {
     "name": "stdout",
     "output_type": "stream",
     "text": [
      "0    2.0\n",
      "1    4.0\n",
      "2    3.0\n",
      "Name: A, dtype: float64\n"
     ]
    }
   ],
   "source": [
    "r5=df1['A'].fillna(value=df1['A'].mean())\n",
    "print(r5)"
   ]
  },
  {
   "cell_type": "code",
   "execution_count": 8,
   "metadata": {
    "colab": {
     "base_uri": "https://localhost:8080/",
     "height": 143
    },
    "id": "efRqCIz4jUtu",
    "outputId": "c73756f3-46f5-48ce-9a9c-8220f069e381"
   },
   "outputs": [
    {
     "data": {
      "text/html": [
       "<div>\n",
       "<style scoped>\n",
       "    .dataframe tbody tr th:only-of-type {\n",
       "        vertical-align: middle;\n",
       "    }\n",
       "\n",
       "    .dataframe tbody tr th {\n",
       "        vertical-align: top;\n",
       "    }\n",
       "\n",
       "    .dataframe thead th {\n",
       "        text-align: right;\n",
       "    }\n",
       "</style>\n",
       "<table border=\"1\" class=\"dataframe\">\n",
       "  <thead>\n",
       "    <tr style=\"text-align: right;\">\n",
       "      <th></th>\n",
       "      <th>A</th>\n",
       "      <th>B</th>\n",
       "      <th>C</th>\n",
       "    </tr>\n",
       "  </thead>\n",
       "  <tbody>\n",
       "    <tr>\n",
       "      <th>0</th>\n",
       "      <td>2.0</td>\n",
       "      <td>3.0</td>\n",
       "      <td>5</td>\n",
       "    </tr>\n",
       "    <tr>\n",
       "      <th>1</th>\n",
       "      <td>4.0</td>\n",
       "      <td>NaN</td>\n",
       "      <td>10</td>\n",
       "    </tr>\n",
       "    <tr>\n",
       "      <th>2</th>\n",
       "      <td>NaN</td>\n",
       "      <td>NaN</td>\n",
       "      <td>15</td>\n",
       "    </tr>\n",
       "  </tbody>\n",
       "</table>\n",
       "</div>"
      ],
      "text/plain": [
       "     A    B   C\n",
       "0  2.0  3.0   5\n",
       "1  4.0  NaN  10\n",
       "2  NaN  NaN  15"
      ]
     },
     "execution_count": 8,
     "metadata": {},
     "output_type": "execute_result"
    }
   ],
   "source": [
    "df1"
   ]
  },
  {
   "cell_type": "code",
   "execution_count": 9,
   "metadata": {
    "id": "oj-1psqGjUtv"
   },
   "outputs": [],
   "source": [
    "df1['A'].fillna(value=df1['A'].mean(), inplace=True)"
   ]
  },
  {
   "cell_type": "code",
   "execution_count": 10,
   "metadata": {
    "colab": {
     "base_uri": "https://localhost:8080/",
     "height": 143
    },
    "id": "8oCC6IkZjUtv",
    "outputId": "3a58cf48-0356-4858-b412-b607391eb899"
   },
   "outputs": [
    {
     "data": {
      "text/html": [
       "<div>\n",
       "<style scoped>\n",
       "    .dataframe tbody tr th:only-of-type {\n",
       "        vertical-align: middle;\n",
       "    }\n",
       "\n",
       "    .dataframe tbody tr th {\n",
       "        vertical-align: top;\n",
       "    }\n",
       "\n",
       "    .dataframe thead th {\n",
       "        text-align: right;\n",
       "    }\n",
       "</style>\n",
       "<table border=\"1\" class=\"dataframe\">\n",
       "  <thead>\n",
       "    <tr style=\"text-align: right;\">\n",
       "      <th></th>\n",
       "      <th>A</th>\n",
       "      <th>B</th>\n",
       "      <th>C</th>\n",
       "    </tr>\n",
       "  </thead>\n",
       "  <tbody>\n",
       "    <tr>\n",
       "      <th>0</th>\n",
       "      <td>2.0</td>\n",
       "      <td>3.0</td>\n",
       "      <td>5</td>\n",
       "    </tr>\n",
       "    <tr>\n",
       "      <th>1</th>\n",
       "      <td>4.0</td>\n",
       "      <td>NaN</td>\n",
       "      <td>10</td>\n",
       "    </tr>\n",
       "    <tr>\n",
       "      <th>2</th>\n",
       "      <td>3.0</td>\n",
       "      <td>NaN</td>\n",
       "      <td>15</td>\n",
       "    </tr>\n",
       "  </tbody>\n",
       "</table>\n",
       "</div>"
      ],
      "text/plain": [
       "     A    B   C\n",
       "0  2.0  3.0   5\n",
       "1  4.0  NaN  10\n",
       "2  3.0  NaN  15"
      ]
     },
     "execution_count": 10,
     "metadata": {},
     "output_type": "execute_result"
    }
   ],
   "source": [
    "df1"
   ]
  }
 ],
 "metadata": {
  "colab": {
   "collapsed_sections": [],
   "name": "Pandas06.ipynb",
   "provenance": []
  },
  "kernelspec": {
   "display_name": "Python 3 (ipykernel)",
   "language": "python",
   "name": "python3"
  },
  "language_info": {
   "codemirror_mode": {
    "name": "ipython",
    "version": 3
   },
   "file_extension": ".py",
   "mimetype": "text/x-python",
   "name": "python",
   "nbconvert_exporter": "python",
   "pygments_lexer": "ipython3",
   "version": "3.10.4"
  }
 },
 "nbformat": 4,
 "nbformat_minor": 4
}
