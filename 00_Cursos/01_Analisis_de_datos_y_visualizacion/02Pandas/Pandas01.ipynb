{
 "cells": [
  {
   "cell_type": "markdown",
   "metadata": {
    "id": "oFwU0K3ORrUf"
   },
   "source": [
    "# Pandas\n",
    "* Es una biblioteca que esta construida sobre **Numpy**.\n",
    "* No ayuda en el análisis, limpieza y preparación de los datos.\n",
    "* Es rápido y eficiente.\n",
    "* Tiene algunas herramientas de visualización.\n",
    "* Nos permite trabajar con datos que proveienen de diferentes fuentes."
   ]
  },
  {
   "cell_type": "code",
   "execution_count": 2,
   "metadata": {},
   "outputs": [
    {
     "name": "stdout",
     "output_type": "stream",
     "text": [
      "Collecting pandas\n",
      "  Downloading pandas-1.4.2-cp310-cp310-manylinux_2_17_x86_64.manylinux2014_x86_64.whl (11.7 MB)\n",
      "\u001b[2K     \u001b[38;2;114;156;31m━━━━━━━━━━━━━━━━━━━━━━━━━━━━━━━━━━━━━━━━\u001b[0m \u001b[32m11.7/11.7 MB\u001b[0m \u001b[31m29.5 MB/s\u001b[0m eta \u001b[36m0:00:00\u001b[0m[36m0:00:01\u001b[0m[36m0:00:01\u001b[0m01\u001b[0m\n",
      "\u001b[?25hRequirement already satisfied: pytz>=2020.1 in /home/wdna/miniconda3/envs/python3.10/lib/python3.10/site-packages (from pandas) (2022.1)\n",
      "Requirement already satisfied: python-dateutil>=2.8.1 in /home/wdna/miniconda3/envs/python3.10/lib/python3.10/site-packages (from pandas) (2.8.2)\n",
      "Requirement already satisfied: numpy>=1.21.0 in /home/wdna/miniconda3/envs/python3.10/lib/python3.10/site-packages (from pandas) (1.22.4)\n",
      "Requirement already satisfied: six>=1.5 in /home/wdna/miniconda3/envs/python3.10/lib/python3.10/site-packages (from python-dateutil>=2.8.1->pandas) (1.16.0)\n",
      "Installing collected packages: pandas\n",
      "Successfully installed pandas-1.4.2\n"
     ]
    }
   ],
   "source": [
    "!pip install pandas"
   ]
  },
  {
   "cell_type": "markdown",
   "metadata": {
    "id": "QF6wzbZvRrUg"
   },
   "source": [
    "## Series\n",
    "* Es similar a un arreglo de numpy.\n",
    "* La diferencia que tiene, es que nos permiten tener **etiquetas** e **indexar por etiqueta**."
   ]
  },
  {
   "cell_type": "code",
   "execution_count": 3,
   "metadata": {
    "id": "mgZx7_tURrUh"
   },
   "outputs": [
    {
     "name": "stdout",
     "output_type": "stream",
     "text": [
      "1.22.4\n",
      "1.4.2\n"
     ]
    }
   ],
   "source": [
    "import numpy as np\n",
    "import pandas as pd\n",
    "print(np.__version__)\n",
    "print(pd.__version__)"
   ]
  },
  {
   "cell_type": "markdown",
   "metadata": {
    "id": "0kPBUYtCRrUi"
   },
   "source": [
    "## Creacion de series\n",
    "* Podemos crear series de una variedad de tipos de datos.\n",
    "* Empezamos con una lista.\n",
    "* **data** es el parametro al cual le pasamos la lista con nuetros datos hay que notar que han quedado indexados."
   ]
  },
  {
   "cell_type": "code",
   "execution_count": 4,
   "metadata": {
    "colab": {
     "base_uri": "https://localhost:8080/"
    },
    "id": "G2EMWgBaRrUi",
    "outputId": "959198c4-c28c-4786-a866-73b65655c7d2"
   },
   "outputs": [
    {
     "name": "stdout",
     "output_type": "stream",
     "text": [
      "0     5\n",
      "1    10\n",
      "2    15\n",
      "dtype: int64\n"
     ]
    }
   ],
   "source": [
    "misdatos=[5,10,15]\n",
    "s1=pd.Series(data=misdatos)\n",
    "print(s1)"
   ]
  },
  {
   "cell_type": "markdown",
   "metadata": {
    "id": "_YwJjlTDRrUj"
   },
   "source": [
    "* Si lo deseamos podemos indicar los índices por medio de etiquetas."
   ]
  },
  {
   "cell_type": "code",
   "execution_count": 5,
   "metadata": {
    "colab": {
     "base_uri": "https://localhost:8080/"
    },
    "id": "K6m5AgnmRrUk",
    "outputId": "cea4b764-5cba-44ab-d198-6ba7eded16d5"
   },
   "outputs": [
    {
     "name": "stdout",
     "output_type": "stream",
     "text": [
      "a     5\n",
      "b    10\n",
      "c    15\n",
      "dtype: int64\n"
     ]
    }
   ],
   "source": [
    "misIndices=['a','b','c']\n",
    "s1=pd.Series(data=misdatos, index=misIndices)\n",
    "print(s1)"
   ]
  },
  {
   "cell_type": "markdown",
   "metadata": {
    "id": "qc-fKdeHRrUk"
   },
   "source": [
    "* Podemos pasar un arreglo de numpy"
   ]
  },
  {
   "cell_type": "code",
   "execution_count": 13,
   "metadata": {
    "colab": {
     "base_uri": "https://localhost:8080/"
    },
    "id": "ZAIcllASRrUl",
    "outputId": "92035cec-5b8a-4cbf-f50f-39e92308de2e"
   },
   "outputs": [
    {
     "name": "stdout",
     "output_type": "stream",
     "text": [
      "0    3\n",
      "1    4\n",
      "2    5\n",
      "3    6\n",
      "4    7\n",
      "5    8\n",
      "dtype: int64\n"
     ]
    }
   ],
   "source": [
    "arreglo=np.arange(3,9)\n",
    "s2=pd.Series(data=arreglo)\n",
    "print(s2)"
   ]
  },
  {
   "cell_type": "markdown",
   "metadata": {
    "id": "nyWeEgKLRrUm"
   },
   "source": [
    "* Podemos usar también un diccionario, en este caso las llaves quedan como índices"
   ]
  },
  {
   "cell_type": "code",
   "execution_count": 9,
   "metadata": {
    "colab": {
     "base_uri": "https://localhost:8080/"
    },
    "id": "TujVZW93RrUm",
    "outputId": "4a7252f8-8df1-405f-97b9-80cbdb748844"
   },
   "outputs": [
    {
     "name": "stdout",
     "output_type": "stream",
     "text": [
      "a    20\n",
      "b    30\n",
      "c    40\n",
      "d    50\n",
      "dtype: int64\n"
     ]
    }
   ],
   "source": [
    "miDic={'a':20, 'b':30, 'c':40, 'd':50}\n",
    "s3=pd.Series(data=miDic)\n",
    "print(s3)"
   ]
  },
  {
   "cell_type": "markdown",
   "metadata": {
    "id": "xGAXz-DlRrUm"
   },
   "source": [
    "* Una ventaja que tienen las series es que pueden tener elementos de diferentes tipos, no solo números"
   ]
  },
  {
   "cell_type": "code",
   "execution_count": 10,
   "metadata": {
    "colab": {
     "base_uri": "https://localhost:8080/"
    },
    "id": "QUKps_6dRrUn",
    "outputId": "60889dd9-4cf2-42e4-a13f-7384a1bfc34d"
   },
   "outputs": [
    {
     "name": "stdout",
     "output_type": "stream",
     "text": [
      "0          hola\n",
      "1             a\n",
      "2         todos\n",
      "3    mis amigos\n",
      "4             5\n",
      "5          True\n",
      "dtype: object\n"
     ]
    }
   ],
   "source": [
    "palabras=['hola','a','todos','mis amigos',5,True]\n",
    "s4=pd.Series(data=palabras)\n",
    "print(s4)"
   ]
  },
  {
   "cell_type": "markdown",
   "metadata": {
    "id": "Sff-FWfQRrUn"
   },
   "source": [
    "## Acceso\n",
    "* Podemos acceder a los elementos por medio del índice numérico."
   ]
  },
  {
   "cell_type": "code",
   "execution_count": 14,
   "metadata": {
    "colab": {
     "base_uri": "https://localhost:8080/"
    },
    "id": "L45dYoi5RrUn",
    "outputId": "af4529da-caa9-483c-9de3-beedd47dc672"
   },
   "outputs": [
    {
     "name": "stdout",
     "output_type": "stream",
     "text": [
      "0    3\n",
      "1    4\n",
      "2    5\n",
      "3    6\n",
      "4    7\n",
      "5    8\n",
      "dtype: int64\n",
      "número vale  6\n",
      "0      3\n",
      "1      4\n",
      "2      5\n",
      "3      6\n",
      "4    100\n",
      "5      8\n",
      "dtype: int64\n"
     ]
    }
   ],
   "source": [
    "print(s2)\n",
    "# Adquirimos el elemento\n",
    "numero=s2[3]\n",
    "print('número vale ',numero)\n",
    "\n",
    "# Asignamos en el elemento\n",
    "s2[4]=100\n",
    "print(s2)"
   ]
  },
  {
   "cell_type": "markdown",
   "metadata": {
    "id": "Ip7e7XtvRrUo"
   },
   "source": [
    "* También podemos acceder con el nombre del índice"
   ]
  },
  {
   "cell_type": "code",
   "execution_count": 15,
   "metadata": {
    "colab": {
     "base_uri": "https://localhost:8080/"
    },
    "id": "7qf5r7eXRrUo",
    "outputId": "ffb8006f-d522-45ec-ed09-80420a7346c8"
   },
   "outputs": [
    {
     "name": "stdout",
     "output_type": "stream",
     "text": [
      "a    20\n",
      "b    30\n",
      "c    40\n",
      "d    50\n",
      "dtype: int64\n",
      "valor es  30\n",
      "a    20\n",
      "b    30\n",
      "c    45\n",
      "d    50\n",
      "dtype: int64\n"
     ]
    }
   ],
   "source": [
    "print(s3)\n",
    "valor=s3['b']\n",
    "print(\"valor es \", valor)\n",
    "s3['c']=45\n",
    "print(s3)"
   ]
  },
  {
   "cell_type": "markdown",
   "metadata": {
    "id": "JUDvM0yBRrUo"
   },
   "source": [
    "## Operaciones aritmeticas\n",
    "\n",
    "* Se puden hacer operaciones aritméticas con las series $+ - * /$\n",
    "* Hay que tener cuidado que serie aparece primera como operando.\n",
    "* Los elementos no correspondientes aparecen como **NaN**.\n",
    "* Cuando se usan operaciones los valores se convierte automaticamente a flotantes."
   ]
  },
  {
   "cell_type": "code",
   "execution_count": 16,
   "metadata": {
    "colab": {
     "base_uri": "https://localhost:8080/"
    },
    "id": "okZQAOKQRrUp",
    "outputId": "87414f82-4070-421f-f1a9-bae03ee95a90"
   },
   "outputs": [
    {
     "name": "stdout",
     "output_type": "stream",
     "text": [
      "Manzana    1\n",
      "Pera       2\n",
      "Mango      3\n",
      "Platano    4\n",
      "dtype: int64\n",
      "Manzana     3\n",
      "Aguacate    5\n",
      "Mango       7\n",
      "Ciruela     8\n",
      "dtype: int64\n"
     ]
    }
   ],
   "source": [
    "tienda1=pd.Series(data=[1,2,3,4], index=['Manzana','Pera','Mango','Platano'])\n",
    "tienda2=pd.Series(data=[3,5,7,8], index=['Manzana','Aguacate','Mango','Ciruela'])\n",
    "print(tienda1)\n",
    "print(tienda2)"
   ]
  },
  {
   "cell_type": "code",
   "execution_count": 17,
   "metadata": {
    "colab": {
     "base_uri": "https://localhost:8080/"
    },
    "id": "g3168CpYRrUp",
    "outputId": "59be7a73-b173-4ed7-9b16-6d150466480a"
   },
   "outputs": [
    {
     "name": "stdout",
     "output_type": "stream",
     "text": [
      "Aguacate     NaN\n",
      "Ciruela      NaN\n",
      "Mango       10.0\n",
      "Manzana      4.0\n",
      "Pera         NaN\n",
      "Platano      NaN\n",
      "dtype: float64\n"
     ]
    }
   ],
   "source": [
    "total1=tienda1+tienda2\n",
    "print(total1)"
   ]
  },
  {
   "cell_type": "code",
   "execution_count": 18,
   "metadata": {
    "colab": {
     "base_uri": "https://localhost:8080/"
    },
    "id": "km5U1aPkRrUp",
    "outputId": "5aea2834-4267-4f32-8ab8-fbfba0419178"
   },
   "outputs": [
    {
     "name": "stdout",
     "output_type": "stream",
     "text": [
      "Aguacate    NaN\n",
      "Ciruela     NaN\n",
      "Mango      -4.0\n",
      "Manzana    -2.0\n",
      "Pera        NaN\n",
      "Platano     NaN\n",
      "dtype: float64\n"
     ]
    }
   ],
   "source": [
    "resta1=tienda1-tienda2\n",
    "print(resta1)"
   ]
  },
  {
   "cell_type": "code",
   "execution_count": 19,
   "metadata": {
    "colab": {
     "base_uri": "https://localhost:8080/"
    },
    "id": "-LdaIl1nRrUq",
    "outputId": "fd38a725-b78b-479f-f938-3839d8398663"
   },
   "outputs": [
    {
     "name": "stdout",
     "output_type": "stream",
     "text": [
      "Aguacate     NaN\n",
      "Ciruela      NaN\n",
      "Mango       21.0\n",
      "Manzana      3.0\n",
      "Pera         NaN\n",
      "Platano      NaN\n",
      "dtype: float64\n"
     ]
    }
   ],
   "source": [
    "producto=tienda1*tienda2\n",
    "print(producto)"
   ]
  },
  {
   "cell_type": "code",
   "execution_count": 20,
   "metadata": {
    "colab": {
     "base_uri": "https://localhost:8080/"
    },
    "id": "MgXAp0loRrUq",
    "outputId": "45b10059-29b4-47f6-c39d-2824e7e4f248"
   },
   "outputs": [
    {
     "name": "stdout",
     "output_type": "stream",
     "text": [
      "Aguacate         NaN\n",
      "Ciruela          NaN\n",
      "Mango       0.428571\n",
      "Manzana     0.333333\n",
      "Pera             NaN\n",
      "Platano          NaN\n",
      "dtype: float64\n"
     ]
    }
   ],
   "source": [
    "div=tienda1/tienda2\n",
    "print(div)"
   ]
  }
 ],
 "metadata": {
  "colab": {
   "collapsed_sections": [],
   "name": "Pandas01.ipynb",
   "provenance": []
  },
  "kernelspec": {
   "display_name": "Python 3 (ipykernel)",
   "language": "python",
   "name": "python3"
  },
  "language_info": {
   "codemirror_mode": {
    "name": "ipython",
    "version": 3
   },
   "file_extension": ".py",
   "mimetype": "text/x-python",
   "name": "python",
   "nbconvert_exporter": "python",
   "pygments_lexer": "ipython3",
   "version": "3.10.4"
  }
 },
 "nbformat": 4,
 "nbformat_minor": 4
}
