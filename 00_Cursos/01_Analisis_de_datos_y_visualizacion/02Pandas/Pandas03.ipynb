{
 "cells": [
  {
   "cell_type": "markdown",
   "metadata": {
    "id": "HQikOqZSaxNz"
   },
   "source": [
    "# Seleccion de informacion\n",
    "* Trabajaremos en diferentes formas de seleccionar informacion del dataframe"
   ]
  },
  {
   "cell_type": "code",
   "execution_count": 1,
   "metadata": {
    "id": "_L3SpaC1axN1"
   },
   "outputs": [],
   "source": [
    "import numpy as np\n",
    "import pandas as pd\n",
    "from numpy.random import randn\n",
    "#Colocamos el seed\n",
    "np.random.seed(40)"
   ]
  },
  {
   "cell_type": "code",
   "execution_count": 2,
   "metadata": {
    "colab": {
     "base_uri": "https://localhost:8080/",
     "height": 206
    },
    "id": "4WfbTOo4axN2",
    "outputId": "ba682fb5-139a-43ff-ef7e-9daf3b5c17b4"
   },
   "outputs": [
    {
     "data": {
      "text/html": [
       "<div>\n",
       "<style scoped>\n",
       "    .dataframe tbody tr th:only-of-type {\n",
       "        vertical-align: middle;\n",
       "    }\n",
       "\n",
       "    .dataframe tbody tr th {\n",
       "        vertical-align: top;\n",
       "    }\n",
       "\n",
       "    .dataframe thead th {\n",
       "        text-align: right;\n",
       "    }\n",
       "</style>\n",
       "<table border=\"1\" class=\"dataframe\">\n",
       "  <thead>\n",
       "    <tr style=\"text-align: right;\">\n",
       "      <th></th>\n",
       "      <th>Valor</th>\n",
       "      <th>Desviacion</th>\n",
       "      <th>Media</th>\n",
       "      <th>Error</th>\n",
       "    </tr>\n",
       "  </thead>\n",
       "  <tbody>\n",
       "    <tr>\n",
       "      <th>a</th>\n",
       "      <td>-0.607548</td>\n",
       "      <td>-0.126136</td>\n",
       "      <td>-0.684606</td>\n",
       "      <td>0.928715</td>\n",
       "    </tr>\n",
       "    <tr>\n",
       "      <th>b</th>\n",
       "      <td>-1.844401</td>\n",
       "      <td>-0.467002</td>\n",
       "      <td>2.292490</td>\n",
       "      <td>0.488810</td>\n",
       "    </tr>\n",
       "    <tr>\n",
       "      <th>c</th>\n",
       "      <td>0.710267</td>\n",
       "      <td>1.055534</td>\n",
       "      <td>0.054073</td>\n",
       "      <td>0.257953</td>\n",
       "    </tr>\n",
       "    <tr>\n",
       "      <th>d</th>\n",
       "      <td>0.588282</td>\n",
       "      <td>0.885244</td>\n",
       "      <td>-1.017007</td>\n",
       "      <td>-0.133693</td>\n",
       "    </tr>\n",
       "    <tr>\n",
       "      <th>e</th>\n",
       "      <td>-0.438186</td>\n",
       "      <td>0.493443</td>\n",
       "      <td>-0.199009</td>\n",
       "      <td>-1.274984</td>\n",
       "    </tr>\n",
       "  </tbody>\n",
       "</table>\n",
       "</div>"
      ],
      "text/plain": [
       "      Valor  Desviacion     Media     Error\n",
       "a -0.607548   -0.126136 -0.684606  0.928715\n",
       "b -1.844401   -0.467002  2.292490  0.488810\n",
       "c  0.710267    1.055534  0.054073  0.257953\n",
       "d  0.588282    0.885244 -1.017007 -0.133693\n",
       "e -0.438186    0.493443 -0.199009 -1.274984"
      ]
     },
     "execution_count": 2,
     "metadata": {},
     "output_type": "execute_result"
    }
   ],
   "source": [
    "datos=randn(5,4)\n",
    "indices=['a','b','c','d','e']\n",
    "columnas=['Valor','Desviacion','Media','Error']\n",
    "df1=pd.DataFrame(data=datos, index=indices, columns=columnas)\n",
    "df1"
   ]
  },
  {
   "cell_type": "markdown",
   "metadata": {
    "id": "1rrjdF5taxN3"
   },
   "source": [
    "## Seleccion condicional\n",
    "* Pandas nos ofrece tener selección condicional\n",
    "* Si colocamos el dataframe en una expresion condicional obtenemos una serie de valores booleanos\n",
    "* Si el elemento cumple la condicion es True, sino es False"
   ]
  },
  {
   "cell_type": "code",
   "execution_count": 3,
   "metadata": {
    "colab": {
     "base_uri": "https://localhost:8080/"
    },
    "id": "4aPQHF31axN9",
    "outputId": "6866e02b-2c6d-44bc-d660-5d800d411ab3"
   },
   "outputs": [
    {
     "name": "stdout",
     "output_type": "stream",
     "text": [
      "   Valor  Desviacion  Media  Error\n",
      "a  False       False  False   True\n",
      "b  False       False   True   True\n",
      "c   True        True   True   True\n",
      "d   True        True  False  False\n",
      "e  False        True  False  False\n"
     ]
    }
   ],
   "source": [
    "bdf1 = df1>0\n",
    "print(bdf1)"
   ]
  },
  {
   "cell_type": "markdown",
   "metadata": {
    "id": "zHgdKGihaxN9"
   },
   "source": [
    "* Si pasamos ese nuevo dataframe con valores booleanos al dataframe original, entonces solo los que tengan **True** se copian y los demas pasan como **NaN**"
   ]
  },
  {
   "cell_type": "code",
   "execution_count": 4,
   "metadata": {
    "colab": {
     "base_uri": "https://localhost:8080/"
    },
    "id": "ufI8Cmb3axN-",
    "outputId": "efb063d8-399e-4b51-ba1f-019abbc6dfc9"
   },
   "outputs": [
    {
     "name": "stdout",
     "output_type": "stream",
     "text": [
      "      Valor  Desviacion     Media     Error\n",
      "a       NaN         NaN       NaN  0.928715\n",
      "b       NaN         NaN  2.292490  0.488810\n",
      "c  0.710267    1.055534  0.054073  0.257953\n",
      "d  0.588282    0.885244       NaN       NaN\n",
      "e       NaN    0.493443       NaN       NaN\n"
     ]
    }
   ],
   "source": [
    "df1r=df1[bdf1]\n",
    "print(df1r)"
   ]
  },
  {
   "cell_type": "markdown",
   "metadata": {
    "id": "T21-F2RGaxN_"
   },
   "source": [
    "* Lo podemos hacer en un solo paso"
   ]
  },
  {
   "cell_type": "code",
   "execution_count": 5,
   "metadata": {
    "colab": {
     "base_uri": "https://localhost:8080/"
    },
    "id": "kKXwSx-eaxN_",
    "outputId": "8b6a9be8-01a3-419a-c5df-644495f9d010"
   },
   "outputs": [
    {
     "name": "stdout",
     "output_type": "stream",
     "text": [
      "      Valor  Desviacion     Media     Error\n",
      "a       NaN         NaN       NaN  0.928715\n",
      "b       NaN         NaN  2.292490  0.488810\n",
      "c  0.710267    1.055534  0.054073  0.257953\n",
      "d  0.588282    0.885244       NaN       NaN\n",
      "e       NaN    0.493443       NaN       NaN\n"
     ]
    }
   ],
   "source": [
    "df1r=df1[df1>0]\n",
    "print(df1r)"
   ]
  },
  {
   "cell_type": "markdown",
   "metadata": {
    "id": "uzdjark3axOA"
   },
   "source": [
    "* Podemos saber si una columna cumple determinada condicion"
   ]
  },
  {
   "cell_type": "code",
   "execution_count": 6,
   "metadata": {
    "colab": {
     "base_uri": "https://localhost:8080/"
    },
    "id": "UxaAbItnaxOA",
    "outputId": "83f405f0-1350-471e-9e8c-99c12508b563"
   },
   "outputs": [
    {
     "name": "stdout",
     "output_type": "stream",
     "text": [
      "a    False\n",
      "b    False\n",
      "c     True\n",
      "d     True\n",
      "e    False\n",
      "Name: Valor, dtype: bool\n"
     ]
    }
   ],
   "source": [
    "condicionValor=df1['Valor']>0\n",
    "print(condicionValor)"
   ]
  },
  {
   "cell_type": "markdown",
   "metadata": {
    "id": "Ci83KbGEaxOB"
   },
   "source": [
    "* Y esto nos sirve para seleccionar o filtrar filas basandonos en los valores de la columna"
   ]
  },
  {
   "cell_type": "code",
   "execution_count": 7,
   "metadata": {
    "colab": {
     "base_uri": "https://localhost:8080/"
    },
    "id": "26JLPC6DaxOB",
    "outputId": "7bdb3233-b253-473a-8fa4-8ef1ebb0b5e3"
   },
   "outputs": [
    {
     "name": "stdout",
     "output_type": "stream",
     "text": [
      "      Valor  Desviacion     Media     Error\n",
      "c  0.710267    1.055534  0.054073  0.257953\n",
      "d  0.588282    0.885244 -1.017007 -0.133693\n"
     ]
    }
   ],
   "source": [
    "valoresPositivos=df1[df1['Valor']>0]\n",
    "print(valoresPositivos)"
   ]
  },
  {
   "cell_type": "markdown",
   "metadata": {
    "id": "8vzaxYRLaxOB"
   },
   "source": [
    "* Con eso recibimos el dataframe completo, pero podemos tomar solo cierta columna cuando se cumpla la condicion de otra columna\n",
    "* El valor en Media de aquellos cuyo Valor sea >0"
   ]
  },
  {
   "cell_type": "code",
   "execution_count": 8,
   "metadata": {
    "colab": {
     "base_uri": "https://localhost:8080/"
    },
    "id": "LeagGU9qaxOC",
    "outputId": "c514152f-27c1-487c-bc2e-c5c900931795"
   },
   "outputs": [
    {
     "name": "stdout",
     "output_type": "stream",
     "text": [
      "c    0.054073\n",
      "d   -1.017007\n",
      "Name: Media, dtype: float64\n"
     ]
    }
   ],
   "source": [
    "MediaValor=df1[df1['Valor']>0]['Media']\n",
    "print(MediaValor)"
   ]
  },
  {
   "cell_type": "markdown",
   "metadata": {
    "id": "4MYOZbTuaxOC"
   },
   "source": [
    "* Si deseamos utilizar una seleccion que lleve una expresion lógica tenemos que usar **&** **|**"
   ]
  },
  {
   "cell_type": "code",
   "execution_count": 9,
   "metadata": {
    "colab": {
     "base_uri": "https://localhost:8080/"
    },
    "id": "LBxT7B-jaxOC",
    "outputId": "9b88ab85-3318-4ad9-8114-bbfea480f512"
   },
   "outputs": [
    {
     "name": "stdout",
     "output_type": "stream",
     "text": [
      "      Valor  Desviacion     Media     Error\n",
      "c  0.710267    1.055534  0.054073  0.257953\n",
      "d  0.588282    0.885244 -1.017007 -0.133693\n"
     ]
    }
   ],
   "source": [
    "r=df1[(df1['Valor']>0) & (df1['Media']<1)]\n",
    "print(r)"
   ]
  }
 ],
 "metadata": {
  "colab": {
   "collapsed_sections": [],
   "name": "Pandas03.ipynb",
   "provenance": []
  },
  "kernelspec": {
   "display_name": "Python 3 (ipykernel)",
   "language": "python",
   "name": "python3"
  },
  "language_info": {
   "codemirror_mode": {
    "name": "ipython",
    "version": 3
   },
   "file_extension": ".py",
   "mimetype": "text/x-python",
   "name": "python",
   "nbconvert_exporter": "python",
   "pygments_lexer": "ipython3",
   "version": "3.10.4"
  }
 },
 "nbformat": 4,
 "nbformat_minor": 4
}
