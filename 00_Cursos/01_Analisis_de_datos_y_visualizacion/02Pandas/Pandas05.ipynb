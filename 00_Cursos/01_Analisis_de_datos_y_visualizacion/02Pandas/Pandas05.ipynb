{
 "cells": [
  {
   "cell_type": "markdown",
   "metadata": {
    "id": "_53GMM_tc2AN"
   },
   "source": [
    "# MultiIndex y jerarquia de indices"
   ]
  },
  {
   "cell_type": "code",
   "execution_count": 1,
   "metadata": {
    "id": "Tm5B8NHhc2AO"
   },
   "outputs": [],
   "source": [
    "import numpy as np\n",
    "import pandas as pd\n",
    "import numpy.random"
   ]
  },
  {
   "cell_type": "markdown",
   "metadata": {
    "id": "eRYMhb36c2AP"
   },
   "source": [
    "El uso de list con zip, nos permite crear una lista de tuplas<BR>\n",
    "Luego creamos un MultiIndex tomando la lista de tuplas<BR>\n",
    "El primer nivel de indices son I1, I2<BR>\n",
    "El segundo nivel de indices son 1,2,3"
   ]
  },
  {
   "cell_type": "code",
   "execution_count": 2,
   "metadata": {
    "colab": {
     "base_uri": "https://localhost:8080/"
    },
    "id": "DEUjoD_Gc2AQ",
    "outputId": "4c0503d9-6b29-42a3-818d-d214cbfd7ce9"
   },
   "outputs": [
    {
     "name": "stdout",
     "output_type": "stream",
     "text": [
      "[('I1', 1), ('I1', 2), ('I1', 3), ('I2', 1), ('I2', 2), ('I2', 3)]\n",
      "------\n",
      "MultiIndex([('I1', 1),\n",
      "            ('I1', 2),\n",
      "            ('I1', 3),\n",
      "            ('I2', 1),\n",
      "            ('I2', 2),\n",
      "            ('I2', 3)],\n",
      "           )\n"
     ]
    }
   ],
   "source": [
    "exterior=['I1','I1','I1','I2','I2','I2']\n",
    "interior=[1,2,3,1,2,3]\n",
    "jerarquia=list(zip(exterior,interior))\n",
    "print(jerarquia)\n",
    "print('------')\n",
    "jerarquia=pd.MultiIndex.from_tuples(jerarquia)\n",
    "print(jerarquia)"
   ]
  },
  {
   "cell_type": "markdown",
   "metadata": {
    "id": "eABhoL63c2AR"
   },
   "source": [
    "Creamos ahora un dataframe de 6x2 pasando el MultiIndex<BR>\n",
    "    Las columnas seran C1,C2"
   ]
  },
  {
   "cell_type": "code",
   "execution_count": 3,
   "metadata": {
    "colab": {
     "base_uri": "https://localhost:8080/"
    },
    "id": "R5chWycqc2AS",
    "outputId": "bcc03b2a-8a39-423a-d402-0dea4de408c1"
   },
   "outputs": [
    {
     "name": "stdout",
     "output_type": "stream",
     "text": [
      "            C1        C2\n",
      "I1 1  0.965579 -0.296018\n",
      "   2  0.162242 -0.453653\n",
      "   3  0.109199  0.437155\n",
      "I2 1  0.591545 -1.032018\n",
      "   2 -0.551595  1.207590\n",
      "   3  0.324066  0.121210\n"
     ]
    }
   ],
   "source": [
    "df1=pd.DataFrame(np.random.randn(6,2),jerarquia,['C1','C2'])\n",
    "print(df1)"
   ]
  },
  {
   "cell_type": "markdown",
   "metadata": {
    "id": "DSb7PQPVc2AS"
   },
   "source": [
    "Vemos que hay dos niveles de indices I1, I2 y adentro de cada uno de ellos 1, 2, 3<BR>\n",
    "Tiene dos columnas C1, C2<BR>\n",
    "Esto se conoce como una jerarquia de indices<BR>\n",
    "Veamos como podemos ir adquiriendo los datos<BR>\n",
    "\n",
    "## Adquirir datos\n",
    "### Obtener una seccion\n",
    "Primero podemos tomar todo lo que corresponde a I1"
   ]
  },
  {
   "cell_type": "code",
   "execution_count": 4,
   "metadata": {
    "colab": {
     "base_uri": "https://localhost:8080/"
    },
    "id": "5NpCZdvcc2AT",
    "outputId": "6765e0fe-7ad7-4ef3-f9b8-17406e662739"
   },
   "outputs": [
    {
     "name": "stdout",
     "output_type": "stream",
     "text": [
      "         C1        C2\n",
      "1  0.965579 -0.296018\n",
      "2  0.162242 -0.453653\n",
      "3  0.109199  0.437155\n"
     ]
    }
   ],
   "source": [
    "datosI1=df1.loc['I1']\n",
    "print(datosI1)"
   ]
  },
  {
   "cell_type": "markdown",
   "metadata": {
    "id": "emvCWedrc2AT"
   },
   "source": [
    "### Obtener una fila de una seccion\n",
    "obtener una fila de la seccion de datos de I1"
   ]
  },
  {
   "cell_type": "code",
   "execution_count": 5,
   "metadata": {
    "colab": {
     "base_uri": "https://localhost:8080/"
    },
    "id": "YpRca70tc2AU",
    "outputId": "e451241a-73c5-4b44-e1ae-602d02941c58"
   },
   "outputs": [
    {
     "name": "stdout",
     "output_type": "stream",
     "text": [
      "C1    0.965579\n",
      "C2   -0.296018\n",
      "Name: 1, dtype: float64\n"
     ]
    }
   ],
   "source": [
    "fila=df1.loc['I1'].loc[1]\n",
    "print(fila)"
   ]
  },
  {
   "cell_type": "markdown",
   "metadata": {
    "id": "-2BHg9hHc2AU"
   },
   "source": [
    "### Obtener un elemento en particular\n",
    "De igual forma podemos obtener un elemento en particular"
   ]
  },
  {
   "cell_type": "code",
   "execution_count": 6,
   "metadata": {
    "colab": {
     "base_uri": "https://localhost:8080/"
    },
    "id": "oh3_sd2bc2AV",
    "outputId": "79e3fdba-f7c5-4bee-f92e-61ec6d9cf68f"
   },
   "outputs": [
    {
     "name": "stdout",
     "output_type": "stream",
     "text": [
      "-0.29601833630478086\n"
     ]
    }
   ],
   "source": [
    "elemento=df1.loc['I1'].loc[1,'C2']\n",
    "print(elemento)"
   ]
  },
  {
   "cell_type": "markdown",
   "metadata": {
    "id": "Ei0Hbggxc2AV"
   },
   "source": [
    "## Nombrar indices\n",
    "Si lo necesitamos podemos clasificar los indices y ponerles nombre"
   ]
  },
  {
   "cell_type": "code",
   "execution_count": 7,
   "metadata": {
    "colab": {
     "base_uri": "https://localhost:8080/"
    },
    "id": "_TtcKAzjc2AW",
    "outputId": "3c1da4fa-7d50-4a52-bdde-83ad44b58e15"
   },
   "outputs": [
    {
     "name": "stdout",
     "output_type": "stream",
     "text": [
      "                       C1        C2\n",
      "Region Distrito                    \n",
      "I1     1         0.965579 -0.296018\n",
      "       2         0.162242 -0.453653\n",
      "       3         0.109199  0.437155\n",
      "I2     1         0.591545 -1.032018\n",
      "       2        -0.551595  1.207590\n",
      "       3         0.324066  0.121210\n"
     ]
    }
   ],
   "source": [
    "df1.index.names=['Region','Distrito']\n",
    "print(df1)"
   ]
  },
  {
   "cell_type": "markdown",
   "metadata": {
    "id": "PKG0z2Vgc2AW"
   },
   "source": [
    "## Cross section\n",
    "* Ahora obtendremos un cross section\n",
    "* También nos permite obtener secciones del dataframe que contenga MultiIndex\n"
   ]
  },
  {
   "cell_type": "code",
   "execution_count": 8,
   "metadata": {
    "colab": {
     "base_uri": "https://localhost:8080/"
    },
    "id": "9rzxCz9Ac2AW",
    "outputId": "0fcd5144-6899-40f1-8e40-0b44a0321cac"
   },
   "outputs": [
    {
     "name": "stdout",
     "output_type": "stream",
     "text": [
      "                       C1        C2\n",
      "Region Distrito                    \n",
      "I1     1         0.965579 -0.296018\n",
      "       2         0.162242 -0.453653\n",
      "       3         0.109199  0.437155\n",
      "I2     1         0.591545 -1.032018\n",
      "       2        -0.551595  1.207590\n",
      "       3         0.324066  0.121210\n",
      "------\n",
      "                C1        C2\n",
      "Distrito                    \n",
      "1         0.965579 -0.296018\n",
      "2         0.162242 -0.453653\n",
      "3         0.109199  0.437155\n"
     ]
    }
   ],
   "source": [
    "print(df1)\n",
    "print('------')\n",
    "seccion=df1.xs('I1')\n",
    "print(seccion)"
   ]
  },
  {
   "cell_type": "markdown",
   "metadata": {
    "id": "7fQtd2SRc2AX"
   },
   "source": [
    "Ahora supongamos que deseamos a todos los del distrito 1 de todas las regiones<BR>\n",
    "Indicamos el valor que buscamos y bajo que subindice"
   ]
  },
  {
   "cell_type": "code",
   "execution_count": 11,
   "metadata": {
    "colab": {
     "base_uri": "https://localhost:8080/"
    },
    "id": "lWBHJWiyc2AX",
    "outputId": "fffed320-27e2-4eb3-eed9-1c0c20f3dcaf"
   },
   "outputs": [
    {
     "name": "stdout",
     "output_type": "stream",
     "text": [
      "              C1        C2\n",
      "Region                    \n",
      "I1      0.162242 -0.453653\n",
      "I2     -0.551595  1.207590\n"
     ]
    }
   ],
   "source": [
    "dist1=df1.xs(2,level='Distrito')\n",
    "print(dist1)"
   ]
  }
 ],
 "metadata": {
  "colab": {
   "collapsed_sections": [],
   "name": "Pandas05.ipynb",
   "provenance": []
  },
  "kernelspec": {
   "display_name": "Python 3 (ipykernel)",
   "language": "python",
   "name": "python3"
  },
  "language_info": {
   "codemirror_mode": {
    "name": "ipython",
    "version": 3
   },
   "file_extension": ".py",
   "mimetype": "text/x-python",
   "name": "python",
   "nbconvert_exporter": "python",
   "pygments_lexer": "ipython3",
   "version": "3.10.4"
  }
 },
 "nbformat": 4,
 "nbformat_minor": 4
}
