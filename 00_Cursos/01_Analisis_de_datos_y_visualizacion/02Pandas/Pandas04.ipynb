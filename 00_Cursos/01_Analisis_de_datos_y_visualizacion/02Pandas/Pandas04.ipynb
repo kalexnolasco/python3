{
 "cells": [
  {
   "cell_type": "markdown",
   "metadata": {
    "id": "0ZILKLOycChu"
   },
   "source": [
    "# Indices\n",
    "* Ahora trabajaremos con índices"
   ]
  },
  {
   "cell_type": "code",
   "execution_count": 1,
   "metadata": {
    "id": "2n_63pelcChw"
   },
   "outputs": [],
   "source": [
    "import numpy as np\n",
    "import pandas as pd\n",
    "from numpy.random import randn\n",
    "#Colocamos el seed\n",
    "np.random.seed(40)"
   ]
  },
  {
   "cell_type": "code",
   "execution_count": 2,
   "metadata": {
    "colab": {
     "base_uri": "https://localhost:8080/"
    },
    "id": "k-m2FkqZcChx",
    "outputId": "c038adce-9051-44f9-96ea-1e336b13df16"
   },
   "outputs": [
    {
     "name": "stdout",
     "output_type": "stream",
     "text": [
      "      Valor  Desviacion     Media     Error\n",
      "a -0.607548   -0.126136 -0.684606  0.928715\n",
      "b -1.844401   -0.467002  2.292490  0.488810\n",
      "c  0.710267    1.055534  0.054073  0.257953\n",
      "d  0.588282    0.885244 -1.017007 -0.133693\n",
      "e -0.438186    0.493443 -0.199009 -1.274984\n"
     ]
    }
   ],
   "source": [
    "datos=randn(5,4)\n",
    "indices=['a','b','c','d','e']\n",
    "columnas=['Valor','Desviacion','Media','Error']\n",
    "df1=pd.DataFrame(data=datos, index=indices, columns=columnas)\n",
    "print(df1)"
   ]
  },
  {
   "cell_type": "markdown",
   "metadata": {
    "id": "Ge-WZG8JcChy"
   },
   "source": [
    "## Resetear el indice\n",
    "* Si deseamos resetear los indices usamos `reset_index`, crea una columna con el nuevo índice\n",
    "* **El índice anterior se convierte en una columna de nombre index**"
   ]
  },
  {
   "cell_type": "code",
   "execution_count": 3,
   "metadata": {
    "colab": {
     "base_uri": "https://localhost:8080/"
    },
    "id": "h-J4sQzOcChy",
    "outputId": "8ab865c5-25ef-4cd3-aca0-7816fab66782"
   },
   "outputs": [
    {
     "name": "stdout",
     "output_type": "stream",
     "text": [
      "  index     Valor  Desviacion     Media     Error\n",
      "0     a -0.607548   -0.126136 -0.684606  0.928715\n",
      "1     b -1.844401   -0.467002  2.292490  0.488810\n",
      "2     c  0.710267    1.055534  0.054073  0.257953\n",
      "3     d  0.588282    0.885244 -1.017007 -0.133693\n",
      "4     e -0.438186    0.493443 -0.199009 -1.274984\n"
     ]
    }
   ],
   "source": [
    "df1I=df1.reset_index()\n",
    "print(df1I)"
   ]
  },
  {
   "cell_type": "markdown",
   "metadata": {
    "id": "QkT5YRlHcChz"
   },
   "source": [
    "Si deseamos que el cambio se realice en la misma matriz colocamos inplace=True"
   ]
  },
  {
   "cell_type": "code",
   "execution_count": 4,
   "metadata": {
    "colab": {
     "base_uri": "https://localhost:8080/"
    },
    "id": "ljcDSHFXcChz",
    "outputId": "6dbba859-ce19-4449-f4f5-81add2098671"
   },
   "outputs": [
    {
     "name": "stdout",
     "output_type": "stream",
     "text": [
      "      Valor  Desviacion     Media     Error\n",
      "a  0.293494    0.108950  0.031727  1.272640\n",
      "b  1.071448    0.415818  1.550679 -0.311379\n",
      "c -1.379240    1.371409  0.027712 -0.320400\n",
      "d -0.846170   -0.433429 -1.337035  0.209172\n",
      "e -1.424321   -0.553477  0.074799 -0.505620\n",
      "  index     Valor  Desviacion     Media     Error\n",
      "0     a  0.293494    0.108950  0.031727  1.272640\n",
      "1     b  1.071448    0.415818  1.550679 -0.311379\n",
      "2     c -1.379240    1.371409  0.027712 -0.320400\n",
      "3     d -0.846170   -0.433429 -1.337035  0.209172\n",
      "4     e -1.424321   -0.553477  0.074799 -0.505620\n"
     ]
    }
   ],
   "source": [
    "datos=randn(5,4)\n",
    "indices=['a','b','c','d','e']\n",
    "columnas=['Valor','Desviacion','Media','Error']\n",
    "df1=pd.DataFrame(data=datos, index=indices, columns=columnas)\n",
    "\n",
    "print(df1)\n",
    "df1.reset_index(inplace=True)\n",
    "print(df1)"
   ]
  },
  {
   "cell_type": "markdown",
   "metadata": {
    "id": "FgT58GnwcCh0"
   },
   "source": [
    "* Si ademas deseamos que elimine el indice anterior usamos **drop=true**"
   ]
  },
  {
   "cell_type": "code",
   "execution_count": 5,
   "metadata": {
    "colab": {
     "base_uri": "https://localhost:8080/"
    },
    "id": "EqLBnGhxcCh1",
    "outputId": "661ed9e9-e9bb-4329-eee2-66511211c372"
   },
   "outputs": [
    {
     "name": "stdout",
     "output_type": "stream",
     "text": [
      "      Valor  Desviacion     Media     Error\n",
      "a  1.052408    0.971400  0.076832 -0.435001\n",
      "b  0.552994    0.266716  0.008989  0.641103\n",
      "c -0.177707    0.696278 -1.188725 -0.331697\n",
      "d  0.030076   -1.107915 -0.549925 -2.032910\n",
      "e  1.407918    0.633108  2.212747 -0.526602\n",
      "      Valor  Desviacion     Media     Error\n",
      "0  1.052408    0.971400  0.076832 -0.435001\n",
      "1  0.552994    0.266716  0.008989  0.641103\n",
      "2 -0.177707    0.696278 -1.188725 -0.331697\n",
      "3  0.030076   -1.107915 -0.549925 -2.032910\n",
      "4  1.407918    0.633108  2.212747 -0.526602\n"
     ]
    }
   ],
   "source": [
    "datos=randn(5,4)\n",
    "indices=['a','b','c','d','e']\n",
    "columnas=['Valor','Desviacion','Media','Error']\n",
    "df1=pd.DataFrame(data=datos, index=indices, columns=columnas)\n",
    "\n",
    "print(df1)\n",
    "df1.reset_index(inplace=True, drop=True)\n",
    "print(df1)"
   ]
  },
  {
   "cell_type": "markdown",
   "metadata": {
    "id": "BFBUSIE5cCh1"
   },
   "source": [
    "## Colocar una columna como indice\n",
    "Podemos tener una columna y transformarla en indices.<BR>\n",
    " Usamos set_index"
   ]
  },
  {
   "cell_type": "code",
   "execution_count": 6,
   "metadata": {
    "colab": {
     "base_uri": "https://localhost:8080/"
    },
    "id": "VKURkMMqcCh2",
    "outputId": "88a379d0-07d3-4b7a-d721-87ee9a5b4253"
   },
   "outputs": [
    {
     "name": "stdout",
     "output_type": "stream",
     "text": [
      "      Valor  Desviacion     Media     Error Proveedor\n",
      "0  1.052408    0.971400  0.076832 -0.435001      pv01\n",
      "1  0.552994    0.266716  0.008989  0.641103      pv02\n",
      "2 -0.177707    0.696278 -1.188725 -0.331697      pv03\n",
      "3  0.030076   -1.107915 -0.549925 -2.032910      pv04\n",
      "4  1.407918    0.633108  2.212747 -0.526602      pv05\n"
     ]
    }
   ],
   "source": [
    "prov=['pv01','pv02','pv03','pv04','pv05']\n",
    "df1['Proveedor']=prov\n",
    "print(df1)"
   ]
  },
  {
   "cell_type": "code",
   "execution_count": 7,
   "metadata": {
    "colab": {
     "base_uri": "https://localhost:8080/",
     "height": 238
    },
    "id": "Z_ZbPLI3cCh2",
    "outputId": "0df3e780-5415-4c71-abd1-bb4e74e83982"
   },
   "outputs": [
    {
     "data": {
      "text/html": [
       "<div>\n",
       "<style scoped>\n",
       "    .dataframe tbody tr th:only-of-type {\n",
       "        vertical-align: middle;\n",
       "    }\n",
       "\n",
       "    .dataframe tbody tr th {\n",
       "        vertical-align: top;\n",
       "    }\n",
       "\n",
       "    .dataframe thead th {\n",
       "        text-align: right;\n",
       "    }\n",
       "</style>\n",
       "<table border=\"1\" class=\"dataframe\">\n",
       "  <thead>\n",
       "    <tr style=\"text-align: right;\">\n",
       "      <th></th>\n",
       "      <th>Valor</th>\n",
       "      <th>Desviacion</th>\n",
       "      <th>Media</th>\n",
       "      <th>Error</th>\n",
       "    </tr>\n",
       "    <tr>\n",
       "      <th>Proveedor</th>\n",
       "      <th></th>\n",
       "      <th></th>\n",
       "      <th></th>\n",
       "      <th></th>\n",
       "    </tr>\n",
       "  </thead>\n",
       "  <tbody>\n",
       "    <tr>\n",
       "      <th>pv01</th>\n",
       "      <td>1.052408</td>\n",
       "      <td>0.971400</td>\n",
       "      <td>0.076832</td>\n",
       "      <td>-0.435001</td>\n",
       "    </tr>\n",
       "    <tr>\n",
       "      <th>pv02</th>\n",
       "      <td>0.552994</td>\n",
       "      <td>0.266716</td>\n",
       "      <td>0.008989</td>\n",
       "      <td>0.641103</td>\n",
       "    </tr>\n",
       "    <tr>\n",
       "      <th>pv03</th>\n",
       "      <td>-0.177707</td>\n",
       "      <td>0.696278</td>\n",
       "      <td>-1.188725</td>\n",
       "      <td>-0.331697</td>\n",
       "    </tr>\n",
       "    <tr>\n",
       "      <th>pv04</th>\n",
       "      <td>0.030076</td>\n",
       "      <td>-1.107915</td>\n",
       "      <td>-0.549925</td>\n",
       "      <td>-2.032910</td>\n",
       "    </tr>\n",
       "    <tr>\n",
       "      <th>pv05</th>\n",
       "      <td>1.407918</td>\n",
       "      <td>0.633108</td>\n",
       "      <td>2.212747</td>\n",
       "      <td>-0.526602</td>\n",
       "    </tr>\n",
       "  </tbody>\n",
       "</table>\n",
       "</div>"
      ],
      "text/plain": [
       "              Valor  Desviacion     Media     Error\n",
       "Proveedor                                          \n",
       "pv01       1.052408    0.971400  0.076832 -0.435001\n",
       "pv02       0.552994    0.266716  0.008989  0.641103\n",
       "pv03      -0.177707    0.696278 -1.188725 -0.331697\n",
       "pv04       0.030076   -1.107915 -0.549925 -2.032910\n",
       "pv05       1.407918    0.633108  2.212747 -0.526602"
      ]
     },
     "execution_count": 7,
     "metadata": {},
     "output_type": "execute_result"
    }
   ],
   "source": [
    "df1.set_index('Proveedor', inplace=True)\n",
    "df1"
   ]
  },
  {
   "cell_type": "code",
   "execution_count": 18,
   "metadata": {
    "id": "ANu9mbKtcCh3"
   },
   "outputs": [],
   "source": []
  }
 ],
 "metadata": {
  "colab": {
   "collapsed_sections": [],
   "name": "Pandas04.ipynb",
   "provenance": []
  },
  "kernelspec": {
   "display_name": "Python 3 (ipykernel)",
   "language": "python",
   "name": "python3"
  },
  "language_info": {
   "codemirror_mode": {
    "name": "ipython",
    "version": 3
   },
   "file_extension": ".py",
   "mimetype": "text/x-python",
   "name": "python",
   "nbconvert_exporter": "python",
   "pygments_lexer": "ipython3",
   "version": "3.10.4"
  }
 },
 "nbformat": 4,
 "nbformat_minor": 4
}
