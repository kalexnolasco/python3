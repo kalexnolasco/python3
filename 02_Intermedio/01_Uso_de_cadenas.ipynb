{
 "cells": [
  {
   "cell_type": "code",
   "execution_count": 1,
   "id": "a6a569b2-c17a-4c8e-8a4e-d1bf494ab2b0",
   "metadata": {},
   "outputs": [
    {
     "name": "stdout",
     "output_type": "stream",
     "text": [
      "Python 3.10.4\n"
     ]
    }
   ],
   "source": [
    "!python --version"
   ]
  },
  {
   "cell_type": "markdown",
   "id": "bd6af5d7-5be8-4a0e-863a-ac9d322584d2",
   "metadata": {
    "jp-MarkdownHeadingCollapsed": true,
    "tags": []
   },
   "source": [
    "# **strip()**\n",
    "* Elimina el exceso de espacios vacios"
   ]
  },
  {
   "cell_type": "code",
   "execution_count": 2,
   "id": "e74454e8-aad1-4a22-a047-ac2ed7b70d26",
   "metadata": {},
   "outputs": [
    {
     "data": {
      "text/plain": [
       "'       Hola a todos      '"
      ]
     },
     "execution_count": 2,
     "metadata": {},
     "output_type": "execute_result"
    }
   ],
   "source": [
    "message = \"       Hola a todos      \"\n",
    "message"
   ]
  },
  {
   "cell_type": "code",
   "execution_count": 3,
   "id": "bd4556a1-2f6b-4364-80f6-cc547be54391",
   "metadata": {},
   "outputs": [
    {
     "data": {
      "text/plain": [
       "'Hola a todos'"
      ]
     },
     "execution_count": 3,
     "metadata": {},
     "output_type": "execute_result"
    }
   ],
   "source": [
    "message.strip()"
   ]
  },
  {
   "cell_type": "code",
   "execution_count": 4,
   "id": "804825a1-fddb-4ee4-97d2-f97b623ff6c2",
   "metadata": {},
   "outputs": [
    {
     "data": {
      "text/plain": [
       "'Hola a todos      '"
      ]
     },
     "execution_count": 4,
     "metadata": {},
     "output_type": "execute_result"
    }
   ],
   "source": [
    "# variante lstrip() -> borrado por la izquierda\n",
    "message.lstrip()"
   ]
  },
  {
   "cell_type": "code",
   "execution_count": 5,
   "id": "d4e068a7-9d43-4f64-8784-4ee43ad5388e",
   "metadata": {},
   "outputs": [
    {
     "data": {
      "text/plain": [
       "'       Hola a todos'"
      ]
     },
     "execution_count": 5,
     "metadata": {},
     "output_type": "execute_result"
    }
   ],
   "source": [
    "# variante rstrip() -> borrado por la derecha\n",
    "message.rstrip()"
   ]
  },
  {
   "cell_type": "markdown",
   "id": "77eec0c6-bb2a-4c57-8719-79745b9a4c84",
   "metadata": {
    "jp-MarkdownHeadingCollapsed": true,
    "tags": []
   },
   "source": [
    "# **lower()**\n",
    "* Cambia todas las letras a minúsculas"
   ]
  },
  {
   "cell_type": "code",
   "execution_count": 6,
   "id": "0f8e2c15-e09b-4dcb-8263-7b1569a0d332",
   "metadata": {},
   "outputs": [
    {
     "data": {
      "text/plain": [
       "'Hola A Mis Amigos'"
      ]
     },
     "execution_count": 6,
     "metadata": {},
     "output_type": "execute_result"
    }
   ],
   "source": [
    "message = \"Hola A Mis Amigos\"\n",
    "message"
   ]
  },
  {
   "cell_type": "code",
   "execution_count": 7,
   "id": "54d44d54-c29c-4275-9f6a-2a2fe6459065",
   "metadata": {},
   "outputs": [
    {
     "data": {
      "text/plain": [
       "'hola a mis amigos'"
      ]
     },
     "execution_count": 7,
     "metadata": {},
     "output_type": "execute_result"
    }
   ],
   "source": [
    "message.lower()"
   ]
  },
  {
   "cell_type": "markdown",
   "id": "16dcfe2a-b932-4bdf-8be5-43c3a2894a6c",
   "metadata": {
    "jp-MarkdownHeadingCollapsed": true,
    "tags": []
   },
   "source": [
    "# **upper()**\n",
    "* Cambia todas las letras a mayúsculas"
   ]
  },
  {
   "cell_type": "code",
   "execution_count": 8,
   "id": "dbc914ac-7119-4790-af92-3c35c307dce7",
   "metadata": {},
   "outputs": [
    {
     "data": {
      "text/plain": [
       "'HOLA A MIS AMIGOS'"
      ]
     },
     "execution_count": 8,
     "metadata": {},
     "output_type": "execute_result"
    }
   ],
   "source": [
    "message.upper()"
   ]
  },
  {
   "cell_type": "markdown",
   "id": "9d5d43b4-b873-4280-a858-450a76890022",
   "metadata": {
    "jp-MarkdownHeadingCollapsed": true,
    "tags": []
   },
   "source": [
    "# **split()**\n",
    "* Crea una lista a partir de la cadena, debemos colocar el delimitador que indicará donde realizar los cortes"
   ]
  },
  {
   "cell_type": "code",
   "execution_count": 9,
   "id": "8bcf81e2-51ea-4d36-a8f4-e2a849889034",
   "metadata": {},
   "outputs": [
    {
     "data": {
      "text/plain": [
       "['Hola', 'A', 'Mis', 'Amigos']"
      ]
     },
     "execution_count": 9,
     "metadata": {},
     "output_type": "execute_result"
    }
   ],
   "source": [
    "message.split(\" \")"
   ]
  },
  {
   "cell_type": "code",
   "execution_count": 10,
   "id": "eebcd7e7-40fe-4639-8408-55f556088cc3",
   "metadata": {},
   "outputs": [
    {
     "data": {
      "text/plain": [
       "'1,2,3,4,5,5,6,6,8'"
      ]
     },
     "execution_count": 10,
     "metadata": {},
     "output_type": "execute_result"
    }
   ],
   "source": [
    "values = \"1,2,3,4,5,5,6,6,8\"\n",
    "values"
   ]
  },
  {
   "cell_type": "code",
   "execution_count": 11,
   "id": "8ddce178-7604-498b-b2a5-874bfbf5e176",
   "metadata": {},
   "outputs": [
    {
     "data": {
      "text/plain": [
       "['1', '2', '3', '4', '5', '5', '6', '6', '8']"
      ]
     },
     "execution_count": 11,
     "metadata": {},
     "output_type": "execute_result"
    }
   ],
   "source": [
    "values.split(\",\")"
   ]
  },
  {
   "cell_type": "markdown",
   "id": "693a3afb-49b1-4993-a9d8-68d5d4979b42",
   "metadata": {
    "jp-MarkdownHeadingCollapsed": true,
    "tags": []
   },
   "source": [
    "# **count()**\n",
    "* Dice la cantidad de veces que una subcadena aparece en un texto."
   ]
  },
  {
   "cell_type": "code",
   "execution_count": 12,
   "id": "f221e487-685b-4480-bb96-ad145d5654dc",
   "metadata": {},
   "outputs": [
    {
     "data": {
      "text/plain": [
       "'En mi casa, en mi auto, en mi escuela, enmicado'"
      ]
     },
     "execution_count": 12,
     "metadata": {},
     "output_type": "execute_result"
    }
   ],
   "source": [
    "message = \"En mi casa, en mi auto, en mi escuela, enmicado\"\n",
    "message"
   ]
  },
  {
   "cell_type": "code",
   "execution_count": 13,
   "id": "7bc94c9d-f574-4667-8072-c6cd5b234e22",
   "metadata": {},
   "outputs": [
    {
     "data": {
      "text/plain": [
       "4"
      ]
     },
     "execution_count": 13,
     "metadata": {},
     "output_type": "execute_result"
    }
   ],
   "source": [
    "message.count(\"mi\")"
   ]
  },
  {
   "cell_type": "code",
   "execution_count": 14,
   "id": "1e9203a7-2423-437b-969c-d0e0519c75d4",
   "metadata": {},
   "outputs": [
    {
     "data": {
      "text/plain": [
       "3"
      ]
     },
     "execution_count": 14,
     "metadata": {},
     "output_type": "execute_result"
    }
   ],
   "source": [
    "message.count(\" mi \")"
   ]
  },
  {
   "cell_type": "code",
   "execution_count": 15,
   "id": "e4cfd800-4b11-4b6b-9e92-2f067a93910e",
   "metadata": {},
   "outputs": [
    {
     "data": {
      "text/plain": [
       "1"
      ]
     },
     "execution_count": 15,
     "metadata": {},
     "output_type": "execute_result"
    }
   ],
   "source": [
    "message.count(\"enmi\")"
   ]
  },
  {
   "cell_type": "markdown",
   "id": "89334e5f-e933-4000-9947-54a440180f7c",
   "metadata": {
    "jp-MarkdownHeadingCollapsed": true,
    "tags": []
   },
   "source": [
    "# **endswith()**\n",
    "* Encuentra si una cadena finaliza con una determinada subcadena o no."
   ]
  },
  {
   "cell_type": "code",
   "execution_count": 16,
   "id": "1002a9ed-2ddb-4d51-8dcb-813fd19909bc",
   "metadata": {},
   "outputs": [
    {
     "data": {
      "text/plain": [
       "True"
      ]
     },
     "execution_count": 16,
     "metadata": {},
     "output_type": "execute_result"
    }
   ],
   "source": [
    "message.endswith(\"ado\")"
   ]
  },
  {
   "cell_type": "code",
   "execution_count": 17,
   "id": "3083a3e0-cbe2-4ba0-a591-85a29c359f2c",
   "metadata": {},
   "outputs": [
    {
     "data": {
      "text/plain": [
       "False"
      ]
     },
     "execution_count": 17,
     "metadata": {},
     "output_type": "execute_result"
    }
   ],
   "source": [
    "message.endswith(\"ido\")"
   ]
  },
  {
   "cell_type": "markdown",
   "id": "e56350e9-06dc-4fa0-94df-7719f492b82a",
   "metadata": {
    "jp-MarkdownHeadingCollapsed": true,
    "tags": []
   },
   "source": [
    "# **capitalize()**\n",
    "* Pone en mayúsculas la primera letra de la cadena"
   ]
  },
  {
   "cell_type": "code",
   "execution_count": 18,
   "id": "b0ca56e4-a522-410f-ab14-1855829f92e7",
   "metadata": {},
   "outputs": [
    {
     "data": {
      "text/plain": [
       "'hola amigos'"
      ]
     },
     "execution_count": 18,
     "metadata": {},
     "output_type": "execute_result"
    }
   ],
   "source": [
    "message = \"hola amigos\"\n",
    "message"
   ]
  },
  {
   "cell_type": "code",
   "execution_count": 19,
   "id": "49a1c807-55be-4d39-a121-fed46127d423",
   "metadata": {},
   "outputs": [
    {
     "data": {
      "text/plain": [
       "'Hola amigos'"
      ]
     },
     "execution_count": 19,
     "metadata": {},
     "output_type": "execute_result"
    }
   ],
   "source": [
    "message.capitalize()"
   ]
  },
  {
   "cell_type": "markdown",
   "id": "73b4bea4-22b3-45ea-b42f-b5916c627656",
   "metadata": {
    "jp-MarkdownHeadingCollapsed": true,
    "tags": []
   },
   "source": [
    "# **center()**\n",
    "* Colaca la cena centrada y rodeada de  carácteres hasta el tamaño que se diga."
   ]
  },
  {
   "cell_type": "code",
   "execution_count": 20,
   "id": "f4a2a6be-c8f5-4523-9273-b29a2fb4b798",
   "metadata": {},
   "outputs": [
    {
     "data": {
      "text/plain": [
       "'*********hola amigos**********'"
      ]
     },
     "execution_count": 20,
     "metadata": {},
     "output_type": "execute_result"
    }
   ],
   "source": [
    "message.center(30, \"*\")"
   ]
  },
  {
   "cell_type": "markdown",
   "id": "6fcd6506-ac6f-4732-89ec-e345677f58dc",
   "metadata": {
    "jp-MarkdownHeadingCollapsed": true,
    "tags": []
   },
   "source": [
    "# **find()**\n",
    "* Nos dice si dentro de la cadena existe determinada subcadena.\n",
    "* Nos devuelve el índice donde empieza la subcadena, -1 si no la encuentra."
   ]
  },
  {
   "cell_type": "code",
   "execution_count": 21,
   "id": "515e1a4f-31dc-4aa9-89c9-7a62309ce742",
   "metadata": {},
   "outputs": [
    {
     "data": {
      "text/plain": [
       "'Me gusta jugar a las canicas'"
      ]
     },
     "execution_count": 21,
     "metadata": {},
     "output_type": "execute_result"
    }
   ],
   "source": [
    "message = \"Me gusta jugar a las canicas\"\n",
    "message"
   ]
  },
  {
   "cell_type": "code",
   "execution_count": 22,
   "id": "9f5d0c20-f9f1-43f3-9eac-45aec2010f46",
   "metadata": {},
   "outputs": [
    {
     "data": {
      "text/plain": [
       "9"
      ]
     },
     "execution_count": 22,
     "metadata": {},
     "output_type": "execute_result"
    }
   ],
   "source": [
    "message.find(\"jugar\")"
   ]
  },
  {
   "cell_type": "code",
   "execution_count": 23,
   "id": "13800ee3-516a-4b3d-ab6c-fd769e1870a7",
   "metadata": {},
   "outputs": [
    {
     "data": {
      "text/plain": [
       "-1"
      ]
     },
     "execution_count": 23,
     "metadata": {},
     "output_type": "execute_result"
    }
   ],
   "source": [
    "message.find(\"empezar\")"
   ]
  },
  {
   "cell_type": "markdown",
   "id": "59ed8721-dccf-4c9b-b4e3-38dfe2125b1e",
   "metadata": {
    "jp-MarkdownHeadingCollapsed": true,
    "tags": []
   },
   "source": [
    "# **index()**\n",
    "* Realiza lo mismo que **find()**, pero si no encuentra la subcadena 'lanza' una excepción."
   ]
  },
  {
   "cell_type": "code",
   "execution_count": 24,
   "id": "7dbc1ded-7c07-46a8-a187-248a52b1e1d8",
   "metadata": {},
   "outputs": [
    {
     "data": {
      "text/plain": [
       "9"
      ]
     },
     "execution_count": 24,
     "metadata": {},
     "output_type": "execute_result"
    }
   ],
   "source": [
    "message.index(\"jugar\")"
   ]
  },
  {
   "cell_type": "code",
   "execution_count": 25,
   "id": "ff6894bd-f6b5-4422-8430-4ce57d9b88ce",
   "metadata": {},
   "outputs": [
    {
     "name": "stdout",
     "output_type": "stream",
     "text": [
      "substring not found\n"
     ]
    }
   ],
   "source": [
    "try:\n",
    "    message.index(\"empezar\")\n",
    "except ValueError as e:\n",
    "    print(e)"
   ]
  },
  {
   "cell_type": "markdown",
   "id": "b7e1534a-9653-4ef2-8179-45691baa0fdc",
   "metadata": {
    "jp-MarkdownHeadingCollapsed": true,
    "tags": []
   },
   "source": [
    "# **isalnum()**\n",
    "* Indica si la cadena es alfanumerica, es decir al menos una letra y un carácter numérico.\n",
    "* El espacio no es considerado carácter alfanumérico"
   ]
  },
  {
   "cell_type": "code",
   "execution_count": 26,
   "id": "3cf2a077-b1aa-401f-85dd-d5d87d02dff2",
   "metadata": {},
   "outputs": [
    {
     "data": {
      "text/plain": [
       "'Todo1010'"
      ]
     },
     "execution_count": 26,
     "metadata": {},
     "output_type": "execute_result"
    }
   ],
   "source": [
    "message = \"Todo1010\"\n",
    "message"
   ]
  },
  {
   "cell_type": "code",
   "execution_count": 27,
   "id": "b9ea5d77-a34a-4810-a9df-065272e55a76",
   "metadata": {},
   "outputs": [
    {
     "data": {
      "text/plain": [
       "True"
      ]
     },
     "execution_count": 27,
     "metadata": {},
     "output_type": "execute_result"
    }
   ],
   "source": [
    "message.isalnum()"
   ]
  },
  {
   "cell_type": "markdown",
   "id": "e086a312-b0f7-452e-8c07-b79546feb94e",
   "metadata": {
    "jp-MarkdownHeadingCollapsed": true,
    "tags": []
   },
   "source": [
    "# **isalpha()**\n",
    "* Indica si existe al menos un carácter alfabético."
   ]
  },
  {
   "cell_type": "code",
   "execution_count": 28,
   "id": "f0d7a8ca-20ea-48c4-884d-fe5efb9f3a80",
   "metadata": {},
   "outputs": [
    {
     "data": {
      "text/plain": [
       "'1020'"
      ]
     },
     "execution_count": 28,
     "metadata": {},
     "output_type": "execute_result"
    }
   ],
   "source": [
    "message = \"1020\"\n",
    "message"
   ]
  },
  {
   "cell_type": "code",
   "execution_count": 29,
   "id": "397f3522-c0f8-4f3a-bc52-96bc772b7c1b",
   "metadata": {},
   "outputs": [
    {
     "data": {
      "text/plain": [
       "False"
      ]
     },
     "execution_count": 29,
     "metadata": {},
     "output_type": "execute_result"
    }
   ],
   "source": [
    "message.isalpha()"
   ]
  },
  {
   "cell_type": "code",
   "execution_count": 30,
   "id": "080f949c-c6be-41ec-80bc-12dad66f7728",
   "metadata": {},
   "outputs": [
    {
     "data": {
      "text/plain": [
       "'hola'"
      ]
     },
     "execution_count": 30,
     "metadata": {},
     "output_type": "execute_result"
    }
   ],
   "source": [
    "message = \"hola\"\n",
    "message"
   ]
  },
  {
   "cell_type": "code",
   "execution_count": 31,
   "id": "6c586bdb-bd05-4395-a1e7-9ce630b27677",
   "metadata": {},
   "outputs": [
    {
     "data": {
      "text/plain": [
       "True"
      ]
     },
     "execution_count": 31,
     "metadata": {},
     "output_type": "execute_result"
    }
   ],
   "source": [
    "message.isalpha()"
   ]
  },
  {
   "cell_type": "markdown",
   "id": "c70a4825-18dd-46ac-ab11-22a8346ef012",
   "metadata": {
    "jp-MarkdownHeadingCollapsed": true,
    "tags": []
   },
   "source": [
    "# **isdigit()**\n",
    "* Indica si todos los carácteres son numéricos."
   ]
  },
  {
   "cell_type": "code",
   "execution_count": 32,
   "id": "e2ecb404-146b-49ab-8657-1f6c286c9da2",
   "metadata": {},
   "outputs": [
    {
     "data": {
      "text/plain": [
       "'3.14'"
      ]
     },
     "execution_count": 32,
     "metadata": {},
     "output_type": "execute_result"
    }
   ],
   "source": [
    "message = \"3.14\"\n",
    "message"
   ]
  },
  {
   "cell_type": "code",
   "execution_count": 33,
   "id": "0c4a140e-2f5e-4c51-b42a-46af85b30491",
   "metadata": {},
   "outputs": [
    {
     "data": {
      "text/plain": [
       "False"
      ]
     },
     "execution_count": 33,
     "metadata": {},
     "output_type": "execute_result"
    }
   ],
   "source": [
    "message.isdigit()"
   ]
  },
  {
   "cell_type": "code",
   "execution_count": 34,
   "id": "d3225ec8-d1b5-4e98-98be-8a3ec94e0d3a",
   "metadata": {},
   "outputs": [
    {
     "data": {
      "text/plain": [
       "'1020'"
      ]
     },
     "execution_count": 34,
     "metadata": {},
     "output_type": "execute_result"
    }
   ],
   "source": [
    "message = \"1020\"\n",
    "message"
   ]
  },
  {
   "cell_type": "code",
   "execution_count": 35,
   "id": "d734679c-3712-46d2-a0f5-873ed473e276",
   "metadata": {},
   "outputs": [
    {
     "data": {
      "text/plain": [
       "True"
      ]
     },
     "execution_count": 35,
     "metadata": {},
     "output_type": "execute_result"
    }
   ],
   "source": [
    "message.isdigit()"
   ]
  },
  {
   "cell_type": "markdown",
   "id": "e70dfb14-4a22-47e2-a2e8-eea5fece71a7",
   "metadata": {
    "jp-MarkdownHeadingCollapsed": true,
    "tags": []
   },
   "source": [
    "# **replace()**\n",
    "* Remplaza una subcadena con otra subcadena"
   ]
  },
  {
   "cell_type": "code",
   "execution_count": 36,
   "id": "8bb67364-2fef-4c78-8708-0cd5600c1d08",
   "metadata": {},
   "outputs": [
    {
     "data": {
      "text/plain": [
       "'Me gusta jugar a las canicas'"
      ]
     },
     "execution_count": 36,
     "metadata": {},
     "output_type": "execute_result"
    }
   ],
   "source": [
    "message = \"Me gusta jugar a las canicas\"\n",
    "message"
   ]
  },
  {
   "cell_type": "code",
   "execution_count": 37,
   "id": "4ea04f5a-b0da-47e2-8494-db07562e9857",
   "metadata": {},
   "outputs": [
    {
     "data": {
      "text/plain": [
       "'Me encanta jugar a las canicas'"
      ]
     },
     "execution_count": 37,
     "metadata": {},
     "output_type": "execute_result"
    }
   ],
   "source": [
    "message.replace(\"gusta\", \"encanta\")"
   ]
  }
 ],
 "metadata": {
  "kernelspec": {
   "display_name": "Python 3 (ipykernel)",
   "language": "python",
   "name": "python3"
  },
  "language_info": {
   "codemirror_mode": {
    "name": "ipython",
    "version": 3
   },
   "file_extension": ".py",
   "mimetype": "text/x-python",
   "name": "python",
   "nbconvert_exporter": "python",
   "pygments_lexer": "ipython3",
   "version": "3.10.4"
  }
 },
 "nbformat": 4,
 "nbformat_minor": 5
}
