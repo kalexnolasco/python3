{
 "cells": [
  {
   "cell_type": "code",
   "execution_count": 1,
   "id": "44c1ebe3-5c97-4794-b593-f109210210ea",
   "metadata": {},
   "outputs": [
    {
     "name": "stdout",
     "output_type": "stream",
     "text": [
      "Python 3.10.4\n"
     ]
    }
   ],
   "source": [
    "!python --version"
   ]
  },
  {
   "cell_type": "markdown",
   "id": "a3a5ecea-e713-45e8-be53-d6fa53a3e24c",
   "metadata": {
    "tags": []
   },
   "source": [
    "# $\\textbf{Sobrecarga de métodos (operadores)}$"
   ]
  },
  {
   "cell_type": "markdown",
   "id": "a22a136a-d9b1-44f3-a9a2-f19338c77f72",
   "metadata": {
    "tags": []
   },
   "source": [
    "## Binarios\n",
    "|| Binarios |\n",
    "|---|---|\n",
    "|`+`| `object.__add__(self, other)` |\n",
    "|`-`| `object.__sub__(self, other)` |\n",
    "|`*`| `object.__mult__(self, other)` |\n",
    "|`/`| `object.__div__(self, other)` |\n",
    "|`//`| `object.__floordiv__(self, other)` |\n",
    "|`%`| `object.__mod__(self, other)` |\n",
    "|`**`| `object.__pow__(self, other[, modul])` |\n",
    "|`<<`| `object.__lshift__(self, other)` |\n",
    "|`>>`| `object.__rshift__(self, other)` |\n",
    "|`&`| `object.__and__(self, other)` |\n",
    "|`^`| `object.__xor__(self, other)` |\n",
    "| &#124; | `object.__or__(self, other)` |"
   ]
  },
  {
   "cell_type": "code",
   "execution_count": 2,
   "id": "a7e5b7f8-c755-4a55-a73d-82ad89565754",
   "metadata": {},
   "outputs": [],
   "source": [
    "class Product:\n",
    "    def __init__(self, name, cost):\n",
    "        self.name = name\n",
    "        self.cost = cost\n",
    "    # Se realiza la sobrecarga de __str__ para facilitar la impresión\n",
    "    def __str__(self):\n",
    "        return f\"Product {self.name} cost ${self.cost}\"\n",
    "    \n",
    "    def __add__(self, product):\n",
    "        name = f\"{self.name}, {product.name}\"\n",
    "        cost = self.cost + product.cost\n",
    "        return Product(name=name, cost=cost)\n",
    "    # En este ejemplo nos quedamos con el mas costoso\n",
    "    def __or__(self, product):\n",
    "        if self.cost > product.cost:\n",
    "            return self\n",
    "        else:\n",
    "            return product        "
   ]
  },
  {
   "cell_type": "code",
   "execution_count": 3,
   "id": "c9fe216e-4812-4971-96d2-d2c7a02d7197",
   "metadata": {},
   "outputs": [
    {
     "name": "stdout",
     "output_type": "stream",
     "text": [
      "Product Red apple cost $5.6\n",
      "Product Big Pear cost $4.87\n"
     ]
    }
   ],
   "source": [
    "apple = Product(name=\"Red apple\", cost=5.6)\n",
    "pear = Product(name=\"Big Pear\", cost=4.87)\n",
    "print(apple)\n",
    "print(pear)"
   ]
  },
  {
   "cell_type": "code",
   "execution_count": 4,
   "id": "6706c95f-dcce-40d8-8cdf-14eba766ec7c",
   "metadata": {},
   "outputs": [
    {
     "name": "stdout",
     "output_type": "stream",
     "text": [
      "Product Red apple, Big Pear cost $10.469999999999999\n"
     ]
    }
   ],
   "source": [
    "apple_and_pear = apple + pear\n",
    "print(apple_and_pear)"
   ]
  },
  {
   "cell_type": "code",
   "execution_count": 5,
   "id": "eb6c9c99-9a3d-42e3-bcf3-0c8c17a39c6b",
   "metadata": {},
   "outputs": [
    {
     "name": "stdout",
     "output_type": "stream",
     "text": [
      "Product Red apple cost $5.6\n"
     ]
    }
   ],
   "source": [
    "result = pear | apple\n",
    "print(result)"
   ]
  },
  {
   "cell_type": "markdown",
   "id": "c1992d89-76ab-4774-b82f-08e31404f729",
   "metadata": {
    "tags": []
   },
   "source": [
    "## Unuarios\n",
    "|| Unuarios |\n",
    "| --- | --- |\n",
    "|`-`| `object.__neg__(self)` |\n",
    "|`+`| `object.__pos__(self)` |\n",
    "|`abs()`| `object.__abs__(self)` |\n",
    "|`~`| `object.__invert__(self)` |\n",
    "|`int()`| `object.__int__(self)` |\n",
    "|`long()`| `object.__long__(self)` |\n",
    "|`float()`| `object.__float__(self)` |\n",
    "|`oct()`| `object.__oct__(self)` |\n",
    "|`hex()`| `object.__hex__(self)` |"
   ]
  },
  {
   "cell_type": "code",
   "execution_count": 6,
   "id": "1fe288ff-dd75-4a3f-a001-fc17b1535560",
   "metadata": {},
   "outputs": [],
   "source": [
    "class Product:\n",
    "    def __init__(self, name, cost):\n",
    "        self.name = name\n",
    "        self.cost = cost\n",
    "    # Se realiza la sobrecarga de __str__ para facilitar la impresión\n",
    "    def __str__(self):\n",
    "        return f\"Product {self.name} cost ${self.cost}\"\n",
    "    \n",
    "    def __float__(self):\n",
    "        return self.cost"
   ]
  },
  {
   "cell_type": "code",
   "execution_count": 7,
   "id": "7bc6f903-903a-428f-97be-6c61038a19c0",
   "metadata": {},
   "outputs": [
    {
     "name": "stdout",
     "output_type": "stream",
     "text": [
      "Product Red apple cost $5.6\n",
      "Product Big Pear cost $4.87\n"
     ]
    }
   ],
   "source": [
    "apple = Product(name=\"Red apple\", cost=5.6)\n",
    "pear = Product(name=\"Big Pear\", cost=4.87)\n",
    "print(apple)\n",
    "print(pear)"
   ]
  },
  {
   "cell_type": "code",
   "execution_count": 8,
   "id": "8e696c2d-f003-4de2-b614-b4851d66f483",
   "metadata": {},
   "outputs": [
    {
     "data": {
      "text/plain": [
       "5.6"
      ]
     },
     "execution_count": 8,
     "metadata": {},
     "output_type": "execute_result"
    }
   ],
   "source": [
    "float(apple)"
   ]
  },
  {
   "cell_type": "code",
   "execution_count": null,
   "id": "306e1a39-2457-4ca2-ab91-772fced82564",
   "metadata": {},
   "outputs": [],
   "source": []
  },
  {
   "cell_type": "code",
   "execution_count": null,
   "id": "0eac3b42-c0a6-4b67-9fe9-e992230197c0",
   "metadata": {},
   "outputs": [],
   "source": []
  },
  {
   "cell_type": "markdown",
   "id": "eebe0bf1-ccb3-40f7-a267-414e22a03540",
   "metadata": {
    "tags": []
   },
   "source": [
    "## Asiganaciones extendidas\n",
    "|| Asiganaciones extendidas |\n",
    "|---|---|\n",
    "|`+=`| `object.__iadd__(self, other)` |\n",
    "|`-=`| `object.__isub__(self, other)` |\n",
    "|`*=`| `object.__imult__(self, other)` |\n",
    "|`/=`| `object.__idiv__(self, other)` |\n",
    "|`//=`| `object.__ifloordiv__(self, other)` |\n",
    "|`%=`| `object.__imod__(self, other)` |\n",
    "|`**=`| `object.__ipow__(self, other[, modul])` |\n",
    "|`<<=`| `object.__ilshift__(self, other)` |\n",
    "|`>>=`| `object.__irshift__(self, other)` |\n",
    "|`&=`| `object.__iand__(self, other)` |\n",
    "|`^=`| `object.__ixor__(self, other)` |\n",
    "| &#124;= | `object.__or__(self, other)` |"
   ]
  },
  {
   "cell_type": "code",
   "execution_count": 9,
   "id": "2973ef70-20a6-463c-9111-a0c064fda549",
   "metadata": {},
   "outputs": [],
   "source": [
    "class Product:\n",
    "    def __init__(self, name, cost):\n",
    "        self.name = name\n",
    "        self.cost = cost\n",
    "    # Se realiza la sobrecarga de __str__ para facilitar la impresión\n",
    "    def __str__(self):\n",
    "        return f\"Product {self.name} cost ${self.cost}\"\n",
    "    \n",
    "    def __float__(self):\n",
    "        return self.cost\n",
    "    \n",
    "    def __iadd__(self, product):\n",
    "        self.cost += float(product)\n",
    "        return self"
   ]
  },
  {
   "cell_type": "code",
   "execution_count": 10,
   "id": "a5b2b851-5ce7-4e14-95fe-bf7fc0305db7",
   "metadata": {},
   "outputs": [
    {
     "name": "stdout",
     "output_type": "stream",
     "text": [
      "Product Red apple cost $5.6\n",
      "Product Big Pear cost $4.87\n"
     ]
    }
   ],
   "source": [
    "apple = Product(name=\"Red apple\", cost=5.6)\n",
    "pear = Product(name=\"Big Pear\", cost=4.87)\n",
    "print(apple)\n",
    "print(pear)"
   ]
  },
  {
   "cell_type": "code",
   "execution_count": 11,
   "id": "27d3561f-f003-4d0a-902d-6ae7420b4493",
   "metadata": {},
   "outputs": [
    {
     "name": "stdout",
     "output_type": "stream",
     "text": [
      "Product Red apple cost $14.1\n"
     ]
    }
   ],
   "source": [
    "apple2 = Product(name=\"Black apple\", cost=8.5)\n",
    "apple += apple2\n",
    "print(apple)"
   ]
  },
  {
   "cell_type": "markdown",
   "id": "9fd8a4f9-b878-456c-a59e-59b29e8ff4af",
   "metadata": {},
   "source": [
    "## Comparación\n",
    "\n",
    "|| Comparación |\n",
    "|---|---|\n",
    "|`<`| `object.__lt__(self, other)` |\n",
    "|`<=`| `object.__le__(self, other)` |\n",
    "|`==`| `object.__eq__(self, other)` |\n",
    "|`!=`| `object.__ne__(self, other)` |\n",
    "|`>=`| `object.__ge__(self, other)` |\n",
    "|`>`| `object.__gt__(self, other)` |"
   ]
  },
  {
   "cell_type": "code",
   "execution_count": 12,
   "id": "25778b4f-d5a6-4986-9783-a6de194b70a2",
   "metadata": {},
   "outputs": [],
   "source": [
    "class Product:\n",
    "    def __init__(self, name, cost):\n",
    "        self.name = name\n",
    "        self.cost = cost\n",
    "    # Se realiza la sobrecarga de __str__ para facilitar la impresión\n",
    "    def __str__(self):\n",
    "        return f\"Product {self.name} cost ${self.cost}\"\n",
    "    \n",
    "    def __gt__(self, product):\n",
    "        return self.cost >  product.cost"
   ]
  },
  {
   "cell_type": "code",
   "execution_count": 13,
   "id": "a01d0dee-b623-4af7-bf42-c0e076fa12f3",
   "metadata": {},
   "outputs": [
    {
     "name": "stdout",
     "output_type": "stream",
     "text": [
      "Product Red apple cost $5.6\n",
      "Product Big Pear cost $4.87\n"
     ]
    }
   ],
   "source": [
    "apple = Product(name=\"Red apple\", cost=5.6)\n",
    "pear = Product(name=\"Big Pear\", cost=4.87)\n",
    "print(apple)\n",
    "print(pear)"
   ]
  },
  {
   "cell_type": "code",
   "execution_count": 14,
   "id": "f1fde86b-4c1d-477a-992e-b2d622daae00",
   "metadata": {},
   "outputs": [
    {
     "data": {
      "text/plain": [
       "True"
      ]
     },
     "execution_count": 14,
     "metadata": {},
     "output_type": "execute_result"
    }
   ],
   "source": [
    "apple > pear"
   ]
  },
  {
   "cell_type": "code",
   "execution_count": 15,
   "id": "58030499-f49f-4b20-b408-488614e4ffe0",
   "metadata": {},
   "outputs": [
    {
     "data": {
      "text/plain": [
       "False"
      ]
     },
     "execution_count": 15,
     "metadata": {},
     "output_type": "execute_result"
    }
   ],
   "source": [
    "pear > apple"
   ]
  }
 ],
 "metadata": {
  "kernelspec": {
   "display_name": "Python 3 (ipykernel)",
   "language": "python",
   "name": "python3"
  },
  "language_info": {
   "codemirror_mode": {
    "name": "ipython",
    "version": 3
   },
   "file_extension": ".py",
   "mimetype": "text/x-python",
   "name": "python",
   "nbconvert_exporter": "python",
   "pygments_lexer": "ipython3",
   "version": "3.10.4"
  }
 },
 "nbformat": 4,
 "nbformat_minor": 5
}
