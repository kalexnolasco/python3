{
 "cells": [
  {
   "cell_type": "code",
   "execution_count": 1,
   "id": "7687f2e8-02b9-4555-a4de-efcfd38a45de",
   "metadata": {},
   "outputs": [
    {
     "name": "stdout",
     "output_type": "stream",
     "text": [
      "Python 3.10.4\n"
     ]
    }
   ],
   "source": [
    "!python --version"
   ]
  },
  {
   "cell_type": "markdown",
   "id": "2728abb2-aeec-4c06-9df9-51a35c77b0f1",
   "metadata": {},
   "source": [
    "# Generator"
   ]
  },
  {
   "cell_type": "markdown",
   "id": "779988b9-1349-45b0-96fb-2eb6d835351b",
   "metadata": {},
   "source": [
    "* Los **generadores** son como *comprensión*.\n",
    "* Se utiliza par crear iteraciones, son una función que regresa una serie de elementos iterables per uno a la vez.\n",
    "* Son ligeramente mas lentos que la comprension, pero son muy eficientes en términos de uso de memoria."
   ]
  },
  {
   "cell_type": "code",
   "execution_count": 2,
   "id": "9969c724-10e0-4713-8acf-2c102c28eeea",
   "metadata": {},
   "outputs": [],
   "source": [
    "# Función para ser utilizada por el generador\n",
    "def secuencia(max_num):\n",
    "    count = 0\n",
    "    while count < max_num:\n",
    "        count += 1\n",
    "        yield count"
   ]
  },
  {
   "cell_type": "code",
   "execution_count": 3,
   "id": "40d1d770-c1fe-450f-a8f8-0c0b5d8587d0",
   "metadata": {},
   "outputs": [
    {
     "name": "stdout",
     "output_type": "stream",
     "text": [
      "1\n",
      "2\n",
      "3\n",
      "4\n",
      "5\n",
      "6\n",
      "7\n",
      "8\n",
      "9\n",
      "10\n"
     ]
    }
   ],
   "source": [
    "#Utiliza el FOR para iterar sobre aquello que el generador crea\n",
    "for n in secuencia(10):\n",
    "    print(n)"
   ]
  },
  {
   "cell_type": "markdown",
   "id": "226618cf-baff-4251-ba8d-d0d02e20cac5",
   "metadata": {},
   "source": [
    "# Map\n",
    "* Permite tener una lista de valores, pasarlo por una función y obtener otra lista de valores"
   ]
  },
  {
   "cell_type": "code",
   "execution_count": 4,
   "id": "847e13af-88f5-4b75-bb44-e7fa5db20a84",
   "metadata": {},
   "outputs": [
    {
     "data": {
      "text/plain": [
       "[1, 4, 9, 16, 25, 36, 49, 64, 81, 100]"
      ]
     },
     "execution_count": 4,
     "metadata": {},
     "output_type": "execute_result"
    }
   ],
   "source": [
    "# Forma tradicional\n",
    "my_list = [1, 2, 3, 4, 5, 6, 7, 8, 9, 10]\n",
    "def square(x):\n",
    "    return x**2\n",
    "my_list_square = []\n",
    "for i in my_list:\n",
    "    my_list_square.append(square(i))\n",
    "my_list_square"
   ]
  },
  {
   "cell_type": "code",
   "execution_count": 5,
   "id": "8e65d311-c236-46dc-9314-ef8e431350bf",
   "metadata": {},
   "outputs": [],
   "source": [
    "# Con map se reduce la cantidad de código y trabajar de forma eficiente.\n",
    "# La función map toma dos parámetros -> la función y la lista\n"
   ]
  },
  {
   "cell_type": "code",
   "execution_count": 6,
   "id": "d56d01ae-bcba-4ed1-b673-c50be9df8838",
   "metadata": {},
   "outputs": [
    {
     "data": {
      "text/plain": [
       "[1, 4, 9, 16, 25, 36, 49, 64, 81, 100]"
      ]
     },
     "execution_count": 6,
     "metadata": {},
     "output_type": "execute_result"
    }
   ],
   "source": [
    "my_list_square_2 = list(map(square, my_list))\n",
    "my_list_square_2"
   ]
  },
  {
   "cell_type": "code",
   "execution_count": 7,
   "id": "e3d2a35c-ba27-4ac0-b39b-9dc19560b126",
   "metadata": {},
   "outputs": [
    {
     "data": {
      "text/plain": [
       "[False, True, False, True, False, True, False, True, False, True]"
      ]
     },
     "execution_count": 7,
     "metadata": {},
     "output_type": "execute_result"
    }
   ],
   "source": [
    "def pair(x):\n",
    "    return x % 2 == 0\n",
    "my_list_is_pair = list(map(pair, my_list))\n",
    "my_list_is_pair"
   ]
  },
  {
   "cell_type": "markdown",
   "id": "a2c122cb-5464-45a4-8245-534a1e6d15c2",
   "metadata": {},
   "source": [
    "# Filter\n",
    "* Similar a **map**.\n",
    "* También recibe dos parámetros -> la función y la lista\n",
    "* Si la función regresa `True` => el elemento es pasado a la nueva lista"
   ]
  },
  {
   "cell_type": "code",
   "execution_count": 8,
   "id": "5dcbe34d-042a-4610-9e24-5644d954514d",
   "metadata": {},
   "outputs": [
    {
     "data": {
      "text/plain": [
       "[2, 4, 6, 8, 10]"
      ]
     },
     "execution_count": 8,
     "metadata": {},
     "output_type": "execute_result"
    }
   ],
   "source": [
    "# Filtra todos los valores pares!\n",
    "my_list_is_pair = list(filter(pair, my_list))\n",
    "my_list_is_pair"
   ]
  }
 ],
 "metadata": {
  "kernelspec": {
   "display_name": "Python 3 (ipykernel)",
   "language": "python",
   "name": "python3"
  },
  "language_info": {
   "codemirror_mode": {
    "name": "ipython",
    "version": 3
   },
   "file_extension": ".py",
   "mimetype": "text/x-python",
   "name": "python",
   "nbconvert_exporter": "python",
   "pygments_lexer": "ipython3",
   "version": "3.10.4"
  }
 },
 "nbformat": 4,
 "nbformat_minor": 5
}
