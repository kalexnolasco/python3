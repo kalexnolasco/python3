{
 "cells": [
  {
   "cell_type": "code",
   "execution_count": 1,
   "id": "76ce741e-d9d8-4a09-abf5-1b1978f5ca20",
   "metadata": {},
   "outputs": [
    {
     "name": "stdout",
     "output_type": "stream",
     "text": [
      "Python 3.10.4\n"
     ]
    }
   ],
   "source": [
    "!python --version"
   ]
  },
  {
   "cell_type": "markdown",
   "id": "805143b7-7a75-4a52-9b41-7935ab6c3ae7",
   "metadata": {},
   "source": [
    "# Método de instancia\n",
    "* Un método tradicional"
   ]
  },
  {
   "cell_type": "code",
   "execution_count": 2,
   "id": "b8d68a89-36da-43d3-b4fd-a05d5739a97a",
   "metadata": {},
   "outputs": [],
   "source": [
    "class MyClass:\n",
    "    def my_method(self):\n",
    "        return \" This is my_method\", self"
   ]
  },
  {
   "cell_type": "code",
   "execution_count": 3,
   "id": "9e9c765f-be7d-4835-8787-a2f3f634392f",
   "metadata": {},
   "outputs": [
    {
     "data": {
      "text/plain": [
       "(' This is my_method', <__main__.MyClass at 0x7fd53445a9e0>)"
      ]
     },
     "execution_count": 3,
     "metadata": {},
     "output_type": "execute_result"
    }
   ],
   "source": [
    "obj = MyClass()\n",
    "obj.my_method()"
   ]
  },
  {
   "cell_type": "code",
   "execution_count": 4,
   "id": "21314b11-2319-4687-a50a-9c122f647366",
   "metadata": {},
   "outputs": [
    {
     "data": {
      "text/plain": [
       "(' This is my_method', <__main__.MyClass at 0x7fd53445b550>)"
      ]
     },
     "execution_count": 4,
     "metadata": {},
     "output_type": "execute_result"
    }
   ],
   "source": [
    "obj = MyClass()\n",
    "obj.my_method()"
   ]
  },
  {
   "cell_type": "markdown",
   "id": "5f73f9d1-986d-4e8a-96d0-ca2b4f8cc115",
   "metadata": {},
   "source": [
    "# Método de clase\n",
    "* Se utiliza el decorador `classmethod` para indicar que es de tipo 'método de clase'.\n",
    "* En lugar de utilizar `self` se utiliza `cls` como parámetro(es una convención).\n",
    "* Tiene la misma implementación en todas las instancias.\n",
    "* Apunta a la clase, no ha una instancia => Puede modificar el estado de la clase y no el estado del objeto."
   ]
  },
  {
   "cell_type": "code",
   "execution_count": 5,
   "id": "b53e6b8e-ea1a-4cad-826b-8ba8327eb09f",
   "metadata": {},
   "outputs": [],
   "source": [
    "class MyClass:\n",
    "    @classmethod\n",
    "    def my_classmethod(cls):\n",
    "        return \" This is my_classmethod\", cls"
   ]
  },
  {
   "cell_type": "code",
   "execution_count": 6,
   "id": "da1fbda2-66e5-4e5e-abf7-c74d74f9e64b",
   "metadata": {},
   "outputs": [
    {
     "data": {
      "text/plain": [
       "(' This is my_classmethod', __main__.MyClass)"
      ]
     },
     "execution_count": 6,
     "metadata": {},
     "output_type": "execute_result"
    }
   ],
   "source": [
    "obj = MyClass()\n",
    "obj.my_classmethod()"
   ]
  },
  {
   "cell_type": "code",
   "execution_count": 7,
   "id": "9e18c7a4-72ff-4faa-b6cc-8b234ca861ac",
   "metadata": {},
   "outputs": [
    {
     "data": {
      "text/plain": [
       "(' This is my_classmethod', __main__.MyClass)"
      ]
     },
     "execution_count": 7,
     "metadata": {},
     "output_type": "execute_result"
    }
   ],
   "source": [
    "obj = MyClass()\n",
    "obj.my_classmethod()"
   ]
  },
  {
   "cell_type": "markdown",
   "id": "31c5bda5-fd85-41be-91a8-bb58e4346dd7",
   "metadata": {},
   "source": [
    "# Método estático\n",
    "* Se utiliza el decorador `staticmethod`.\n",
    "* No necisita de `self` ni `cls` como parámetro.\n",
    "* No puede modificar el estado del objeto.\n",
    "* tienme la misma implementación, pero no está unido a una instancia."
   ]
  },
  {
   "cell_type": "code",
   "execution_count": 8,
   "id": "fbaaae6b-0b00-4768-bd36-18c1ae457807",
   "metadata": {},
   "outputs": [],
   "source": [
    "class MyClass:\n",
    "    @staticmethod\n",
    "    def my_staticmethod():\n",
    "        return \" This is my_staticmethod\""
   ]
  },
  {
   "cell_type": "code",
   "execution_count": 9,
   "id": "35fefaa3-7e69-4c62-a68d-ce34898ba67f",
   "metadata": {},
   "outputs": [
    {
     "data": {
      "text/plain": [
       "' This is my_staticmethod'"
      ]
     },
     "execution_count": 9,
     "metadata": {},
     "output_type": "execute_result"
    }
   ],
   "source": [
    "obj = MyClass()\n",
    "obj.my_staticmethod()"
   ]
  },
  {
   "cell_type": "code",
   "execution_count": 10,
   "id": "a08d9bed-d0b0-4f4c-a8cb-f442b1db130f",
   "metadata": {},
   "outputs": [
    {
     "data": {
      "text/plain": [
       "' This is my_staticmethod'"
      ]
     },
     "execution_count": 10,
     "metadata": {},
     "output_type": "execute_result"
    }
   ],
   "source": [
    "# Sin instanciar a un objeto.\n",
    "MyClass.my_staticmethod()"
   ]
  }
 ],
 "metadata": {
  "kernelspec": {
   "display_name": "Python 3 (ipykernel)",
   "language": "python",
   "name": "python3"
  },
  "language_info": {
   "codemirror_mode": {
    "name": "ipython",
    "version": 3
   },
   "file_extension": ".py",
   "mimetype": "text/x-python",
   "name": "python",
   "nbconvert_exporter": "python",
   "pygments_lexer": "ipython3",
   "version": "3.10.4"
  }
 },
 "nbformat": 4,
 "nbformat_minor": 5
}
