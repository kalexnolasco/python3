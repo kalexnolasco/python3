{
 "cells": [
  {
   "cell_type": "code",
   "execution_count": 1,
   "id": "f7fa9044-c7a7-4689-9283-536691f6576e",
   "metadata": {},
   "outputs": [
    {
     "name": "stdout",
     "output_type": "stream",
     "text": [
      "Python 3.10.4\n"
     ]
    }
   ],
   "source": [
    "!python --version"
   ]
  },
  {
   "cell_type": "code",
   "execution_count": 2,
   "id": "23a508f7-68a2-4a25-a35b-23aecc46e5c3",
   "metadata": {},
   "outputs": [],
   "source": [
    "# Cadena de texto que vamos a guardar\n",
    "message = \"Hola a todos\""
   ]
  },
  {
   "cell_type": "markdown",
   "id": "5bf8a8a7-c3a7-4418-a8bb-45ebfc5fdb0b",
   "metadata": {
    "jp-MarkdownHeadingCollapsed": true,
    "tags": []
   },
   "source": [
    "# Escritura de archivos"
   ]
  },
  {
   "cell_type": "markdown",
   "id": "547c4f40-f342-4afd-b650-f37e1bb507e9",
   "metadata": {},
   "source": [
    "## Escritura simple"
   ]
  },
  {
   "cell_type": "code",
   "execution_count": 3,
   "id": "529de848-38f2-4868-8bba-822a6832fbff",
   "metadata": {},
   "outputs": [],
   "source": [
    "# Abrimos el archivo para escritura\n",
    "f = open(\"02_archivo_01.txt\", \"w\")\n",
    "# Escribimos la información\n",
    "f.write(message)\n",
    "# Cerramos el archivo\n",
    "f.close()"
   ]
  },
  {
   "cell_type": "markdown",
   "id": "75099178-9d60-4dab-ae9e-28e0449dd539",
   "metadata": {},
   "source": [
    "## Escritura a petición y en bucle"
   ]
  },
  {
   "cell_type": "code",
   "execution_count": 4,
   "id": "48f8d02f-a687-4448-be2b-42de226e8441",
   "metadata": {},
   "outputs": [
    {
     "name": "stdin",
     "output_type": "stream",
     "text": [
      "Write a text:  Hola como estas\n",
      "Write a text:  Espero que estes bien\n",
      "Write a text:  Por que yo estoy bien\n",
      "Write a text:  Y tu también tienes que estar bien\n",
      "Write a text:  Obvio si\n"
     ]
    }
   ],
   "source": [
    "# Abrimos el archivo para escritura\n",
    "f = open(\"02_archivo_02.txt\", \"w\")\n",
    "# Escribimos la información\n",
    "n = 0\n",
    "while n < 5:\n",
    "    message = input(\"Write a text: \")\n",
    "    f.write(message + \"\\n\")\n",
    "    n += 1\n",
    "# Cerramos el archivo\n",
    "f.close()"
   ]
  },
  {
   "cell_type": "markdown",
   "id": "c1e8e869-46f4-4482-b727-9d3620ed78f1",
   "metadata": {
    "tags": []
   },
   "source": [
    "# Lectura de archivos"
   ]
  },
  {
   "cell_type": "markdown",
   "id": "b3023985-4795-4214-b487-a39169fca215",
   "metadata": {
    "jp-MarkdownHeadingCollapsed": true,
    "tags": []
   },
   "source": [
    "## Lectura línea por línea"
   ]
  },
  {
   "cell_type": "code",
   "execution_count": 5,
   "id": "18621afd-5406-4714-ae72-2a2d282cb815",
   "metadata": {},
   "outputs": [
    {
     "name": "stdout",
     "output_type": "stream",
     "text": [
      "Hola como estas\n",
      "Espero que estes bien\n",
      "Por que yo estoy bien\n",
      "Y tu también tienes que estar bien\n",
      "Obvio si\n"
     ]
    }
   ],
   "source": [
    "filename = \"02_archivo_02.txt\"\n",
    "# Abrimos el archivo para la lectura\n",
    "f = open(filename, \"r\")\n",
    "for line in f:\n",
    "    print(line.rstrip())\n",
    "# Si el archivo no está cerrado, lo cerramos\n",
    "if not f.closed:\n",
    "    # Cerramos el archivo\n",
    "    f.close()"
   ]
  },
  {
   "cell_type": "markdown",
   "id": "d8432660-0843-41f5-870b-e61e014fdc0a",
   "metadata": {
    "jp-MarkdownHeadingCollapsed": true,
    "tags": []
   },
   "source": [
    "## Abrir el archivo y guardarlo en una lista.\n",
    "* Cada línea es un elemento de la lista"
   ]
  },
  {
   "cell_type": "code",
   "execution_count": 6,
   "id": "d0e0634f-c777-493f-9573-0a4c6e29d4c6",
   "metadata": {},
   "outputs": [
    {
     "name": "stdout",
     "output_type": "stream",
     "text": [
      "['Hola como estas\\n', 'Espero que estes bien\\n', 'Por que yo estoy bien\\n', 'Y tu también tienes que estar bien\\n', 'Obvio si\\n']\n",
      "Hola como estas\n",
      "Espero que estes bien\n",
      "Por que yo estoy bien\n",
      "Y tu también tienes que estar bien\n",
      "Obvio si\n"
     ]
    }
   ],
   "source": [
    "filename = \"02_archivo_02.txt\"\n",
    "# Abrimos el archivo para la lectura\n",
    "f = open(filename, \"r\")\n",
    "my_list = f.readlines()\n",
    "print(my_list)\n",
    "for l in my_list:\n",
    "    print(l.strip())\n",
    "f.close()"
   ]
  },
  {
   "cell_type": "markdown",
   "id": "e02d6a56-90d5-4886-88c4-0c93c7be40e9",
   "metadata": {
    "jp-MarkdownHeadingCollapsed": true,
    "tags": []
   },
   "source": [
    "## Recorriendo el archivo\n",
    "* Lectura en modo='rb+' para evitar posibles problemas al momento de colocar las referencias.\n",
    "* Podemos colar la posición donde queremos leer.\n",
    "  * $\\textbf{0}$ -> La referencia es desde el inicio.\n",
    "  * $\\textbf{1}$ -> La referencia es desde la posición actual.\n",
    "  * $\\textbf{2}$ -> La referencia es desde el final del archivo."
   ]
  },
  {
   "cell_type": "code",
   "execution_count": 7,
   "id": "e3889805-2b65-4ca0-9e32-1fac7277fcdb",
   "metadata": {},
   "outputs": [
    {
     "data": {
      "text/plain": [
       "'abcdefghijklmnpqrstuvwxyz'"
      ]
     },
     "execution_count": 7,
     "metadata": {},
     "output_type": "execute_result"
    }
   ],
   "source": [
    "filename = \"02_archivo_03.txt\"\n",
    "# Abrimos el archivo para la lectura\n",
    "f = open(filename, \"r\")\n",
    "words = f.read()\n",
    "f.close()\n",
    "words"
   ]
  },
  {
   "cell_type": "code",
   "execution_count": 8,
   "id": "c13d119c-ebd7-46d5-ae56-5a7131b89bba",
   "metadata": {},
   "outputs": [
    {
     "name": "stdout",
     "output_type": "stream",
     "text": [
      "La posición actual es:  0\n",
      "La posición actual es:  5\n",
      "Lectura de tres carácteres desde la posición  5  es:  fgh\n",
      "La posición actual es:  10\n",
      "Lectura de tres carácteres desde la posición  10  es:  klm\n",
      "La posición actual es:  20\n",
      "Lectura de tres carácteres desde la posición  20  es:  vwx\n"
     ]
    }
   ],
   "source": [
    "filename = \"02_archivo_03.txt\"\n",
    "# Abrimos el archivo para la lectura\n",
    "f = open(filename, \"rb+\")\n",
    "position = f.tell()\n",
    "print(\"La posición actual es: \", position)\n",
    "# Nos colocamos en la quinta posición desde el inicio\n",
    "f.seek(5, 0)\n",
    "position = f.tell()\n",
    "print(\"La posición actual es: \", position)\n",
    "# Leemos tres carácteres\n",
    "words = f.read(3).decode(\"utf-8\")\n",
    "print(\"Lectura de tres carácteres desde la posición \", position, \" es: \", words)\n",
    "# Avanzamos dos carácteres desde la posición donde estamos y leemos otros tres carácteres.\n",
    "f.seek(2, 1)\n",
    "position = f.tell()\n",
    "print(\"La posición actual es: \", position)\n",
    "words = f.read(3).decode(\"utf-8\")\n",
    "print(\"Lectura de tres carácteres desde la posición \", position, \" es: \", words)\n",
    "# Nos colocamos al final del archivo\n",
    "f.seek(-5, 2)\n",
    "position = f.tell()\n",
    "print(\"La posición actual es: \", position)\n",
    "words = f.read(3).decode(\"utf-8\")\n",
    "print(\"Lectura de tres carácteres desde la posición \", position, \" es: \", words)\n",
    "# Cerramos el archivo\n",
    "f.close()"
   ]
  }
 ],
 "metadata": {
  "kernelspec": {
   "display_name": "Python 3 (ipykernel)",
   "language": "python",
   "name": "python3"
  },
  "language_info": {
   "codemirror_mode": {
    "name": "ipython",
    "version": 3
   },
   "file_extension": ".py",
   "mimetype": "text/x-python",
   "name": "python",
   "nbconvert_exporter": "python",
   "pygments_lexer": "ipython3",
   "version": "3.10.4"
  },
  "toc-autonumbering": true,
  "toc-showmarkdowntxt": true
 },
 "nbformat": 4,
 "nbformat_minor": 5
}
