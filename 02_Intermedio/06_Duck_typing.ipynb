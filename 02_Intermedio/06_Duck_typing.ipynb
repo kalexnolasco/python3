{
 "cells": [
  {
   "cell_type": "code",
   "execution_count": 1,
   "id": "1633619a-83d4-4369-9462-076986867d15",
   "metadata": {},
   "outputs": [
    {
     "name": "stdout",
     "output_type": "stream",
     "text": [
      "Python 3.10.4\n"
     ]
    }
   ],
   "source": [
    "!python --version"
   ]
  },
  {
   "cell_type": "markdown",
   "id": "b9ff9196-44b3-4849-bb90-d21ad9b30103",
   "metadata": {},
   "source": [
    "# Duck Typing\n",
    "* Da al programador la capacidad de no preocuparse del tipo de la clase, siempre y cunado implemente la operación necesaria. Al usarlo no se verifica el tipo, en su lugar se verifica la presencia del método o atributo.\n",
    "* Este concepto está realcionado con **dynamic typing**"
   ]
  },
  {
   "cell_type": "code",
   "execution_count": 2,
   "id": "6c32f2d8-9e4c-45e9-ab09-8292152f6f07",
   "metadata": {},
   "outputs": [],
   "source": [
    "class Dog:\n",
    "    def move(self):\n",
    "        print(\"Walking\")\n",
    "\n",
    "class Shark:\n",
    "    def move(self):\n",
    "        print(\"Swimming\")\n",
    "\n",
    "class Snake:\n",
    "    def move(self):\n",
    "        print(\"crawling\")\n",
    "\n",
    "# Clase que no se comporta como las otras\n",
    "class Car:\n",
    "    def go(self):\n",
    "        print(\"Run!!!!\")\n",
    "        \n",
    "# clase que trabajará con cualquiera que implemente a `move`.(Duck Type)\n",
    "class Animal:\n",
    "    def __init__(self, my_animal):\n",
    "        self.my_animal = my_animal\n",
    "        self.my_animal.move()\n",
    "    \n",
    "    def action(self):\n",
    "        self.my_animal.move()"
   ]
  },
  {
   "cell_type": "code",
   "execution_count": 3,
   "id": "749665c3-1e57-474c-b467-1e248576264e",
   "metadata": {},
   "outputs": [
    {
     "name": "stdout",
     "output_type": "stream",
     "text": [
      "Walking\n"
     ]
    },
    {
     "data": {
      "text/plain": [
       "<__main__.Animal at 0x7f66f834ff70>"
      ]
     },
     "execution_count": 3,
     "metadata": {},
     "output_type": "execute_result"
    }
   ],
   "source": [
    "# Se hace uso de la clase animal pasando las clases sin importar el tipo, sólo que implementen a move.\n",
    "Animal(Dog())"
   ]
  },
  {
   "cell_type": "code",
   "execution_count": 4,
   "id": "3d2bb9b4-701f-48ae-9e4f-458fd27cca17",
   "metadata": {},
   "outputs": [
    {
     "name": "stdout",
     "output_type": "stream",
     "text": [
      "Swimming\n"
     ]
    },
    {
     "data": {
      "text/plain": [
       "<__main__.Animal at 0x7f66f834fc40>"
      ]
     },
     "execution_count": 4,
     "metadata": {},
     "output_type": "execute_result"
    }
   ],
   "source": [
    "Animal(Shark())"
   ]
  },
  {
   "cell_type": "code",
   "execution_count": 5,
   "id": "e9ee9ad2-2adb-4c48-afbe-a7f98932ce63",
   "metadata": {},
   "outputs": [
    {
     "name": "stdout",
     "output_type": "stream",
     "text": [
      "crawling\n"
     ]
    },
    {
     "data": {
      "text/plain": [
       "<__main__.Animal at 0x7f66f834dd80>"
      ]
     },
     "execution_count": 5,
     "metadata": {},
     "output_type": "execute_result"
    }
   ],
   "source": [
    "Animal(Snake())"
   ]
  },
  {
   "cell_type": "code",
   "execution_count": 6,
   "id": "89502d94-9322-4731-9b3a-3b7dfc064fbc",
   "metadata": {},
   "outputs": [
    {
     "name": "stdout",
     "output_type": "stream",
     "text": [
      "Walking\n",
      "Walking\n"
     ]
    }
   ],
   "source": [
    "my_pet = Animal(Dog())\n",
    "my_pet.action()"
   ]
  },
  {
   "cell_type": "code",
   "execution_count": 7,
   "id": "b34c6e04-26b2-47f8-88b5-b719e9c6fb96",
   "metadata": {},
   "outputs": [
    {
     "ename": "AttributeError",
     "evalue": "'Car' object has no attribute 'move'",
     "output_type": "error",
     "traceback": [
      "\u001b[0;31m---------------------------------------------------------------------------\u001b[0m",
      "\u001b[0;31mAttributeError\u001b[0m                            Traceback (most recent call last)",
      "Input \u001b[0;32mIn [7]\u001b[0m, in \u001b[0;36m<cell line: 2>\u001b[0;34m()\u001b[0m\n\u001b[1;32m      1\u001b[0m \u001b[38;5;66;03m# Se trata de instanciar un objeto de animal, de una clase que no tenga el método implementado\u001b[39;00m\n\u001b[0;32m----> 2\u001b[0m \u001b[43mAnimal\u001b[49m\u001b[43m(\u001b[49m\u001b[43mCar\u001b[49m\u001b[43m(\u001b[49m\u001b[43m)\u001b[49m\u001b[43m)\u001b[49m\n",
      "Input \u001b[0;32mIn [2]\u001b[0m, in \u001b[0;36mAnimal.__init__\u001b[0;34m(self, my_animal)\u001b[0m\n\u001b[1;32m     20\u001b[0m \u001b[38;5;28;01mdef\u001b[39;00m \u001b[38;5;21m__init__\u001b[39m(\u001b[38;5;28mself\u001b[39m, my_animal):\n\u001b[1;32m     21\u001b[0m     \u001b[38;5;28mself\u001b[39m\u001b[38;5;241m.\u001b[39mmy_animal \u001b[38;5;241m=\u001b[39m my_animal\n\u001b[0;32m---> 22\u001b[0m     \u001b[38;5;28;43mself\u001b[39;49m\u001b[38;5;241;43m.\u001b[39;49m\u001b[43mmy_animal\u001b[49m\u001b[38;5;241;43m.\u001b[39;49m\u001b[43mmove\u001b[49m()\n",
      "\u001b[0;31mAttributeError\u001b[0m: 'Car' object has no attribute 'move'"
     ]
    }
   ],
   "source": [
    "# Se trata de instanciar un objeto de animal, de una clase que no tenga el método implementado\n",
    "Animal(Car())"
   ]
  }
 ],
 "metadata": {
  "kernelspec": {
   "display_name": "Python 3 (ipykernel)",
   "language": "python",
   "name": "python3"
  },
  "language_info": {
   "codemirror_mode": {
    "name": "ipython",
    "version": 3
   },
   "file_extension": ".py",
   "mimetype": "text/x-python",
   "name": "python",
   "nbconvert_exporter": "python",
   "pygments_lexer": "ipython3",
   "version": "3.10.4"
  }
 },
 "nbformat": 4,
 "nbformat_minor": 5
}
