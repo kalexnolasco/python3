{
 "cells": [
  {
   "cell_type": "code",
   "execution_count": 1,
   "id": "1ecf694f-ff1c-4f41-9d78-cbebe8270c0f",
   "metadata": {},
   "outputs": [
    {
     "name": "stdout",
     "output_type": "stream",
     "text": [
      "Python 3.10.4\n"
     ]
    }
   ],
   "source": [
    "!python --version"
   ]
  },
  {
   "cell_type": "markdown",
   "id": "a523febc-a805-40b4-9900-4d34860e7dbb",
   "metadata": {},
   "source": [
    "* Se crea un método que funcionará como propiedad, con el decorador `@property` -> Funciona como **GETTER**\n",
    "* Se crea otro método con la propiedad `@X.setter` que permitará utilizarlo como -> **SETTER**\n",
    "* **DELETER** sirve para eliminar el contenido de un atributo."
   ]
  },
  {
   "cell_type": "code",
   "execution_count": 2,
   "id": "bf936b37-b478-42b8-ac2e-5676264cf8d4",
   "metadata": {},
   "outputs": [],
   "source": [
    "class Person:\n",
    "    def __init__(self, name, lastname):\n",
    "        self.name = name\n",
    "        self.lastname = lastname\n",
    "    @property\n",
    "    def complete_name(self):\n",
    "        return f\"{self.lastname} {self.name}\"\n",
    "    \n",
    "    @complete_name.setter\n",
    "    def complete_name(self, complete_name):\n",
    "        self.name, self.lastname = complete_name.split(\" \")\n",
    "    \n",
    "    @complete_name.deleter\n",
    "    def complete_name(self):\n",
    "        # Clean\n",
    "        self.name = None\n",
    "        self.lastname = None    "
   ]
  },
  {
   "cell_type": "code",
   "execution_count": 3,
   "id": "3de0c5d2-e6e2-49bc-bfea-9c1badc30c0d",
   "metadata": {},
   "outputs": [
    {
     "data": {
      "text/plain": [
       "<__main__.Person at 0x7f532053bcd0>"
      ]
     },
     "execution_count": 3,
     "metadata": {},
     "output_type": "execute_result"
    }
   ],
   "source": [
    "my_person = Person(\"Kevin\", \"Nolasco\")\n",
    "my_person"
   ]
  },
  {
   "cell_type": "code",
   "execution_count": 4,
   "id": "3f3e24bf-891b-47d6-b99a-9b4e45f58553",
   "metadata": {},
   "outputs": [
    {
     "data": {
      "text/plain": [
       "'Nolasco Kevin'"
      ]
     },
     "execution_count": 4,
     "metadata": {},
     "output_type": "execute_result"
    }
   ],
   "source": [
    "my_person.complete_name"
   ]
  },
  {
   "cell_type": "code",
   "execution_count": 5,
   "id": "2bf946ba-7e30-4823-8e32-03a367d43913",
   "metadata": {},
   "outputs": [
    {
     "data": {
      "text/plain": [
       "'Mas Pedro'"
      ]
     },
     "execution_count": 5,
     "metadata": {},
     "output_type": "execute_result"
    }
   ],
   "source": [
    "my_person.complete_name = \"Pedro Mas\"\n",
    "my_person.complete_name"
   ]
  },
  {
   "cell_type": "code",
   "execution_count": 6,
   "id": "c71aa1cd-86ed-44fc-96a9-2c4bbe21ca58",
   "metadata": {},
   "outputs": [
    {
     "data": {
      "text/plain": [
       "'Pedro'"
      ]
     },
     "execution_count": 6,
     "metadata": {},
     "output_type": "execute_result"
    }
   ],
   "source": [
    "my_person.name"
   ]
  },
  {
   "cell_type": "code",
   "execution_count": 7,
   "id": "dd99f587-63f9-488f-acdf-effeb37a2113",
   "metadata": {},
   "outputs": [
    {
     "data": {
      "text/plain": [
       "'Mas'"
      ]
     },
     "execution_count": 7,
     "metadata": {},
     "output_type": "execute_result"
    }
   ],
   "source": [
    "my_person.lastname"
   ]
  },
  {
   "cell_type": "code",
   "execution_count": 8,
   "id": "e590acdc-2131-4420-828b-70b23aa207f8",
   "metadata": {},
   "outputs": [],
   "source": [
    "del my_person.complete_name"
   ]
  },
  {
   "cell_type": "code",
   "execution_count": 9,
   "id": "3a05ca44-64e1-43e6-b908-a9c6b03deee8",
   "metadata": {},
   "outputs": [
    {
     "data": {
      "text/plain": [
       "'None None'"
      ]
     },
     "execution_count": 9,
     "metadata": {},
     "output_type": "execute_result"
    }
   ],
   "source": [
    "my_person.complete_name"
   ]
  }
 ],
 "metadata": {
  "kernelspec": {
   "display_name": "Python 3 (ipykernel)",
   "language": "python",
   "name": "python3"
  },
  "language_info": {
   "codemirror_mode": {
    "name": "ipython",
    "version": 3
   },
   "file_extension": ".py",
   "mimetype": "text/x-python",
   "name": "python",
   "nbconvert_exporter": "python",
   "pygments_lexer": "ipython3",
   "version": "3.10.4"
  }
 },
 "nbformat": 4,
 "nbformat_minor": 5
}
