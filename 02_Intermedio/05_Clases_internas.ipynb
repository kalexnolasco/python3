{
 "cells": [
  {
   "cell_type": "code",
   "execution_count": 1,
   "id": "6eab833a-6360-4046-b1eb-4be4f78587fb",
   "metadata": {},
   "outputs": [
    {
     "name": "stdout",
     "output_type": "stream",
     "text": [
      "Python 3.10.4\n"
     ]
    }
   ],
   "source": [
    "!python --version"
   ]
  },
  {
   "cell_type": "code",
   "execution_count": 2,
   "id": "25f70512-7d33-4df7-ab64-1a8158ecf168",
   "metadata": {},
   "outputs": [],
   "source": [
    "# Clase exterior\n",
    "class Student:\n",
    "    \n",
    "    def __init__(self, name, degree):\n",
    "        self.name = name\n",
    "        self.degree = degree\n",
    "        self.my_book = self.Book(\"Programming\", \"Nicosio\")\n",
    "    def show(self):\n",
    "        print(\"My name is \", self.name, \" and my degree is \", self.degree)\n",
    "        self.my_book.bibliography()\n",
    "    \n",
    "    # Clase interna\n",
    "    class Book:\n",
    "        \n",
    "        def __init__(self, title, author):\n",
    "            self.title = title\n",
    "            self.author = author\n",
    "        \n",
    "        def bibliography(self):\n",
    "            print(\"Title: \", self.title, \" and author: \", self.author)"
   ]
  },
  {
   "cell_type": "code",
   "execution_count": 3,
   "id": "ba58a44e-3cfd-4faa-84c0-afab2beae19f",
   "metadata": {},
   "outputs": [
    {
     "name": "stdout",
     "output_type": "stream",
     "text": [
      "My name is  Aldo  and my degree is  Math\n",
      "Title:  Programming  and author:  Nicosio\n"
     ]
    }
   ],
   "source": [
    "student1 = Student(\"Aldo\", \"Math\")\n",
    "student1.show()"
   ]
  },
  {
   "cell_type": "code",
   "execution_count": 4,
   "id": "89ca34c2-1946-4ae4-ade1-4a00ae855da9",
   "metadata": {},
   "outputs": [
    {
     "data": {
      "text/plain": [
       "'Programming'"
      ]
     },
     "execution_count": 4,
     "metadata": {},
     "output_type": "execute_result"
    }
   ],
   "source": [
    "# Se puede acceder a un atributro de la instacnia del objeto de la clase interna\n",
    "student1.my_book.title"
   ]
  },
  {
   "cell_type": "code",
   "execution_count": 5,
   "id": "689fd823-8217-4ffa-8d1f-c5e9e8e0c745",
   "metadata": {},
   "outputs": [
    {
     "name": "stdout",
     "output_type": "stream",
     "text": [
      "Title:  Programming  and author:  Nicosio\n"
     ]
    }
   ],
   "source": [
    "# Invocar el método de la clase interna\n",
    "student1.my_book.bibliography()"
   ]
  },
  {
   "cell_type": "code",
   "execution_count": 6,
   "id": "a09f60e1-fe27-4335-ac3d-a2862fa8877c",
   "metadata": {},
   "outputs": [
    {
     "name": "stdout",
     "output_type": "stream",
     "text": [
      "Title:  Unity  and author:  Nicolas Arrioja\n"
     ]
    }
   ],
   "source": [
    "# Crear una instancia a partir de la clase interna\n",
    "other_book = Student.Book(\"Unity\", \"Nicolas Arrioja\")\n",
    "other_book.bibliography()"
   ]
  }
 ],
 "metadata": {
  "kernelspec": {
   "display_name": "Python 3 (ipykernel)",
   "language": "python",
   "name": "python3"
  },
  "language_info": {
   "codemirror_mode": {
    "name": "ipython",
    "version": 3
   },
   "file_extension": ".py",
   "mimetype": "text/x-python",
   "name": "python",
   "nbconvert_exporter": "python",
   "pygments_lexer": "ipython3",
   "version": "3.10.4"
  }
 },
 "nbformat": 4,
 "nbformat_minor": 5
}
