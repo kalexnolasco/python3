{
 "cells": [
  {
   "cell_type": "code",
   "execution_count": 1,
   "id": "487f6181-f267-44cb-93c9-ad5f088253c7",
   "metadata": {},
   "outputs": [
    {
     "name": "stdout",
     "output_type": "stream",
     "text": [
      "Python 3.10.4\n"
     ]
    }
   ],
   "source": [
    "!python --version"
   ]
  },
  {
   "cell_type": "markdown",
   "id": "5c9722c9-7ac2-4805-b564-ae13fd9ba603",
   "metadata": {},
   "source": [
    "# Collections\n",
    "* Permite tener diferentes tipos de datos.\n",
    "* Los containers conocidos son -> `list`, `set`, `dict` y `tuple`.\n",
    "* Con **collections** se tienen nuevos tipos:\n",
    "  * `counter`\n",
    "  * `deque`\n",
    "  * `namedtuple`\n",
    "  * `orderdDict`\n",
    "  * `defaultDict`"
   ]
  },
  {
   "cell_type": "markdown",
   "id": "6e4ef7ae-a706-4e38-9da5-55869d58b875",
   "metadata": {},
   "source": [
    "## Counter\n",
    "* En el interior de counter puede ir cualquier colección.\n",
    "* Guarda la información en parejas->key:value **Como un diccionario, a diferencia que en Counter la key es cada elemento y value es el número de veces que aparece el elemento**"
   ]
  },
  {
   "cell_type": "code",
   "execution_count": 2,
   "id": "172eec52-85d2-4b1d-9cf8-8a841adb7b31",
   "metadata": {},
   "outputs": [],
   "source": [
    "from collections import Counter"
   ]
  },
  {
   "cell_type": "code",
   "execution_count": 3,
   "id": "1809f40b-99f0-44a0-a22f-6cd70395fd34",
   "metadata": {},
   "outputs": [
    {
     "data": {
      "text/plain": [
       "Counter({'N': 1, 'i': 2, 'c': 1, 'o': 2, 's': 1, 'r': 1, 'e': 1, 'd': 1})"
      ]
     },
     "execution_count": 3,
     "metadata": {},
     "output_type": "execute_result"
    }
   ],
   "source": [
    "# Con una cadena\n",
    "c1 = Counter(\"Nicosiored\")\n",
    "c1"
   ]
  },
  {
   "cell_type": "code",
   "execution_count": 4,
   "id": "aaee25c5-cf7e-4e9a-af72-ffa288544177",
   "metadata": {},
   "outputs": [
    {
     "data": {
      "text/plain": [
       "2"
      ]
     },
     "execution_count": 4,
     "metadata": {},
     "output_type": "execute_result"
    }
   ],
   "source": [
    "# Número de veces que aparece 'i'\n",
    "c1[\"i\"]"
   ]
  },
  {
   "cell_type": "code",
   "execution_count": 5,
   "id": "3b43d8f0-5a42-44bd-8ea0-69c1c1a8923f",
   "metadata": {},
   "outputs": [
    {
     "data": {
      "text/plain": [
       "Counter({'a': 4, 'e': 2, 'i': 1, 'o': 2, 'u': 1})"
      ]
     },
     "execution_count": 5,
     "metadata": {},
     "output_type": "execute_result"
    }
   ],
   "source": [
    "# Con una lista\n",
    "c2 = Counter([\"a\", \"e\", \"a\", \"i\", \"a\", \"e\", \"o\", \"a\", \"o\", \"u\"])\n",
    "c2"
   ]
  },
  {
   "cell_type": "code",
   "execution_count": 6,
   "id": "88dede4b-f71c-4f76-be8e-ab356097e167",
   "metadata": {},
   "outputs": [
    {
     "data": {
      "text/plain": [
       "Counter({'a': 1, 'e': 2})"
      ]
     },
     "execution_count": 6,
     "metadata": {},
     "output_type": "execute_result"
    }
   ],
   "source": [
    "# Con un diccionario\n",
    "c3 = Counter({\"a\": 1, \"e\": 2})\n",
    "c3"
   ]
  },
  {
   "cell_type": "code",
   "execution_count": 7,
   "id": "7f372084-82c5-439f-95be-78bf7a3e3706",
   "metadata": {},
   "outputs": [
    {
     "data": {
      "text/plain": [
       "Counter({'apple': 2, 'pear': 4})"
      ]
     },
     "execution_count": 7,
     "metadata": {},
     "output_type": "execute_result"
    }
   ],
   "source": [
    "# De forma explícita\n",
    "c4 = Counter(apple=2, pear=4)\n",
    "c4"
   ]
  },
  {
   "cell_type": "code",
   "execution_count": 8,
   "id": "2a83d216-dc8c-4dc5-bf12-4a67878e6072",
   "metadata": {},
   "outputs": [
    {
     "data": {
      "text/plain": [
       "0"
      ]
     },
     "execution_count": 8,
     "metadata": {},
     "output_type": "execute_result"
    }
   ],
   "source": [
    "# Si no hay elementos\n",
    "c4[\"banana\"]"
   ]
  },
  {
   "cell_type": "markdown",
   "id": "97be4e5f-c8de-4934-93bb-fa5f63308e77",
   "metadata": {},
   "source": [
    "### Métodos"
   ]
  },
  {
   "cell_type": "code",
   "execution_count": 9,
   "id": "d22cbcee-9101-405e-9eb1-7b90ace78075",
   "metadata": {},
   "outputs": [
    {
     "data": {
      "text/plain": [
       "['a', 'a', 'a', 'a', 'e', 'e', 'i', 'o', 'o', 'u']"
      ]
     },
     "execution_count": 9,
     "metadata": {},
     "output_type": "execute_result"
    }
   ],
   "source": [
    "# Obtener los elementos como una lista\n",
    "elements = list(c2.elements())\n",
    "elements"
   ]
  },
  {
   "cell_type": "code",
   "execution_count": 10,
   "id": "3e9d4e55-4bcc-4fe2-824d-3062990b05e7",
   "metadata": {},
   "outputs": [
    {
     "data": {
      "text/plain": [
       "[('a', 4), ('e', 2), ('o', 2), ('i', 1), ('u', 1)]"
      ]
     },
     "execution_count": 10,
     "metadata": {},
     "output_type": "execute_result"
    }
   ],
   "source": [
    "# Obtener elementos más comunes.\n",
    "c2.most_common()"
   ]
  },
  {
   "cell_type": "code",
   "execution_count": 11,
   "id": "fc40e356-1f09-4054-8650-35d4122bb410",
   "metadata": {},
   "outputs": [
    {
     "data": {
      "text/plain": [
       "[('a', 4)]"
      ]
     },
     "execution_count": 11,
     "metadata": {},
     "output_type": "execute_result"
    }
   ],
   "source": [
    "# El más común\n",
    "c2.most_common(1)"
   ]
  },
  {
   "cell_type": "code",
   "execution_count": 12,
   "id": "7c8ff4c7-5b88-4c7a-bafe-bb4fc988a4e3",
   "metadata": {},
   "outputs": [
    {
     "data": {
      "text/plain": [
       "[('a', 4), ('e', 2), ('o', 2)]"
      ]
     },
     "execution_count": 12,
     "metadata": {},
     "output_type": "execute_result"
    }
   ],
   "source": [
    "# El 3 más comunes\n",
    "c2.most_common(3)"
   ]
  },
  {
   "cell_type": "code",
   "execution_count": 13,
   "id": "485f9920-1432-4d41-9fd2-7192fa1f57f5",
   "metadata": {},
   "outputs": [
    {
     "name": "stdout",
     "output_type": "stream",
     "text": [
      "Counter({'a': 4, 'e': 2, 'o': 2, 'i': 1, 'u': 1})\n"
     ]
    },
    {
     "data": {
      "text/plain": [
       "Counter({'a': 2, 'e': 1, 'i': 1, 'o': 1, 'u': 0})"
      ]
     },
     "execution_count": 13,
     "metadata": {},
     "output_type": "execute_result"
    }
   ],
   "source": [
    "# Aritmética con los counters\n",
    "a = [\"a\", \"a\", \"e\", \"o\", \"u\"]\n",
    "print(c2)\n",
    "c2.subtract(a)\n",
    "c2"
   ]
  },
  {
   "cell_type": "code",
   "execution_count": 14,
   "id": "6b2a8465-e133-4f31-9531-b9df02588421",
   "metadata": {},
   "outputs": [
    {
     "name": "stdout",
     "output_type": "stream",
     "text": [
      "Counter({'a': 2, 'e': 1, 'i': 1, 'o': 1, 'u': 0})\n"
     ]
    },
    {
     "data": {
      "text/plain": [
       "Counter({'a': 4, 'e': 2, 'i': 1, 'o': 2, 'u': 1})"
      ]
     },
     "execution_count": 14,
     "metadata": {},
     "output_type": "execute_result"
    }
   ],
   "source": [
    "print(c2)\n",
    "c2.update(a)\n",
    "c2"
   ]
  },
  {
   "cell_type": "code",
   "execution_count": 15,
   "id": "22ed12be-b494-4106-8fc5-4c3f07adde22",
   "metadata": {},
   "outputs": [
    {
     "data": {
      "text/plain": [
       "Counter({'a': 4,\n",
       "         'e': 3,\n",
       "         'i': 3,\n",
       "         'o': 4,\n",
       "         'u': 1,\n",
       "         'N': 1,\n",
       "         'c': 1,\n",
       "         's': 1,\n",
       "         'r': 1,\n",
       "         'd': 1})"
      ]
     },
     "execution_count": 15,
     "metadata": {},
     "output_type": "execute_result"
    }
   ],
   "source": [
    "# Si el elemento es cero o menor que cero no se muestra cuando se realiza sumo o resta.\n",
    "c2 + c1"
   ]
  },
  {
   "cell_type": "code",
   "execution_count": 16,
   "id": "9ead50c2-4d6b-4949-aeee-1659b8249972",
   "metadata": {},
   "outputs": [
    {
     "data": {
      "text/plain": [
       "Counter({'a': 4, 'e': 1, 'u': 1})"
      ]
     },
     "execution_count": 16,
     "metadata": {},
     "output_type": "execute_result"
    }
   ],
   "source": [
    "c2 -c1 "
   ]
  },
  {
   "cell_type": "code",
   "execution_count": 17,
   "id": "bb003475-3c12-474e-9906-334f8ee0d935",
   "metadata": {},
   "outputs": [
    {
     "name": "stdout",
     "output_type": "stream",
     "text": [
      "Counter({'o': 2, 'i': 1, 'e': 1})\n",
      "Counter({'a': 4, 'i': 2, 'o': 2, 'e': 2, 'N': 1, 'c': 1, 's': 1, 'r': 1, 'd': 1, 'u': 1})\n"
     ]
    }
   ],
   "source": [
    "# Operaciones de conjunto\n",
    "## Interección\n",
    "print(c1 & c2)\n",
    "## Unión\n",
    "print(c1 | c2)"
   ]
  },
  {
   "cell_type": "code",
   "execution_count": 18,
   "id": "a8257edd-3615-429a-981f-95a93b25a20d",
   "metadata": {},
   "outputs": [
    {
     "name": "stdout",
     "output_type": "stream",
     "text": [
      "Counter({'a': 4, 'e': 2, 'o': 2, 'i': 1, 'u': 1})\n"
     ]
    },
    {
     "data": {
      "text/plain": [
       "Counter()"
      ]
     },
     "execution_count": 18,
     "metadata": {},
     "output_type": "execute_result"
    }
   ],
   "source": [
    "# Limpiar un counters\n",
    "print(c2)\n",
    "c2.clear()\n",
    "c2"
   ]
  },
  {
   "cell_type": "markdown",
   "id": "6dfcdac7-50e5-4072-ac19-a56eaf18d08f",
   "metadata": {},
   "source": [
    "## namedtuple\n",
    "* Permite trabajar con tuplas en los cuales los elementos de la tupla tienen un nombre en particular."
   ]
  },
  {
   "cell_type": "code",
   "execution_count": 19,
   "id": "7e51142c-9b13-4fe6-b657-c79faaf1afef",
   "metadata": {},
   "outputs": [],
   "source": [
    "from collections import namedtuple"
   ]
  },
  {
   "cell_type": "code",
   "execution_count": 20,
   "id": "aed34da2-c89f-4bb7-ace1-383f8f303519",
   "metadata": {},
   "outputs": [
    {
     "data": {
      "text/plain": [
       "My_Product(name='apple', price=17.5, total=20)"
      ]
     },
     "execution_count": 20,
     "metadata": {},
     "output_type": "execute_result"
    }
   ],
   "source": [
    "#namedtuple('NOMBRE_DE_LA_TUPLE',\"NOMBRES_DE_LOS_ELEMETOS_SEPARADOS_POR_ESPACIO\")\n",
    "Product = namedtuple(\"My_Product\", \"name price total\")\n",
    "product = Product(\"apple\", 17.50, 20)\n",
    "product"
   ]
  },
  {
   "cell_type": "code",
   "execution_count": 21,
   "id": "6316f150-2c63-4b96-8d9b-0459b85fa364",
   "metadata": {},
   "outputs": [
    {
     "data": {
      "text/plain": [
       "'apple'"
      ]
     },
     "execution_count": 21,
     "metadata": {},
     "output_type": "execute_result"
    }
   ],
   "source": [
    "# Contenido del elemento 0\n",
    "product[0]"
   ]
  },
  {
   "cell_type": "code",
   "execution_count": 22,
   "id": "19092376-8495-4b61-8f6a-0596c8554e2e",
   "metadata": {},
   "outputs": [
    {
     "data": {
      "text/plain": [
       "('name', 'price', 'total')"
      ]
     },
     "execution_count": 22,
     "metadata": {},
     "output_type": "execute_result"
    }
   ],
   "source": [
    "# Nombre de los campos\n",
    "product._fields"
   ]
  },
  {
   "cell_type": "code",
   "execution_count": 23,
   "id": "f6aba78f-b5e0-457c-bd4a-73f6a654171a",
   "metadata": {},
   "outputs": [
    {
     "data": {
      "text/plain": [
       "{'name': 'apple', 'price': 17.5, 'total': 20}"
      ]
     },
     "execution_count": 23,
     "metadata": {},
     "output_type": "execute_result"
    }
   ],
   "source": [
    "# La tupla como diccionario\n",
    "product._asdict()"
   ]
  },
  {
   "cell_type": "code",
   "execution_count": 24,
   "id": "893d93e9-88d0-4ccd-8014-d237a9d63b3e",
   "metadata": {},
   "outputs": [
    {
     "data": {
      "text/plain": [
       "My_Product(name='apple', price=50, total=20)"
      ]
     },
     "execution_count": 24,
     "metadata": {},
     "output_type": "execute_result"
    }
   ],
   "source": [
    "# Reemplazar un contenido\n",
    "product = product._replace(price=50)\n",
    "product"
   ]
  },
  {
   "cell_type": "code",
   "execution_count": 25,
   "id": "bb80ceeb-0ca4-4968-be39-4a922df4de1d",
   "metadata": {},
   "outputs": [
    {
     "data": {
      "text/plain": [
       "My_Product(name='Pear', price=11.5, total=10)"
      ]
     },
     "execution_count": 25,
     "metadata": {},
     "output_type": "execute_result"
    }
   ],
   "source": [
    "# Otra forma de crear la tpla\n",
    "product_2 = Product._make([\"Pear\", 11.50, 10])\n",
    "product_2"
   ]
  },
  {
   "cell_type": "markdown",
   "id": "af8fdea6-82ac-4585-95fc-8d07719d490a",
   "metadata": {},
   "source": [
    "## deque"
   ]
  },
  {
   "cell_type": "code",
   "execution_count": 26,
   "id": "e1a82aec-9221-4a01-a8af-3007a2aaa42b",
   "metadata": {},
   "outputs": [],
   "source": [
    "from collections import deque"
   ]
  },
  {
   "cell_type": "code",
   "execution_count": 27,
   "id": "7961f668-66b1-4017-aa66-2f1318ba5926",
   "metadata": {},
   "outputs": [
    {
     "data": {
      "text/plain": [
       "deque(['H', 'o', 'l', 'a', ' ', 'a', ' ', 't', 'o', 'd', 'o', 's'])"
      ]
     },
     "execution_count": 27,
     "metadata": {},
     "output_type": "execute_result"
    }
   ],
   "source": [
    "my_deque = deque(\"Hola a todos\")\n",
    "my_deque"
   ]
  },
  {
   "cell_type": "code",
   "execution_count": 28,
   "id": "2a94e2d2-9bf0-40e1-9804-a89ec82ea0de",
   "metadata": {},
   "outputs": [
    {
     "data": {
      "text/plain": [
       "deque(['H', 'o', 'l', 'a', ' ', 'a', ' ', 't', 'o', 'd', 'o', 's', 'z'])"
      ]
     },
     "execution_count": 28,
     "metadata": {},
     "output_type": "execute_result"
    }
   ],
   "source": [
    "# Adición de un carácter\n",
    "my_deque.append(\"z\")\n",
    "my_deque"
   ]
  },
  {
   "cell_type": "code",
   "execution_count": 29,
   "id": "5287321d-88e0-45ec-af4b-7ad017ce912b",
   "metadata": {},
   "outputs": [
    {
     "data": {
      "text/plain": [
       "deque(['H',\n",
       "       'o',\n",
       "       'l',\n",
       "       'a',\n",
       "       ' ',\n",
       "       'a',\n",
       "       ' ',\n",
       "       't',\n",
       "       'o',\n",
       "       'd',\n",
       "       'o',\n",
       "       's',\n",
       "       'z',\n",
       "       'nicosio'])"
      ]
     },
     "execution_count": 29,
     "metadata": {},
     "output_type": "execute_result"
    }
   ],
   "source": [
    "# Adición de una palabra\n",
    "my_deque.append(\"nicosio\")\n",
    "my_deque"
   ]
  },
  {
   "cell_type": "code",
   "execution_count": 30,
   "id": "ce3f6048-566e-442f-ab31-3750196b1bd7",
   "metadata": {},
   "outputs": [
    {
     "data": {
      "text/plain": [
       "deque(['H',\n",
       "       'o',\n",
       "       'l',\n",
       "       'a',\n",
       "       ' ',\n",
       "       'a',\n",
       "       ' ',\n",
       "       't',\n",
       "       'o',\n",
       "       'd',\n",
       "       'o',\n",
       "       's',\n",
       "       'z',\n",
       "       'nicosio',\n",
       "       20])"
      ]
     },
     "execution_count": 30,
     "metadata": {},
     "output_type": "execute_result"
    }
   ],
   "source": [
    "# Se puede adicionar otro tipo de elemento\n",
    "my_deque.append(20)\n",
    "my_deque"
   ]
  },
  {
   "cell_type": "code",
   "execution_count": 31,
   "id": "bc62d41f-967a-453c-99e5-96589602edfd",
   "metadata": {},
   "outputs": [
    {
     "name": "stdout",
     "output_type": "stream",
     "text": [
      "20\n"
     ]
    },
    {
     "data": {
      "text/plain": [
       "deque(['H',\n",
       "       'o',\n",
       "       'l',\n",
       "       'a',\n",
       "       ' ',\n",
       "       'a',\n",
       "       ' ',\n",
       "       't',\n",
       "       'o',\n",
       "       'd',\n",
       "       'o',\n",
       "       's',\n",
       "       'z',\n",
       "       'nicosio'])"
      ]
     },
     "execution_count": 31,
     "metadata": {},
     "output_type": "execute_result"
    }
   ],
   "source": [
    "# Hacer pop(), obtener último elemento y eliminarlo de la cola\n",
    "l = my_deque.pop()\n",
    "print(l)\n",
    "my_deque"
   ]
  },
  {
   "cell_type": "code",
   "execution_count": 32,
   "id": "fc70172f-77e9-4656-8eb4-51ab1c709429",
   "metadata": {},
   "outputs": [
    {
     "name": "stdout",
     "output_type": "stream",
     "text": [
      "H\n"
     ]
    },
    {
     "data": {
      "text/plain": [
       "deque(['o', 'l', 'a', ' ', 'a', ' ', 't', 'o', 'd', 'o', 's', 'z', 'nicosio'])"
      ]
     },
     "execution_count": 32,
     "metadata": {},
     "output_type": "execute_result"
    }
   ],
   "source": [
    "# POP de lado izquierdo\n",
    "l =  my_deque.popleft()\n",
    "print(l)\n",
    "my_deque"
   ]
  },
  {
   "cell_type": "code",
   "execution_count": 33,
   "id": "3f66e6d5-0007-40d9-ba09-e57c720f9aa5",
   "metadata": {},
   "outputs": [
    {
     "data": {
      "text/plain": [
       "deque(['o',\n",
       "       'l',\n",
       "       'a',\n",
       "       ' ',\n",
       "       'a',\n",
       "       ' ',\n",
       "       't',\n",
       "       'o',\n",
       "       'd',\n",
       "       'o',\n",
       "       's',\n",
       "       'z',\n",
       "       'nicosio',\n",
       "       1,\n",
       "       2,\n",
       "       3])"
      ]
     },
     "execution_count": 33,
     "metadata": {},
     "output_type": "execute_result"
    }
   ],
   "source": [
    "# Extender\n",
    "my_deque.extend([1,2,3])\n",
    "my_deque"
   ]
  },
  {
   "cell_type": "code",
   "execution_count": 34,
   "id": "78b688f1-80d8-49fc-9991-22382aeb5517",
   "metadata": {},
   "outputs": [
    {
     "data": {
      "text/plain": [
       "deque([7,\n",
       "       6,\n",
       "       5,\n",
       "       'o',\n",
       "       'l',\n",
       "       'a',\n",
       "       ' ',\n",
       "       'a',\n",
       "       ' ',\n",
       "       't',\n",
       "       'o',\n",
       "       'd',\n",
       "       'o',\n",
       "       's',\n",
       "       'z',\n",
       "       'nicosio',\n",
       "       1,\n",
       "       2,\n",
       "       3])"
      ]
     },
     "execution_count": 34,
     "metadata": {},
     "output_type": "execute_result"
    }
   ],
   "source": [
    "# Extender por la izquierda\n",
    "my_deque.extendleft([5,6,7])\n",
    "my_deque"
   ]
  },
  {
   "cell_type": "code",
   "execution_count": 35,
   "id": "9a7b1e02-1810-46b8-8541-ccfd861050fc",
   "metadata": {},
   "outputs": [
    {
     "name": "stdout",
     "output_type": "stream",
     "text": [
      "deque([7, 6, 5, 'o', 'l', 'a', ' ', 'a', ' ', 't', 'o', 'd', 'o', 's', 'z', 'nicosio', 1, 2, 3])\n",
      "deque([1, 2, 3, 7, 6, 5, 'o', 'l', 'a', ' ', 'a', ' ', 't', 'o', 'd', 'o', 's', 'z', 'nicosio'])\n"
     ]
    }
   ],
   "source": [
    "#  rotate  una cantidad exacta\n",
    "print(my_deque)\n",
    "my_deque.rotate(3)\n",
    "print(my_deque)"
   ]
  },
  {
   "cell_type": "code",
   "execution_count": 36,
   "id": "42eb0279-b9f1-4ca2-b753-e0222df0a06d",
   "metadata": {},
   "outputs": [
    {
     "data": {
      "text/plain": [
       "deque(['nicosio',\n",
       "       'z',\n",
       "       's',\n",
       "       'o',\n",
       "       'd',\n",
       "       'o',\n",
       "       't',\n",
       "       ' ',\n",
       "       'a',\n",
       "       ' ',\n",
       "       'a',\n",
       "       'l',\n",
       "       'o',\n",
       "       5,\n",
       "       6,\n",
       "       7,\n",
       "       3,\n",
       "       2,\n",
       "       1])"
      ]
     },
     "execution_count": 36,
     "metadata": {},
     "output_type": "execute_result"
    }
   ],
   "source": [
    "#reverstir\n",
    "my_deque.reverse()\n",
    "my_deque"
   ]
  }
 ],
 "metadata": {
  "kernelspec": {
   "display_name": "Python 3 (ipykernel)",
   "language": "python",
   "name": "python3"
  },
  "language_info": {
   "codemirror_mode": {
    "name": "ipython",
    "version": 3
   },
   "file_extension": ".py",
   "mimetype": "text/x-python",
   "name": "python",
   "nbconvert_exporter": "python",
   "pygments_lexer": "ipython3",
   "version": "3.10.4"
  }
 },
 "nbformat": 4,
 "nbformat_minor": 5
}
